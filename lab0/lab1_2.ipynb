{
 "cells": [
  {
   "cell_type": "code",
   "execution_count": 15,
   "metadata": {
    "ExecuteTime": {
     "end_time": "2021-10-02T07:25:45.092215Z",
     "start_time": "2021-10-02T07:25:45.088628Z"
    }
   },
   "outputs": [],
   "source": [
    "import torch\n",
    "import numpy as np"
   ]
  },
  {
   "cell_type": "markdown",
   "metadata": {},
   "source": [
    "Tensory w PyTorchu to specjalne struktury danych które przypominają tablice/macierze. Używamy ich do przechowywania wejśc/wyjść z sieci jak również wag modelu.\n",
    "Tensory przypominają swoją budową tablice numpy https://numpy.org/, z zasadniczą różnicą ktorą jest łatwa możliwość przechowywania i operowania na tensorach na kartach graficznych "
   ]
  },
  {
   "cell_type": "markdown",
   "metadata": {},
   "source": [
    "Tensory mogą być tworzone w różny sposób:\n",
    "1. Ze standardowych tablic"
   ]
  },
  {
   "cell_type": "code",
   "execution_count": 16,
   "metadata": {
    "ExecuteTime": {
     "end_time": "2021-10-02T07:30:36.852716Z",
     "start_time": "2021-10-02T07:30:36.836701Z"
    }
   },
   "outputs": [
    {
     "data": {
      "text/plain": [
       "tensor([[1, 2],\n",
       "        [3, 4]])"
      ]
     },
     "execution_count": 16,
     "metadata": {},
     "output_type": "execute_result"
    }
   ],
   "source": [
    "data = [[1, 2],[3, 4]]\n",
    "x_data = torch.tensor(data)\n",
    "x_data"
   ]
  },
  {
   "cell_type": "markdown",
   "metadata": {
    "ExecuteTime": {
     "end_time": "2021-10-02T07:40:32.096100Z",
     "start_time": "2021-10-02T07:40:32.090797Z"
    }
   },
   "source": [
    "2. Na poodstawie tablic numpy"
   ]
  },
  {
   "cell_type": "code",
   "execution_count": 17,
   "metadata": {
    "ExecuteTime": {
     "end_time": "2021-10-02T07:30:58.706974Z",
     "start_time": "2021-10-02T07:30:58.700523Z"
    }
   },
   "outputs": [
    {
     "data": {
      "text/plain": [
       "tensor([[1, 2],\n",
       "        [3, 4]])"
      ]
     },
     "execution_count": 17,
     "metadata": {},
     "output_type": "execute_result"
    }
   ],
   "source": [
    "np_array = np.array(data)\n",
    "x_np = torch.from_numpy(np_array) # !!!!!!\n",
    "x_np"
   ]
  },
  {
   "cell_type": "markdown",
   "metadata": {},
   "source": [
    "3. Na podstawie innych tensorów"
   ]
  },
  {
   "cell_type": "code",
   "execution_count": 18,
   "metadata": {
    "ExecuteTime": {
     "end_time": "2021-10-02T08:11:15.304729Z",
     "start_time": "2021-10-02T08:11:15.296087Z"
    },
    "scrolled": true
   },
   "outputs": [
    {
     "name": "stdout",
     "output_type": "stream",
     "text": [
      "Ones Tensor: \n",
      " tensor([[1, 1],\n",
      "        [1, 1]]) \n",
      "\n",
      "Random Tensor: \n",
      " tensor([[0.1725, 0.6589],\n",
      "        [0.6526, 0.5250]]) \n",
      "\n"
     ]
    }
   ],
   "source": [
    "x_ones = torch.ones_like(x_data) # retains the properties of x_data\n",
    "print(f\"Ones Tensor: \\n {x_ones} \\n\")\n",
    "\n",
    "x_rand = torch.rand_like(x_data, dtype=torch.float) # overrides the datatype of x_data\n",
    "print(f\"Random Tensor: \\n {x_rand} \\n\")"
   ]
  },
  {
   "cell_type": "markdown",
   "metadata": {},
   "source": [
    "4. Z losowymi lub stałymi wartościami"
   ]
  },
  {
   "cell_type": "code",
   "execution_count": 19,
   "metadata": {
    "ExecuteTime": {
     "end_time": "2021-10-02T08:12:18.091063Z",
     "start_time": "2021-10-02T08:12:18.081252Z"
    }
   },
   "outputs": [
    {
     "name": "stdout",
     "output_type": "stream",
     "text": [
      "Random Tensor: \n",
      " tensor([[0.4995, 0.2215, 0.7064],\n",
      "        [0.2623, 0.9642, 0.8687]]) \n",
      "\n",
      "Ones Tensor: \n",
      " tensor([[1., 1., 1.],\n",
      "        [1., 1., 1.]]) \n",
      "\n",
      "Zeros Tensor: \n",
      " tensor([[0., 0., 0.],\n",
      "        [0., 0., 0.]]) \n",
      "\n"
     ]
    }
   ],
   "source": [
    "shape = (2,3,)\n",
    "rand_tensor = torch.rand(shape)\n",
    "print(f\"Random Tensor: \\n {rand_tensor} \\n\")\n",
    "ones_tensor = torch.ones(shape)\n",
    "print(f\"Ones Tensor: \\n {ones_tensor} \\n\")\n",
    "zeros_tensor = torch.zeros(shape)\n",
    "print(f\"Zeros Tensor: \\n {zeros_tensor} \\n\")"
   ]
  },
  {
   "cell_type": "markdown",
   "metadata": {},
   "source": [
    "### Atrybuty tensorów"
   ]
  },
  {
   "cell_type": "code",
   "execution_count": 20,
   "metadata": {
    "ExecuteTime": {
     "end_time": "2021-10-02T08:13:37.099437Z",
     "start_time": "2021-10-02T08:13:37.093178Z"
    }
   },
   "outputs": [
    {
     "name": "stdout",
     "output_type": "stream",
     "text": [
      "Shape of tensor: torch.Size([3, 4])\n",
      "Datatype of tensor: torch.float32\n",
      "Device tensor is stored on: cpu\n"
     ]
    }
   ],
   "source": [
    "tensor = torch.rand(3,4)\n",
    "\n",
    "print(f\"Shape of tensor: {tensor.shape}\")\n",
    "print(f\"Datatype of tensor: {tensor.dtype}\")\n",
    "print(f\"Device tensor is stored on: {tensor.device}\")"
   ]
  },
  {
   "cell_type": "markdown",
   "metadata": {},
   "source": [
    "### Operacje na tensorach"
   ]
  },
  {
   "cell_type": "markdown",
   "metadata": {},
   "source": [
    "Nie ma co się bać dokumentacji! (Jest bardzo przyjemnie napisana) Wszystkie operacje na tensorach są opisane tutaj: https://pytorch.org/docs/stable/torch.html\n",
    "Standardowo operacje są uruchamiane na CPU, ale można przenosić tensory, całe modele i **wszystkie operacje** na GPU (co zazwyczaj jest szybsze) za pomocą prostej komendy. Przetestujemy to w kolejnych częściach laboratorium"
   ]
  },
  {
   "cell_type": "markdown",
   "metadata": {},
   "source": [
    "#### Standardowe indeksowanie i slicing"
   ]
  },
  {
   "cell_type": "code",
   "execution_count": 21,
   "metadata": {
    "ExecuteTime": {
     "end_time": "2021-10-02T10:11:36.753663Z",
     "start_time": "2021-10-02T10:11:36.741253Z"
    }
   },
   "outputs": [
    {
     "name": "stdout",
     "output_type": "stream",
     "text": [
      "First row:  tensor([0.2950, 0.1485, 0.6876, 0.0805])\n",
      "First column:  tensor([0.2950, 0.3820, 0.5843, 0.3182])\n",
      "Last column: tensor([0.0805, 0.5975, 0.3554, 0.7141])\n",
      "tensor([[0.2950, 0.0000, 0.6876, 0.0805],\n",
      "        [0.3820, 0.0000, 0.8652, 0.5975],\n",
      "        [0.5843, 0.0000, 0.2388, 0.3554],\n",
      "        [0.3182, 0.0000, 0.6435, 0.7141]])\n"
     ]
    }
   ],
   "source": [
    "tensor = torch.rand(4, 4)\n",
    "print('First row: ', tensor[0])\n",
    "print('First column: ', tensor[:, 0])\n",
    "print('Last column:', tensor[:, -1])\n",
    "tensor[:,1] = 0\n",
    "print(tensor)"
   ]
  },
  {
   "cell_type": "markdown",
   "metadata": {},
   "source": [
    "#### Transponowanie tensorów"
   ]
  },
  {
   "cell_type": "code",
   "execution_count": 22,
   "metadata": {
    "ExecuteTime": {
     "end_time": "2021-10-02T11:38:58.853329Z",
     "start_time": "2021-10-02T11:38:58.848862Z"
    }
   },
   "outputs": [
    {
     "name": "stdout",
     "output_type": "stream",
     "text": [
      "tensor([[1., 0., 2.],\n",
      "        [1., 0., 2.],\n",
      "        [1., 0., 2.],\n",
      "        [3., 3., 3.]])\n",
      "Tensor shape:torch.Size([4, 3])\n",
      "\n",
      "tensor([[1., 1., 1., 3.],\n",
      "        [0., 0., 0., 3.],\n",
      "        [2., 2., 2., 3.]])\n",
      "Transposed tensor shape:torch.Size([3, 4])\n"
     ]
    }
   ],
   "source": [
    "tensor = torch.ones(4, 3)\n",
    "tensor[:,1] = 0\n",
    "tensor[:,2] = 2\n",
    "tensor[3,:] = 3\n",
    "print(tensor)\n",
    "print(f\"Tensor shape:{tensor.shape}\\n\")\n",
    "tensor2 = tensor.T\n",
    "print(tensor2)\n",
    "print(f\"Transposed tensor shape:{tensor2.shape}\")"
   ]
  },
  {
   "cell_type": "markdown",
   "metadata": {},
   "source": [
    "#### Zmiana wymiarów"
   ]
  },
  {
   "cell_type": "code",
   "execution_count": 23,
   "metadata": {
    "ExecuteTime": {
     "end_time": "2021-10-02T11:06:31.339499Z",
     "start_time": "2021-10-02T11:06:31.325198Z"
    }
   },
   "outputs": [
    {
     "name": "stdout",
     "output_type": "stream",
     "text": [
      "tensor([0, 1, 2, 3, 4, 5, 6, 7, 8, 9])\n",
      "Tensor shape:torch.Size([10])\n",
      "\n",
      "tensor([[0, 1, 2, 3, 4, 5, 6, 7, 8, 9]])\n",
      "Tensor shape:torch.Size([1, 10])\n",
      "\n",
      "tensor([[0],\n",
      "        [1],\n",
      "        [2],\n",
      "        [3],\n",
      "        [4],\n",
      "        [5],\n",
      "        [6],\n",
      "        [7],\n",
      "        [8],\n",
      "        [9]])\n",
      "Tensor shape:torch.Size([10, 1])\n",
      "\n",
      "tensor([[0, 1],\n",
      "        [2, 3],\n",
      "        [4, 5],\n",
      "        [6, 7],\n",
      "        [8, 9]])\n",
      "Tensor shape:torch.Size([5, 2])\n",
      "\n"
     ]
    }
   ],
   "source": [
    "tensor = torch.arange(10)\n",
    "print(tensor)\n",
    "print(f\"Tensor shape:{tensor.shape}\\n\")\n",
    "\n",
    "tensor2 = tensor.unsqueeze(dim=0)\n",
    "print(tensor2)\n",
    "print(f\"Tensor shape:{tensor2.shape}\\n\")\n",
    "\n",
    "tensor3 = tensor.unsqueeze(dim=1)\n",
    "print(tensor3)\n",
    "print(f\"Tensor shape:{tensor3.shape}\\n\")\n",
    "\n",
    "tensor4 = tensor.view(5,2)\n",
    "print(tensor4)\n",
    "print(f\"Tensor shape:{tensor4.shape}\\n\")"
   ]
  },
  {
   "cell_type": "markdown",
   "metadata": {},
   "source": [
    "#### Łączenie tensorów"
   ]
  },
  {
   "cell_type": "code",
   "execution_count": 24,
   "metadata": {
    "ExecuteTime": {
     "end_time": "2021-10-02T11:06:55.663650Z",
     "start_time": "2021-10-02T11:06:55.655639Z"
    }
   },
   "outputs": [
    {
     "name": "stdout",
     "output_type": "stream",
     "text": [
      "tensor([[1., 0., 2., 1., 0., 2., 1., 0., 2.],\n",
      "        [1., 0., 2., 1., 0., 2., 1., 0., 2.],\n",
      "        [1., 0., 2., 1., 0., 2., 1., 0., 2.],\n",
      "        [3., 3., 3., 3., 3., 3., 3., 3., 3.]])\n"
     ]
    }
   ],
   "source": [
    "tensor = torch.ones(4, 3)\n",
    "tensor[:,1] = 0\n",
    "tensor[:,2] = 2\n",
    "tensor[3,:] = 3\n",
    "t1 = torch.cat([tensor, tensor, tensor], dim=1)\n",
    "print(t1)"
   ]
  },
  {
   "cell_type": "code",
   "execution_count": 25,
   "metadata": {
    "ExecuteTime": {
     "end_time": "2021-10-02T11:06:55.947198Z",
     "start_time": "2021-10-02T11:06:55.940055Z"
    }
   },
   "outputs": [
    {
     "name": "stdout",
     "output_type": "stream",
     "text": [
      "tensor([[1., 0., 2.],\n",
      "        [1., 0., 2.],\n",
      "        [1., 0., 2.],\n",
      "        [3., 3., 3.],\n",
      "        [1., 0., 2.],\n",
      "        [1., 0., 2.],\n",
      "        [1., 0., 2.],\n",
      "        [3., 3., 3.],\n",
      "        [1., 0., 2.],\n",
      "        [1., 0., 2.],\n",
      "        [1., 0., 2.],\n",
      "        [3., 3., 3.]])\n"
     ]
    }
   ],
   "source": [
    "t1 = torch.cat([tensor, tensor, tensor], dim=0)\n",
    "print(t1)"
   ]
  },
  {
   "cell_type": "code",
   "execution_count": 26,
   "metadata": {
    "ExecuteTime": {
     "end_time": "2021-10-02T11:06:56.262340Z",
     "start_time": "2021-10-02T11:06:56.255271Z"
    }
   },
   "outputs": [
    {
     "name": "stdout",
     "output_type": "stream",
     "text": [
      "tensor([[[1., 0., 2.],\n",
      "         [1., 0., 2.],\n",
      "         [1., 0., 2.],\n",
      "         [3., 3., 3.]],\n",
      "\n",
      "        [[1., 0., 2.],\n",
      "         [1., 0., 2.],\n",
      "         [1., 0., 2.],\n",
      "         [3., 3., 3.]],\n",
      "\n",
      "        [[1., 0., 2.],\n",
      "         [1., 0., 2.],\n",
      "         [1., 0., 2.],\n",
      "         [3., 3., 3.]]])\n"
     ]
    }
   ],
   "source": [
    "t1 = torch.stack([tensor, tensor, tensor])\n",
    "print(t1)"
   ]
  },
  {
   "cell_type": "code",
   "execution_count": 27,
   "metadata": {
    "ExecuteTime": {
     "end_time": "2021-10-02T11:06:58.225374Z",
     "start_time": "2021-10-02T11:06:58.217586Z"
    }
   },
   "outputs": [
    {
     "name": "stdout",
     "output_type": "stream",
     "text": [
      "torch.Size([3, 5, 4])\n",
      "torch.Size([5, 3, 4])\n",
      "torch.Size([5, 4, 3])\n"
     ]
    }
   ],
   "source": [
    "tensor = torch.rand(5,4)\n",
    "t1 = torch.stack([tensor, tensor, tensor],dim=0)\n",
    "print(t1.shape)\n",
    "t1 = torch.stack([tensor, tensor, tensor],dim=1)\n",
    "print(t1.shape)\n",
    "t1 = torch.stack([tensor, tensor, tensor],dim=2)\n",
    "print(t1.shape)"
   ]
  },
  {
   "cell_type": "code",
   "execution_count": 28,
   "metadata": {
    "ExecuteTime": {
     "end_time": "2021-10-02T11:07:05.297235Z",
     "start_time": "2021-10-02T11:07:05.275962Z"
    }
   },
   "outputs": [
    {
     "ename": "IndexError",
     "evalue": "Dimension out of range (expected to be in range of [-3, 2], but got 3)",
     "output_type": "error",
     "traceback": [
      "\u001b[31m---------------------------------------------------------------------------\u001b[39m",
      "\u001b[31mIndexError\u001b[39m                                Traceback (most recent call last)",
      "\u001b[36mCell\u001b[39m\u001b[36m \u001b[39m\u001b[32mIn[28]\u001b[39m\u001b[32m, line 1\u001b[39m\n\u001b[32m----> \u001b[39m\u001b[32m1\u001b[39m t1 = \u001b[43mtorch\u001b[49m\u001b[43m.\u001b[49m\u001b[43mstack\u001b[49m\u001b[43m(\u001b[49m\u001b[43m[\u001b[49m\u001b[43mtensor\u001b[49m\u001b[43m,\u001b[49m\u001b[43m \u001b[49m\u001b[43mtensor\u001b[49m\u001b[43m,\u001b[49m\u001b[43m \u001b[49m\u001b[43mtensor\u001b[49m\u001b[43m]\u001b[49m\u001b[43m,\u001b[49m\u001b[43mdim\u001b[49m\u001b[43m=\u001b[49m\u001b[32;43m3\u001b[39;49m\u001b[43m)\u001b[49m\n\u001b[32m      2\u001b[39m \u001b[38;5;28mprint\u001b[39m(t1.shape)\n",
      "\u001b[31mIndexError\u001b[39m: Dimension out of range (expected to be in range of [-3, 2], but got 3)"
     ]
    }
   ],
   "source": [
    "t1 = torch.stack([tensor, tensor, tensor],dim=3)\n",
    "print(t1.shape)"
   ]
  },
  {
   "cell_type": "markdown",
   "metadata": {},
   "source": [
    "#### Operacje arytmetyczne"
   ]
  },
  {
   "cell_type": "code",
   "execution_count": 29,
   "metadata": {
    "ExecuteTime": {
     "end_time": "2021-10-02T11:07:08.039606Z",
     "start_time": "2021-10-02T11:07:08.028588Z"
    }
   },
   "outputs": [
    {
     "name": "stdout",
     "output_type": "stream",
     "text": [
      "tensor([[1., 0., 2., 1.],\n",
      "        [1., 0., 2., 1.],\n",
      "        [1., 0., 2., 1.],\n",
      "        [3., 3., 3., 3.]])\n",
      "tensor([[3., 2., 4., 3.],\n",
      "        [3., 2., 4., 3.],\n",
      "        [3., 2., 4., 3.],\n",
      "        [5., 5., 5., 5.]])\n",
      "tensor([[ 5.,  0., 10.,  5.],\n",
      "        [ 5.,  0., 10.,  5.],\n",
      "        [ 5.,  0., 10.,  5.],\n",
      "        [15., 15., 15., 15.]])\n"
     ]
    }
   ],
   "source": [
    "tensor = torch.ones(4, 4)\n",
    "tensor[:,1] = 0\n",
    "tensor[:,2] = 2\n",
    "tensor[3,:] = 3\n",
    "\n",
    "print(tensor)\n",
    "print(tensor+2)\n",
    "print(tensor*5)"
   ]
  },
  {
   "cell_type": "markdown",
   "metadata": {},
   "source": [
    "#### Operacje na elementach"
   ]
  },
  {
   "cell_type": "code",
   "execution_count": null,
   "metadata": {
    "ExecuteTime": {
     "end_time": "2021-10-02T11:07:10.391010Z",
     "start_time": "2021-10-02T11:07:10.383758Z"
    }
   },
   "outputs": [
    {
     "data": {
      "text/plain": [
       "tensor([[1., 0., 4., 1.],\n",
       "        [1., 0., 4., 1.],\n",
       "        [1., 0., 4., 1.],\n",
       "        [9., 9., 9., 9.]])"
      ]
     },
     "execution_count": 20,
     "metadata": {},
     "output_type": "execute_result"
    }
   ],
   "source": [
    "tensor * tensor"
   ]
  },
  {
   "cell_type": "code",
   "execution_count": null,
   "metadata": {
    "ExecuteTime": {
     "end_time": "2021-10-02T11:07:11.465007Z",
     "start_time": "2021-10-02T11:07:11.458440Z"
    }
   },
   "outputs": [
    {
     "data": {
      "text/plain": [
       "tensor([[2., 0., 4., 2.],\n",
       "        [2., 0., 4., 2.],\n",
       "        [2., 0., 4., 2.],\n",
       "        [6., 6., 6., 6.]])"
      ]
     },
     "execution_count": 21,
     "metadata": {},
     "output_type": "execute_result"
    }
   ],
   "source": [
    "tensor + tensor"
   ]
  },
  {
   "cell_type": "code",
   "execution_count": null,
   "metadata": {
    "ExecuteTime": {
     "end_time": "2021-10-02T11:09:15.603003Z",
     "start_time": "2021-10-02T11:09:15.595494Z"
    }
   },
   "outputs": [
    {
     "name": "stdout",
     "output_type": "stream",
     "text": [
      "tensor([[3.0819, 0.4200, 3.6778, 5.0946],\n",
      "        [1.9248, 0.1619, 6.0345, 6.1516],\n",
      "        [2.5393, 6.2848, 4.2925, 0.8208],\n",
      "        [6.9957, 9.6152, 4.7226, 5.2713]])\n",
      "tensor([[3.0819,    inf, 1.8389, 5.0946],\n",
      "        [1.9248,    inf, 3.0172, 6.1516],\n",
      "        [2.5393,    inf, 2.1462, 0.8208],\n",
      "        [2.3319, 3.2051, 1.5742, 1.7571]])\n"
     ]
    }
   ],
   "source": [
    "rand_tensor = torch.rand(4,4)*10\n",
    "print(rand_tensor)\n",
    "print(rand_tensor / tensor)"
   ]
  },
  {
   "cell_type": "code",
   "execution_count": null,
   "metadata": {
    "ExecuteTime": {
     "end_time": "2021-10-02T11:09:23.306890Z",
     "start_time": "2021-10-02T11:09:23.299942Z"
    }
   },
   "outputs": [
    {
     "name": "stdout",
     "output_type": "stream",
     "text": [
      "tensor([[7., inf, 0., 0.],\n",
      "        [5., inf, 3., 3.],\n",
      "        [0., inf, 2., 4.],\n",
      "        [0., 0., 0., 1.]])\n",
      "torch.FloatTensor\n"
     ]
    }
   ],
   "source": [
    "rand_tensor = torch.rand(4,4)*10\n",
    "print(rand_tensor // tensor)\n",
    "print((tensor / tensor).type())"
   ]
  },
  {
   "cell_type": "markdown",
   "metadata": {},
   "source": [
    "### Mini zadanie na plusa, mozna wysłać po zajęciach"
   ]
  },
  {
   "cell_type": "markdown",
   "metadata": {},
   "source": [
    "Stwórz macierz dwuwymiarową której wartości będą kolejnymi numerami od 1 do zadanej liczby x. Nie uzywaj pętli."
   ]
  },
  {
   "cell_type": "markdown",
   "metadata": {},
   "source": [
    "Hint: https://pytorch.org/docs/stable/torch.html"
   ]
  },
  {
   "cell_type": "code",
   "execution_count": null,
   "metadata": {},
   "outputs": [
    {
     "name": "stdout",
     "output_type": "stream",
     "text": [
      "tensor([[1, 2],\n",
      "        [3, 4]])\n"
     ]
    }
   ],
   "source": [
    "def tensor_range(x: int):\n",
    "    t = torch.tensor(range(1, x))\n",
    "    t = t.view(2,-1)\n",
    "    return t\n",
    "\n",
    "print(tensor_range(5))"
   ]
  },
  {
   "cell_type": "markdown",
   "metadata": {},
   "source": [
    "### Operacje macierzowe"
   ]
  },
  {
   "cell_type": "code",
   "execution_count": null,
   "metadata": {
    "ExecuteTime": {
     "end_time": "2021-10-02T11:22:39.848027Z",
     "start_time": "2021-10-02T11:22:39.839687Z"
    }
   },
   "outputs": [
    {
     "name": "stdout",
     "output_type": "stream",
     "text": [
      "tensor([[1., 1., 1.],\n",
      "        [0., 0., 0.],\n",
      "        [1., 1., 1.],\n",
      "        [1., 1., 1.]])\n",
      "tensor([[1., 0., 1., 1.],\n",
      "        [1., 0., 1., 1.],\n",
      "        [1., 0., 1., 1.]])\n"
     ]
    }
   ],
   "source": [
    "tensor = torch.ones(4, 3)\n",
    "tensor[1,:] = 0\n",
    "print(tensor)\n",
    "print(tensor.T)"
   ]
  },
  {
   "cell_type": "code",
   "execution_count": null,
   "metadata": {
    "ExecuteTime": {
     "end_time": "2021-10-02T11:23:26.828757Z",
     "start_time": "2021-10-02T11:23:26.820257Z"
    }
   },
   "outputs": [
    {
     "name": "stdout",
     "output_type": "stream",
     "text": [
      "tensor([[ 6.,  6.,  6., 12.],\n",
      "        [ 6.,  6.,  6., 12.],\n",
      "        [ 6.,  6.,  6., 12.],\n",
      "        [12., 12., 12., 36.]]) \n",
      "\n",
      "tensor([[ 6.,  6.,  6., 12.],\n",
      "        [ 6.,  6.,  6., 12.],\n",
      "        [ 6.,  6.,  6., 12.],\n",
      "        [12., 12., 12., 36.]])\n"
     ]
    }
   ],
   "source": [
    "y1 = tensor.matmul(tensor.T)\n",
    "print(y1,\"\\n\")\n",
    "y2 = tensor @ tensor.T\n",
    "print(y2)"
   ]
  },
  {
   "cell_type": "markdown",
   "metadata": {},
   "source": [
    "### Zaawansowany przykład - regresja"
   ]
  },
  {
   "cell_type": "markdown",
   "metadata": {},
   "source": [
    "Dla wszystkich którzy potrzebują powtórki z matmy: https://mml-book.github.io/"
   ]
  },
  {
   "cell_type": "code",
   "execution_count": null,
   "metadata": {
    "ExecuteTime": {
     "end_time": "2021-10-02T11:42:22.367139Z",
     "start_time": "2021-10-02T11:42:22.362204Z"
    }
   },
   "outputs": [],
   "source": [
    "apples_kg_ordered = [2,4,7,3,13]\n",
    "plums_kg_ordered = [3,8,9,1,1]\n",
    "prices = [11.97 , 28.05, 38.98, 10.96, 41.1]"
   ]
  },
  {
   "cell_type": "code",
   "execution_count": null,
   "metadata": {
    "ExecuteTime": {
     "end_time": "2021-10-02T11:42:22.582160Z",
     "start_time": "2021-10-02T11:42:22.575577Z"
    }
   },
   "outputs": [
    {
     "name": "stdout",
     "output_type": "stream",
     "text": [
      "tensor([[ 2,  4,  7,  3, 13],\n",
      "        [ 3,  8,  9,  1,  1]])\n",
      "tensor([11.9700, 28.0500, 38.9800, 10.9600, 41.1000])\n"
     ]
    }
   ],
   "source": [
    "X = torch.tensor([apples_kg_ordered,plums_kg_ordered])\n",
    "Y = torch.tensor(prices)\n",
    "print(X)\n",
    "print(Y)"
   ]
  },
  {
   "cell_type": "code",
   "execution_count": null,
   "metadata": {
    "ExecuteTime": {
     "end_time": "2021-10-02T11:42:23.058857Z",
     "start_time": "2021-10-02T11:42:23.051771Z"
    }
   },
   "outputs": [
    {
     "data": {
      "text/plain": [
       "tensor([[ 2.,  3.],\n",
       "        [ 4.,  8.],\n",
       "        [ 7.,  9.],\n",
       "        [ 3.,  1.],\n",
       "        [13.,  1.]])"
      ]
     },
     "execution_count": 42,
     "metadata": {},
     "output_type": "execute_result"
    }
   ],
   "source": [
    "X = X.T.float()\n",
    "X"
   ]
  },
  {
   "cell_type": "code",
   "execution_count": null,
   "metadata": {
    "ExecuteTime": {
     "end_time": "2021-10-02T11:42:23.549644Z",
     "start_time": "2021-10-02T11:42:23.542906Z"
    }
   },
   "outputs": [
    {
     "data": {
      "text/plain": [
       "tensor([3.0065, 1.9963])"
      ]
     },
     "execution_count": 43,
     "metadata": {},
     "output_type": "execute_result"
    }
   ],
   "source": [
    "theta = torch.inverse((X.T@X))@X.T@Y\n",
    "theta "
   ]
  },
  {
   "cell_type": "code",
   "execution_count": null,
   "metadata": {
    "ExecuteTime": {
     "end_time": "2021-10-02T12:25:15.608327Z",
     "start_time": "2021-10-02T12:25:15.601069Z"
    }
   },
   "outputs": [
    {
     "data": {
      "text/plain": [
       "tensor([12.0020, 27.9967, 39.0126, 11.0159, 41.0810])"
      ]
     },
     "execution_count": 44,
     "metadata": {},
     "output_type": "execute_result"
    }
   ],
   "source": [
    "X @ theta"
   ]
  },
  {
   "cell_type": "markdown",
   "metadata": {},
   "source": [
    "# Automatyczne obliczanie gradientu"
   ]
  },
  {
   "cell_type": "markdown",
   "metadata": {},
   "source": [
    "Do automatycznego obliczania gradientu służy wbudowany pakiet torch.autograd, który umożliwia automatyczne obliczanie gradientu dla dowolnego grafu (ciągu obliczeń)"
   ]
  },
  {
   "cell_type": "code",
   "execution_count": null,
   "metadata": {
    "ExecuteTime": {
     "end_time": "2021-10-02T13:15:42.589602Z",
     "start_time": "2021-10-02T13:15:42.583170Z"
    }
   },
   "outputs": [
    {
     "name": "stdout",
     "output_type": "stream",
     "text": [
      "tensor([1., 1., 1., 1., 1.], requires_grad=True)\n"
     ]
    }
   ],
   "source": [
    "x = torch.ones(5, requires_grad=True)\n",
    "print(x)"
   ]
  },
  {
   "cell_type": "code",
   "execution_count": null,
   "metadata": {
    "ExecuteTime": {
     "end_time": "2021-10-02T13:15:42.779981Z",
     "start_time": "2021-10-02T13:15:42.773731Z"
    }
   },
   "outputs": [
    {
     "data": {
      "text/plain": [
       "tensor([3., 3., 3., 3., 3.], grad_fn=<AddBackward0>)"
      ]
     },
     "execution_count": 46,
     "metadata": {},
     "output_type": "execute_result"
    }
   ],
   "source": [
    "y = x + 2\n",
    "y"
   ]
  },
  {
   "cell_type": "code",
   "execution_count": null,
   "metadata": {
    "ExecuteTime": {
     "end_time": "2021-10-02T13:15:42.928339Z",
     "start_time": "2021-10-02T13:15:42.922368Z"
    }
   },
   "outputs": [
    {
     "data": {
      "text/plain": [
       "tensor([2., 2., 2., 2., 2.], grad_fn=<MulBackward0>)"
      ]
     },
     "execution_count": 47,
     "metadata": {},
     "output_type": "execute_result"
    }
   ],
   "source": [
    "y = x * 2\n",
    "y"
   ]
  },
  {
   "cell_type": "code",
   "execution_count": null,
   "metadata": {
    "ExecuteTime": {
     "end_time": "2021-10-02T13:15:43.079314Z",
     "start_time": "2021-10-02T13:15:43.073324Z"
    }
   },
   "outputs": [
    {
     "name": "stderr",
     "output_type": "stream",
     "text": [
      "/var/folders/tt/_d7j_vpj1f1dmfc6s1xcbzwc0000gn/T/ipykernel_52433/454800052.py:1: UserWarning: The use of `x.T` on tensors of dimension other than 2 to reverse their shape is deprecated and it will throw an error in a future release. Consider `x.mT` to transpose batches of matrices or `x.permute(*torch.arange(x.ndim - 1, -1, -1))` to reverse the dimensions of a tensor. (Triggered internally at /Users/runner/work/pytorch/pytorch/pytorch/aten/src/ATen/native/TensorShape.cpp:3729.)\n",
      "  y = x @ x.T\n"
     ]
    },
    {
     "data": {
      "text/plain": [
       "tensor(5., grad_fn=<DotBackward0>)"
      ]
     },
     "execution_count": 48,
     "metadata": {},
     "output_type": "execute_result"
    }
   ],
   "source": [
    "y = x @ x.T\n",
    "y"
   ]
  },
  {
   "cell_type": "code",
   "execution_count": null,
   "metadata": {
    "ExecuteTime": {
     "end_time": "2021-10-02T13:15:43.270396Z",
     "start_time": "2021-10-02T13:15:43.264090Z"
    }
   },
   "outputs": [
    {
     "data": {
      "text/plain": [
       "tensor([-1., -1., -1., -1., -1.], grad_fn=<SubBackward0>)"
      ]
     },
     "execution_count": 49,
     "metadata": {},
     "output_type": "execute_result"
    }
   ],
   "source": [
    "y = x - 2\n",
    "y"
   ]
  },
  {
   "cell_type": "code",
   "execution_count": null,
   "metadata": {
    "ExecuteTime": {
     "end_time": "2021-10-02T13:15:43.421894Z",
     "start_time": "2021-10-02T13:15:43.416391Z"
    }
   },
   "outputs": [
    {
     "data": {
      "text/plain": [
       "<AccumulateGrad at 0x11c3d6d40>"
      ]
     },
     "execution_count": 50,
     "metadata": {},
     "output_type": "execute_result"
    }
   ],
   "source": [
    "y.grad_fn.next_functions[0][0]"
   ]
  },
  {
   "cell_type": "code",
   "execution_count": null,
   "metadata": {
    "ExecuteTime": {
     "end_time": "2021-10-02T13:15:43.623103Z",
     "start_time": "2021-10-02T13:15:43.616830Z"
    }
   },
   "outputs": [
    {
     "data": {
      "text/plain": [
       "tensor([1., 1., 1., 1., 1.], requires_grad=True)"
      ]
     },
     "execution_count": 51,
     "metadata": {},
     "output_type": "execute_result"
    }
   ],
   "source": [
    "y.grad_fn.next_functions[0][0].variable"
   ]
  },
  {
   "cell_type": "code",
   "execution_count": null,
   "metadata": {
    "ExecuteTime": {
     "end_time": "2021-10-02T13:15:44.088406Z",
     "start_time": "2021-10-02T13:15:44.084868Z"
    }
   },
   "outputs": [],
   "source": [
    "z = y * y * 3"
   ]
  },
  {
   "cell_type": "code",
   "execution_count": null,
   "metadata": {
    "ExecuteTime": {
     "end_time": "2021-10-02T13:16:05.865798Z",
     "start_time": "2021-10-02T13:16:05.858953Z"
    }
   },
   "outputs": [
    {
     "name": "stdout",
     "output_type": "stream",
     "text": [
      "tensor([3., 3., 3., 3., 3.], grad_fn=<MulBackward0>)\n",
      "tensor(3., grad_fn=<MeanBackward0>)\n"
     ]
    }
   ],
   "source": [
    "a = z.mean()\n",
    "print(z)\n",
    "print(a)"
   ]
  },
  {
   "cell_type": "code",
   "execution_count": null,
   "metadata": {
    "ExecuteTime": {
     "end_time": "2021-10-02T13:12:07.051788Z",
     "start_time": "2021-10-02T13:12:07.048144Z"
    }
   },
   "outputs": [],
   "source": [
    "from torchviz import make_dot"
   ]
  },
  {
   "cell_type": "code",
   "execution_count": null,
   "metadata": {
    "ExecuteTime": {
     "end_time": "2021-10-02T12:59:48.389456Z",
     "start_time": "2021-10-02T12:59:48.330787Z"
    }
   },
   "outputs": [
    {
     "data": {
      "image/svg+xml": [
       "<?xml version=\"1.0\" encoding=\"UTF-8\" standalone=\"no\"?>\n",
       "<!DOCTYPE svg PUBLIC \"-//W3C//DTD SVG 1.1//EN\"\n",
       " \"http://www.w3.org/Graphics/SVG/1.1/DTD/svg11.dtd\">\n",
       "<!-- Generated by graphviz version 12.2.1 (20241206.2353)\n",
       " -->\n",
       "<!-- Pages: 1 -->\n",
       "<svg width=\"108pt\" height=\"393pt\"\n",
       " viewBox=\"0.00 0.00 108.00 393.25\" xmlns=\"http://www.w3.org/2000/svg\" xmlns:xlink=\"http://www.w3.org/1999/xlink\">\n",
       "<g id=\"graph0\" class=\"graph\" transform=\"scale(1 1) rotate(0) translate(4 389.25)\">\n",
       "<polygon fill=\"white\" stroke=\"none\" points=\"-4,4 -4,-389.25 104,-389.25 104,4 -4,4\"/>\n",
       "<!-- 4783430608 -->\n",
       "<g id=\"node1\" class=\"node\">\n",
       "<title>4783430608</title>\n",
       "<polygon fill=\"#caff70\" stroke=\"black\" points=\"77,-32.75 23,-32.75 23,0 77,0 77,-32.75\"/>\n",
       "<text text-anchor=\"middle\" x=\"50\" y=\"-7.25\" font-family=\"monospace\" font-size=\"10.00\"> ()</text>\n",
       "</g>\n",
       "<!-- 4770417296 -->\n",
       "<g id=\"node2\" class=\"node\">\n",
       "<title>4770417296</title>\n",
       "<polygon fill=\"lightgrey\" stroke=\"black\" points=\"97,-89.5 3,-89.5 3,-68.75 97,-68.75 97,-89.5\"/>\n",
       "<text text-anchor=\"middle\" x=\"50\" y=\"-76\" font-family=\"monospace\" font-size=\"10.00\">MeanBackward0</text>\n",
       "</g>\n",
       "<!-- 4770417296&#45;&gt;4783430608 -->\n",
       "<g id=\"edge7\" class=\"edge\">\n",
       "<title>4770417296&#45;&gt;4783430608</title>\n",
       "<path fill=\"none\" stroke=\"black\" d=\"M50,-68.36C50,-61.89 50,-53.05 50,-44.55\"/>\n",
       "<polygon fill=\"black\" stroke=\"black\" points=\"53.5,-44.55 50,-34.55 46.5,-44.55 53.5,-44.55\"/>\n",
       "</g>\n",
       "<!-- 4819953712 -->\n",
       "<g id=\"node3\" class=\"node\">\n",
       "<title>4819953712</title>\n",
       "<polygon fill=\"lightgrey\" stroke=\"black\" points=\"94,-146.25 6,-146.25 6,-125.5 94,-125.5 94,-146.25\"/>\n",
       "<text text-anchor=\"middle\" x=\"50\" y=\"-132.75\" font-family=\"monospace\" font-size=\"10.00\">MulBackward0</text>\n",
       "</g>\n",
       "<!-- 4819953712&#45;&gt;4770417296 -->\n",
       "<g id=\"edge1\" class=\"edge\">\n",
       "<title>4819953712&#45;&gt;4770417296</title>\n",
       "<path fill=\"none\" stroke=\"black\" d=\"M50,-125.09C50,-118.47 50,-109.47 50,-101.27\"/>\n",
       "<polygon fill=\"black\" stroke=\"black\" points=\"53.5,-101.34 50,-91.34 46.5,-101.34 53.5,-101.34\"/>\n",
       "</g>\n",
       "<!-- 4819959232 -->\n",
       "<g id=\"node4\" class=\"node\">\n",
       "<title>4819959232</title>\n",
       "<polygon fill=\"lightgrey\" stroke=\"black\" points=\"94,-203 6,-203 6,-182.25 94,-182.25 94,-203\"/>\n",
       "<text text-anchor=\"middle\" x=\"50\" y=\"-189.5\" font-family=\"monospace\" font-size=\"10.00\">MulBackward0</text>\n",
       "</g>\n",
       "<!-- 4819959232&#45;&gt;4819953712 -->\n",
       "<g id=\"edge2\" class=\"edge\">\n",
       "<title>4819959232&#45;&gt;4819953712</title>\n",
       "<path fill=\"none\" stroke=\"black\" d=\"M50,-181.84C50,-175.22 50,-166.22 50,-158.02\"/>\n",
       "<polygon fill=\"black\" stroke=\"black\" points=\"53.5,-158.09 50,-148.09 46.5,-158.09 53.5,-158.09\"/>\n",
       "</g>\n",
       "<!-- 4819959328 -->\n",
       "<g id=\"node5\" class=\"node\">\n",
       "<title>4819959328</title>\n",
       "<polygon fill=\"lightgrey\" stroke=\"black\" points=\"94,-259.75 6,-259.75 6,-239 94,-239 94,-259.75\"/>\n",
       "<text text-anchor=\"middle\" x=\"50\" y=\"-246.25\" font-family=\"monospace\" font-size=\"10.00\">SubBackward0</text>\n",
       "</g>\n",
       "<!-- 4819959328&#45;&gt;4819959232 -->\n",
       "<g id=\"edge3\" class=\"edge\">\n",
       "<title>4819959328&#45;&gt;4819959232</title>\n",
       "<path fill=\"none\" stroke=\"black\" d=\"M44.68,-238.59C43.41,-231.97 42.99,-222.97 43.41,-214.77\"/>\n",
       "<polygon fill=\"black\" stroke=\"black\" points=\"46.89,-215.16 44.53,-204.83 39.93,-214.38 46.89,-215.16\"/>\n",
       "</g>\n",
       "<!-- 4819959328&#45;&gt;4819959232 -->\n",
       "<g id=\"edge6\" class=\"edge\">\n",
       "<title>4819959328&#45;&gt;4819959232</title>\n",
       "<path fill=\"none\" stroke=\"black\" d=\"M55.32,-238.59C56.59,-231.97 57.01,-222.97 56.59,-214.77\"/>\n",
       "<polygon fill=\"black\" stroke=\"black\" points=\"60.07,-214.38 55.47,-204.83 53.11,-215.16 60.07,-214.38\"/>\n",
       "</g>\n",
       "<!-- 4768755008 -->\n",
       "<g id=\"node6\" class=\"node\">\n",
       "<title>4768755008</title>\n",
       "<polygon fill=\"lightgrey\" stroke=\"black\" points=\"100,-316.5 0,-316.5 0,-295.75 100,-295.75 100,-316.5\"/>\n",
       "<text text-anchor=\"middle\" x=\"50\" y=\"-303\" font-family=\"monospace\" font-size=\"10.00\">AccumulateGrad</text>\n",
       "</g>\n",
       "<!-- 4768755008&#45;&gt;4819959328 -->\n",
       "<g id=\"edge4\" class=\"edge\">\n",
       "<title>4768755008&#45;&gt;4819959328</title>\n",
       "<path fill=\"none\" stroke=\"black\" d=\"M50,-295.34C50,-288.72 50,-279.72 50,-271.52\"/>\n",
       "<polygon fill=\"black\" stroke=\"black\" points=\"53.5,-271.59 50,-261.59 46.5,-271.59 53.5,-271.59\"/>\n",
       "</g>\n",
       "<!-- 4783431968 -->\n",
       "<g id=\"node7\" class=\"node\">\n",
       "<title>4783431968</title>\n",
       "<polygon fill=\"lightblue\" stroke=\"black\" points=\"77,-385.25 23,-385.25 23,-352.5 77,-352.5 77,-385.25\"/>\n",
       "<text text-anchor=\"middle\" x=\"50\" y=\"-359.75\" font-family=\"monospace\" font-size=\"10.00\"> (5)</text>\n",
       "</g>\n",
       "<!-- 4783431968&#45;&gt;4768755008 -->\n",
       "<g id=\"edge5\" class=\"edge\">\n",
       "<title>4783431968&#45;&gt;4768755008</title>\n",
       "<path fill=\"none\" stroke=\"black\" d=\"M50,-352.23C50,-344.85 50,-335.93 50,-327.99\"/>\n",
       "<polygon fill=\"black\" stroke=\"black\" points=\"53.5,-328.16 50,-318.16 46.5,-328.16 53.5,-328.16\"/>\n",
       "</g>\n",
       "</g>\n",
       "</svg>\n"
      ],
      "text/plain": [
       "<graphviz.graphs.Digraph at 0x11f28e710>"
      ]
     },
     "execution_count": 57,
     "metadata": {},
     "output_type": "execute_result"
    }
   ],
   "source": [
    "make_dot(a)"
   ]
  },
  {
   "cell_type": "markdown",
   "metadata": {},
   "source": [
    "### Gradienty"
   ]
  },
  {
   "cell_type": "code",
   "execution_count": null,
   "metadata": {
    "ExecuteTime": {
     "end_time": "2021-10-02T14:35:46.508194Z",
     "start_time": "2021-10-02T14:35:46.498330Z"
    }
   },
   "outputs": [
    {
     "name": "stdout",
     "output_type": "stream",
     "text": [
      "tensor([1.], requires_grad=True)\n"
     ]
    },
    {
     "data": {
      "text/plain": [
       "tensor([125.], grad_fn=<PowBackward0>)"
      ]
     },
     "execution_count": 58,
     "metadata": {},
     "output_type": "execute_result"
    }
   ],
   "source": [
    "x = torch.ones(1, requires_grad=True)\n",
    "print(x)\n",
    "y = (x+4)**3\n",
    "y"
   ]
  },
  {
   "cell_type": "code",
   "execution_count": null,
   "metadata": {
    "ExecuteTime": {
     "end_time": "2021-10-02T14:33:10.240622Z",
     "start_time": "2021-10-02T14:33:10.200061Z"
    }
   },
   "outputs": [
    {
     "data": {
      "image/svg+xml": [
       "<?xml version=\"1.0\" encoding=\"UTF-8\" standalone=\"no\"?>\n",
       "<!DOCTYPE svg PUBLIC \"-//W3C//DTD SVG 1.1//EN\"\n",
       " \"http://www.w3.org/Graphics/SVG/1.1/DTD/svg11.dtd\">\n",
       "<!-- Generated by graphviz version 12.2.1 (20241206.2353)\n",
       " -->\n",
       "<!-- Pages: 1 -->\n",
       "<svg width=\"108pt\" height=\"280pt\"\n",
       " viewBox=\"0.00 0.00 108.00 279.75\" xmlns=\"http://www.w3.org/2000/svg\" xmlns:xlink=\"http://www.w3.org/1999/xlink\">\n",
       "<g id=\"graph0\" class=\"graph\" transform=\"scale(1 1) rotate(0) translate(4 275.75)\">\n",
       "<polygon fill=\"white\" stroke=\"none\" points=\"-4,4 -4,-275.75 104,-275.75 104,4 -4,4\"/>\n",
       "<!-- 4783390016 -->\n",
       "<g id=\"node1\" class=\"node\">\n",
       "<title>4783390016</title>\n",
       "<polygon fill=\"#caff70\" stroke=\"black\" points=\"77,-32.75 23,-32.75 23,0 77,0 77,-32.75\"/>\n",
       "<text text-anchor=\"middle\" x=\"50\" y=\"-7.25\" font-family=\"monospace\" font-size=\"10.00\"> (1)</text>\n",
       "</g>\n",
       "<!-- 4768757360 -->\n",
       "<g id=\"node2\" class=\"node\">\n",
       "<title>4768757360</title>\n",
       "<polygon fill=\"lightgrey\" stroke=\"black\" points=\"94,-89.5 6,-89.5 6,-68.75 94,-68.75 94,-89.5\"/>\n",
       "<text text-anchor=\"middle\" x=\"50\" y=\"-76\" font-family=\"monospace\" font-size=\"10.00\">PowBackward0</text>\n",
       "</g>\n",
       "<!-- 4768757360&#45;&gt;4783390016 -->\n",
       "<g id=\"edge4\" class=\"edge\">\n",
       "<title>4768757360&#45;&gt;4783390016</title>\n",
       "<path fill=\"none\" stroke=\"black\" d=\"M50,-68.36C50,-61.89 50,-53.05 50,-44.55\"/>\n",
       "<polygon fill=\"black\" stroke=\"black\" points=\"53.5,-44.55 50,-34.55 46.5,-44.55 53.5,-44.55\"/>\n",
       "</g>\n",
       "<!-- 4822713392 -->\n",
       "<g id=\"node3\" class=\"node\">\n",
       "<title>4822713392</title>\n",
       "<polygon fill=\"lightgrey\" stroke=\"black\" points=\"94,-146.25 6,-146.25 6,-125.5 94,-125.5 94,-146.25\"/>\n",
       "<text text-anchor=\"middle\" x=\"50\" y=\"-132.75\" font-family=\"monospace\" font-size=\"10.00\">AddBackward0</text>\n",
       "</g>\n",
       "<!-- 4822713392&#45;&gt;4768757360 -->\n",
       "<g id=\"edge1\" class=\"edge\">\n",
       "<title>4822713392&#45;&gt;4768757360</title>\n",
       "<path fill=\"none\" stroke=\"black\" d=\"M50,-125.09C50,-118.47 50,-109.47 50,-101.27\"/>\n",
       "<polygon fill=\"black\" stroke=\"black\" points=\"53.5,-101.34 50,-91.34 46.5,-101.34 53.5,-101.34\"/>\n",
       "</g>\n",
       "<!-- 4822713584 -->\n",
       "<g id=\"node4\" class=\"node\">\n",
       "<title>4822713584</title>\n",
       "<polygon fill=\"lightgrey\" stroke=\"black\" points=\"100,-203 0,-203 0,-182.25 100,-182.25 100,-203\"/>\n",
       "<text text-anchor=\"middle\" x=\"50\" y=\"-189.5\" font-family=\"monospace\" font-size=\"10.00\">AccumulateGrad</text>\n",
       "</g>\n",
       "<!-- 4822713584&#45;&gt;4822713392 -->\n",
       "<g id=\"edge2\" class=\"edge\">\n",
       "<title>4822713584&#45;&gt;4822713392</title>\n",
       "<path fill=\"none\" stroke=\"black\" d=\"M50,-181.84C50,-175.22 50,-166.22 50,-158.02\"/>\n",
       "<polygon fill=\"black\" stroke=\"black\" points=\"53.5,-158.09 50,-148.09 46.5,-158.09 53.5,-158.09\"/>\n",
       "</g>\n",
       "<!-- 4783429968 -->\n",
       "<g id=\"node5\" class=\"node\">\n",
       "<title>4783429968</title>\n",
       "<polygon fill=\"lightblue\" stroke=\"black\" points=\"77,-271.75 23,-271.75 23,-239 77,-239 77,-271.75\"/>\n",
       "<text text-anchor=\"middle\" x=\"50\" y=\"-246.25\" font-family=\"monospace\" font-size=\"10.00\"> (1)</text>\n",
       "</g>\n",
       "<!-- 4783429968&#45;&gt;4822713584 -->\n",
       "<g id=\"edge3\" class=\"edge\">\n",
       "<title>4783429968&#45;&gt;4822713584</title>\n",
       "<path fill=\"none\" stroke=\"black\" d=\"M50,-238.73C50,-231.35 50,-222.43 50,-214.49\"/>\n",
       "<polygon fill=\"black\" stroke=\"black\" points=\"53.5,-214.66 50,-204.66 46.5,-214.66 53.5,-214.66\"/>\n",
       "</g>\n",
       "</g>\n",
       "</svg>\n"
      ],
      "text/plain": [
       "<graphviz.graphs.Digraph at 0x11d33ec40>"
      ]
     },
     "execution_count": 59,
     "metadata": {},
     "output_type": "execute_result"
    }
   ],
   "source": [
    "make_dot(y)"
   ]
  },
  {
   "cell_type": "code",
   "execution_count": null,
   "metadata": {
    "ExecuteTime": {
     "end_time": "2021-10-02T14:35:47.650878Z",
     "start_time": "2021-10-02T14:35:47.644582Z"
    },
    "scrolled": true
   },
   "outputs": [
    {
     "data": {
      "text/plain": [
       "tensor([75.])"
      ]
     },
     "execution_count": 60,
     "metadata": {},
     "output_type": "execute_result"
    }
   ],
   "source": [
    "y.backward()\n",
    "x.grad"
   ]
  },
  {
   "cell_type": "markdown",
   "metadata": {},
   "source": [
    "#### Obliczenia z pominięciem gradientów"
   ]
  },
  {
   "cell_type": "code",
   "execution_count": null,
   "metadata": {
    "ExecuteTime": {
     "end_time": "2021-10-03T07:14:11.090002Z",
     "start_time": "2021-10-03T07:14:11.080853Z"
    }
   },
   "outputs": [
    {
     "name": "stdout",
     "output_type": "stream",
     "text": [
      "tensor([[0.5743, 0.6949, 0.5468],\n",
      "        [0.8843, 0.8342, 0.8705],\n",
      "        [0.9699, 0.7708, 0.7171]])\n",
      "tensor([[0.5743, 0.6949, 0.5468],\n",
      "        [0.8843, 0.8342, 0.8705],\n",
      "        [0.9699, 0.7708, 0.7171]], grad_fn=<MmBackward0>)\n"
     ]
    }
   ],
   "source": [
    "t1 = torch.rand(3,4, requires_grad=True)\n",
    "t2 = torch.rand(4,3, requires_grad=True)\n",
    "with torch.no_grad():\n",
    "    y = t1@t2\n",
    "print(y)\n",
    "print(t1@t2)"
   ]
  },
  {
   "cell_type": "markdown",
   "metadata": {},
   "source": [
    "#### Funkcja backward pozwala nam policzyć pochodną cząstkową w punkcie dla wszystkich źródeł (liści w grafie obliczeń)"
   ]
  },
  {
   "cell_type": "code",
   "execution_count": null,
   "metadata": {
    "ExecuteTime": {
     "end_time": "2021-10-02T14:43:04.847863Z",
     "start_time": "2021-10-02T14:43:04.843680Z"
    }
   },
   "outputs": [],
   "source": [
    "x = torch.ones(5)  # input tensor\n",
    "y = torch.zeros(3)  # expected output"
   ]
  },
  {
   "cell_type": "code",
   "execution_count": null,
   "metadata": {
    "ExecuteTime": {
     "end_time": "2021-10-02T14:43:05.075436Z",
     "start_time": "2021-10-02T14:43:05.071173Z"
    }
   },
   "outputs": [],
   "source": [
    "w = torch.randn(5, 3, requires_grad=True) #weights\n",
    "b = torch.randn(3, requires_grad=True) #bias"
   ]
  },
  {
   "cell_type": "code",
   "execution_count": null,
   "metadata": {
    "ExecuteTime": {
     "end_time": "2021-10-02T14:43:05.285364Z",
     "start_time": "2021-10-02T14:43:05.281481Z"
    }
   },
   "outputs": [],
   "source": [
    "z = torch.matmul(x, w)+b"
   ]
  },
  {
   "cell_type": "code",
   "execution_count": null,
   "metadata": {
    "ExecuteTime": {
     "end_time": "2021-10-02T14:43:05.507440Z",
     "start_time": "2021-10-02T14:43:05.501001Z"
    }
   },
   "outputs": [
    {
     "data": {
      "text/plain": [
       "tensor(1.4344, grad_fn=<MeanBackward0>)"
      ]
     },
     "execution_count": 65,
     "metadata": {},
     "output_type": "execute_result"
    }
   ],
   "source": [
    "loss = torch.abs((z-y)).mean()\n",
    "loss"
   ]
  },
  {
   "cell_type": "code",
   "execution_count": null,
   "metadata": {
    "ExecuteTime": {
     "end_time": "2021-10-02T14:43:06.355062Z",
     "start_time": "2021-10-02T14:43:06.348255Z"
    }
   },
   "outputs": [
    {
     "name": "stdout",
     "output_type": "stream",
     "text": [
      "tensor([[0.3333, 0.3333, 0.3333],\n",
      "        [0.3333, 0.3333, 0.3333],\n",
      "        [0.3333, 0.3333, 0.3333],\n",
      "        [0.3333, 0.3333, 0.3333],\n",
      "        [0.3333, 0.3333, 0.3333]])\n",
      "tensor([0.3333, 0.3333, 0.3333])\n"
     ]
    }
   ],
   "source": [
    "loss.backward()\n",
    "print(w.grad)\n",
    "print(b.grad)"
   ]
  },
  {
   "cell_type": "markdown",
   "metadata": {},
   "source": [
    "# Regresja raz jeszcze"
   ]
  },
  {
   "cell_type": "code",
   "execution_count": null,
   "metadata": {
    "ExecuteTime": {
     "end_time": "2021-10-02T15:02:58.234376Z",
     "start_time": "2021-10-02T15:02:58.229524Z"
    }
   },
   "outputs": [],
   "source": [
    "apples_kg_ordered = [2,4,7,3,13]\n",
    "plums_kg_ordered = [3,8,9,1,1]\n",
    "prices = [11.97, 28.05, 38.98, 10.96, 41.1]"
   ]
  },
  {
   "cell_type": "code",
   "execution_count": null,
   "metadata": {
    "ExecuteTime": {
     "end_time": "2021-10-02T15:02:58.647418Z",
     "start_time": "2021-10-02T15:02:58.639049Z"
    }
   },
   "outputs": [
    {
     "name": "stdout",
     "output_type": "stream",
     "text": [
      "tensor([[ 2.,  3.],\n",
      "        [ 4.,  8.],\n",
      "        [ 7.,  9.],\n",
      "        [ 3.,  1.],\n",
      "        [13.,  1.]])\n",
      "tensor([11.9700, 28.0500, 38.9800, 10.9600, 41.1000])\n"
     ]
    }
   ],
   "source": [
    "X = torch.tensor([apples_kg_ordered,plums_kg_ordered])\n",
    "y = torch.tensor(prices)\n",
    "X = X.T.float()\n",
    "Y = Y.T\n",
    "print(X)\n",
    "print(Y)"
   ]
  },
  {
   "cell_type": "code",
   "execution_count": null,
   "metadata": {
    "ExecuteTime": {
     "end_time": "2021-10-02T15:02:58.844443Z",
     "start_time": "2021-10-02T15:02:58.840718Z"
    }
   },
   "outputs": [],
   "source": [
    "params = torch.rand(2,requires_grad=True)"
   ]
  },
  {
   "cell_type": "code",
   "execution_count": null,
   "metadata": {
    "ExecuteTime": {
     "end_time": "2021-10-02T15:02:59.048063Z",
     "start_time": "2021-10-02T15:02:59.041604Z"
    }
   },
   "outputs": [
    {
     "data": {
      "text/plain": [
       "tensor([1.7009, 3.8518, 5.6154, 1.7636, 6.8921], grad_fn=<MvBackward0>)"
      ]
     },
     "execution_count": 70,
     "metadata": {},
     "output_type": "execute_result"
    }
   ],
   "source": [
    "y_pred = X@params\n",
    "y_pred"
   ]
  },
  {
   "cell_type": "code",
   "execution_count": null,
   "metadata": {
    "ExecuteTime": {
     "end_time": "2021-10-02T15:02:59.237566Z",
     "start_time": "2021-10-02T15:02:59.230912Z"
    }
   },
   "outputs": [
    {
     "data": {
      "text/plain": [
       "tensor(611.7913, grad_fn=<MeanBackward0>)"
      ]
     },
     "execution_count": 71,
     "metadata": {},
     "output_type": "execute_result"
    }
   ],
   "source": [
    "loss = (torch.square(Y-y_pred)).mean()\n",
    "loss"
   ]
  },
  {
   "cell_type": "code",
   "execution_count": null,
   "metadata": {
    "ExecuteTime": {
     "end_time": "2021-10-02T15:02:59.437480Z",
     "start_time": "2021-10-02T15:02:59.433774Z"
    }
   },
   "outputs": [],
   "source": [
    "loss.backward()"
   ]
  },
  {
   "cell_type": "code",
   "execution_count": null,
   "metadata": {
    "ExecuteTime": {
     "end_time": "2021-10-02T15:02:59.662916Z",
     "start_time": "2021-10-02T15:02:59.656827Z"
    },
    "scrolled": true
   },
   "outputs": [
    {
     "data": {
      "text/plain": [
       "tensor([-329.2699, -227.2314])"
      ]
     },
     "execution_count": 73,
     "metadata": {},
     "output_type": "execute_result"
    }
   ],
   "source": [
    "params.grad"
   ]
  },
  {
   "cell_type": "code",
   "execution_count": null,
   "metadata": {
    "ExecuteTime": {
     "end_time": "2021-10-02T15:03:00.003219Z",
     "start_time": "2021-10-02T15:03:00Z"
    }
   },
   "outputs": [],
   "source": [
    "lr = 0.001"
   ]
  },
  {
   "cell_type": "code",
   "execution_count": null,
   "metadata": {
    "ExecuteTime": {
     "end_time": "2021-10-02T15:03:00.450882Z",
     "start_time": "2021-10-02T15:03:00.442852Z"
    }
   },
   "outputs": [
    {
     "name": "stdout",
     "output_type": "stream",
     "text": [
      "tensor([0.5129, 0.2250], requires_grad=True)\n"
     ]
    },
    {
     "data": {
      "text/plain": [
       "tensor([0.8421, 0.4523], grad_fn=<SubBackward0>)"
      ]
     },
     "execution_count": 75,
     "metadata": {},
     "output_type": "execute_result"
    }
   ],
   "source": [
    "print(params)\n",
    "params - lr *params.grad"
   ]
  },
  {
   "cell_type": "code",
   "execution_count": null,
   "metadata": {
    "ExecuteTime": {
     "end_time": "2021-10-02T15:17:41.903513Z",
     "start_time": "2021-10-02T15:17:41.899456Z"
    }
   },
   "outputs": [],
   "source": [
    "params = torch.rand(2,requires_grad=True)"
   ]
  },
  {
   "cell_type": "code",
   "execution_count": null,
   "metadata": {
    "ExecuteTime": {
     "end_time": "2021-10-02T15:18:30.997564Z",
     "start_time": "2021-10-02T15:18:30.905197Z"
    },
    "scrolled": true
   },
   "outputs": [
    {
     "name": "stdout",
     "output_type": "stream",
     "text": [
      "tensor([0.3720, 0.8530], requires_grad=True)\n",
      "tensor([-359.9109, -225.5565])\n",
      "tensor([0.6858, 1.0476], requires_grad=True)\n",
      "tensor([-313.7957, -194.6379])\n",
      "tensor([0.9595, 1.2154], requires_grad=True)\n",
      "tensor([-273.6836, -167.8069])\n",
      "tensor([1.1983, 1.3600], requires_grad=True)\n",
      "tensor([-238.7903, -144.5273])\n",
      "tensor([1.4067, 1.4843], requires_grad=True)\n",
      "tensor([-208.4340, -124.3334])\n",
      "tensor([1.5887, 1.5911], requires_grad=True)\n",
      "tensor([-182.0219, -106.8203])\n",
      "tensor([1.7478, 1.6828], requires_grad=True)\n",
      "tensor([-159.0389,  -91.6361])\n",
      "tensor([1.8868, 1.7612], requires_grad=True)\n",
      "tensor([-139.0373,  -78.4750])\n",
      "tensor([2.0085, 1.8283], requires_grad=True)\n",
      "tensor([-121.6278,  -67.0712])\n",
      "tensor([2.1149, 1.8855], requires_grad=True)\n",
      "tensor([-106.4720,  -57.1938])\n",
      "tensor([2.2082, 1.9341], requires_grad=True)\n",
      "tensor([-93.2759, -48.6420])\n",
      "tensor([2.2900, 1.9754], requires_grad=True)\n",
      "tensor([-81.7838, -41.2414])\n",
      "tensor([2.3618, 2.0102], requires_grad=True)\n",
      "tensor([-71.7735, -34.8405])\n",
      "tensor([2.4248, 2.0395], requires_grad=True)\n",
      "tensor([-63.0517, -29.3074])\n",
      "tensor([2.4803, 2.0641], requires_grad=True)\n",
      "tensor([-55.4506, -24.5278])\n",
      "tensor([2.5291, 2.0845], requires_grad=True)\n",
      "tensor([-48.8242, -20.4022])\n",
      "tensor([2.5721, 2.1013], requires_grad=True)\n",
      "tensor([-43.0455, -16.8441])\n",
      "tensor([2.6101, 2.1151], requires_grad=True)\n",
      "tensor([-38.0044, -13.7785])\n",
      "tensor([2.6437, 2.1262], requires_grad=True)\n",
      "tensor([-33.6047, -11.1402])\n",
      "tensor([2.6735, 2.1351], requires_grad=True)\n",
      "tensor([-29.7632,  -8.8723])\n",
      "tensor([2.6999, 2.1420], requires_grad=True)\n",
      "tensor([-26.4074,  -6.9258])\n",
      "tensor([2.7234, 2.1473], requires_grad=True)\n",
      "tensor([-23.4742,  -5.2577])\n",
      "tensor([2.7443, 2.1511], requires_grad=True)\n",
      "tensor([-20.9089,  -3.8310])\n",
      "tensor([2.7630, 2.1537], requires_grad=True)\n",
      "tensor([-18.6638,  -2.6135])\n",
      "tensor([2.7797, 2.1553], requires_grad=True)\n",
      "tensor([-16.6975,  -1.5769])\n",
      "tensor([2.7946, 2.1560], requires_grad=True)\n",
      "tensor([-14.9740,  -0.6970])\n",
      "tensor([2.8081, 2.1560], requires_grad=True)\n",
      "tensor([-13.4619,   0.0472])\n",
      "tensor([2.8202, 2.1553], requires_grad=True)\n",
      "tensor([-12.1341,   0.6743])\n",
      "tensor([2.8312, 2.1541], requires_grad=True)\n",
      "tensor([-10.9668,   1.2001])\n",
      "tensor([2.8411, 2.1524], requires_grad=True)\n",
      "tensor([-9.9395,  1.6384])\n",
      "tensor([2.8502, 2.1504], requires_grad=True)\n",
      "tensor([-9.0341,  2.0014])\n",
      "tensor([2.8584, 2.1481], requires_grad=True)\n",
      "tensor([-8.2352,  2.2993])\n",
      "tensor([2.8659, 2.1456], requires_grad=True)\n",
      "tensor([-7.5292,  2.5412])\n",
      "tensor([2.8728, 2.1429], requires_grad=True)\n",
      "tensor([-6.9042,  2.7350])\n",
      "tensor([2.8792, 2.1400], requires_grad=True)\n",
      "tensor([-6.3501,  2.8875])\n",
      "tensor([2.8850, 2.1370], requires_grad=True)\n",
      "tensor([-5.8578,  3.0045])\n",
      "tensor([2.8905, 2.1339], requires_grad=True)\n",
      "tensor([-5.4197,  3.0911])\n",
      "tensor([2.8955, 2.1307], requires_grad=True)\n",
      "tensor([-5.0289,  3.1519])\n",
      "tensor([2.9002, 2.1275], requires_grad=True)\n",
      "tensor([-4.6795,  3.1906])\n",
      "tensor([2.9045, 2.1243], requires_grad=True)\n",
      "tensor([-4.3665,  3.2105])\n",
      "tensor([2.9086, 2.1211], requires_grad=True)\n",
      "tensor([-4.0854,  3.2145])\n",
      "tensor([2.9125, 2.1179], requires_grad=True)\n",
      "tensor([-3.8322,  3.2051])\n",
      "tensor([2.9161, 2.1147], requires_grad=True)\n",
      "tensor([-3.6036,  3.1844])\n",
      "tensor([2.9195, 2.1116], requires_grad=True)\n",
      "tensor([-3.3966,  3.1544])\n",
      "tensor([2.9227, 2.1085], requires_grad=True)\n",
      "tensor([-3.2086,  3.1165])\n",
      "tensor([2.9257, 2.1054], requires_grad=True)\n",
      "tensor([-3.0375,  3.0722])\n",
      "tensor([2.9286, 2.1024], requires_grad=True)\n",
      "tensor([-2.8811,  3.0226])\n",
      "tensor([2.9313, 2.0994], requires_grad=True)\n",
      "tensor([-2.7380,  2.9688])\n",
      "tensor([2.9339, 2.0965], requires_grad=True)\n",
      "tensor([-2.6064,  2.9117])\n",
      "tensor([2.9364, 2.0936], requires_grad=True)\n",
      "tensor([-2.4851,  2.8520])\n"
     ]
    }
   ],
   "source": [
    "for epoch in range(50):\n",
    "    y_pred = X@params\n",
    "    loss = (torch.square(Y-y_pred)).mean()\n",
    "    loss.backward()\n",
    "    with torch.no_grad():\n",
    "        params.copy_(params - lr *params.grad)\n",
    "    print(params)\n",
    "    print(params.grad)\n",
    "    params.grad.zero_()"
   ]
  },
  {
   "cell_type": "markdown",
   "metadata": {},
   "source": [
    "### Mini zadanie na plusa, mozna wyslać po zajęciach.\n",
    "Tym razem na innym targu do ceny owoców doliczany jest stały koszt reklamówki. Napisz model regresji liniowej który oszacuje cenę kg ziemniaków, pomidorów i reklamówki"
   ]
  },
  {
   "cell_type": "code",
   "execution_count": null,
   "metadata": {
    "ExecuteTime": {
     "end_time": "2021-10-03T07:05:29.893186Z",
     "start_time": "2021-10-03T07:05:29.886876Z"
    }
   },
   "outputs": [],
   "source": [
    "potatoes_kg_ordered = [1,3,7,3,10,6,8,4,3,1,2,0]\n",
    "tomatoes_kg_ordered = [5,2,3,1,2,3,6,7,3,2,3,1]\n",
    "prices = [22.37 , 14.45, 26.6, 10.44, 28.49, 24.52, 40.38, 36.51, 18.50, 10.46, 16.51, 4.58]"
   ]
  },
  {
   "cell_type": "code",
   "execution_count": null,
   "metadata": {
    "ExecuteTime": {
     "end_time": "2021-10-03T07:05:35.107666Z",
     "start_time": "2021-10-03T07:05:35.098747Z"
    }
   },
   "outputs": [],
   "source": [
    "X = torch.tensor([potatoes_kg_ordered,tomatoes_kg_ordered])\n",
    "Y = torch.tensor(prices)\n",
    "X = X.T.float()\n",
    "Y = Y.T\n",
    "print(X)\n",
    "print(Y)"
   ]
  },
  {
   "cell_type": "markdown",
   "metadata": {
    "jp-MarkdownHeadingCollapsed": true
   },
   "source": [
    "#### Końcowy wynik:"
   ]
  },
  {
   "cell_type": "code",
   "execution_count": null,
   "metadata": {
    "ExecuteTime": {
     "end_time": "2021-10-03T06:59:55.773674Z",
     "start_time": "2021-10-03T06:59:55.766821Z"
    }
   },
   "outputs": [],
   "source": [
    "#GT Rozwiazanie - jak je znaleźć?\n",
    "np.array(potatoes_kg_ordered)*2 + np.array(tomatoes_kg_ordered)*4 + 0.5"
   ]
  },
  {
   "cell_type": "markdown",
   "metadata": {},
   "source": [
    "# LAB 2 - Tworzenie architektury i przygotowanie danych"
   ]
  },
  {
   "cell_type": "code",
   "execution_count": 30,
   "metadata": {
    "ExecuteTime": {
     "end_time": "2021-10-15T06:25:18.845741Z",
     "start_time": "2021-10-15T06:25:18.434742Z"
    }
   },
   "outputs": [],
   "source": [
    "import torch\n",
    "import numpy as np\n",
    "import time\n",
    "import math\n",
    "import matplotlib.pyplot as plt"
   ]
  },
  {
   "cell_type": "markdown",
   "metadata": {},
   "source": [
    "## GPU"
   ]
  },
  {
   "cell_type": "markdown",
   "metadata": {},
   "source": [
    "Jednym z kluczowych udogodnień pytorcha jest możliwość szybkiego i prostego przenoszenia obliczeń między CPU a GPU"
   ]
  },
  {
   "cell_type": "code",
   "execution_count": null,
   "metadata": {
    "ExecuteTime": {
     "end_time": "2021-10-15T06:26:18.605771Z",
     "start_time": "2021-10-15T06:26:17.326230Z"
    }
   },
   "outputs": [
    {
     "data": {
      "text/plain": [
       "False"
      ]
     },
     "execution_count": 78,
     "metadata": {},
     "output_type": "execute_result"
    }
   ],
   "source": [
    "torch.cuda.is_available()"
   ]
  },
  {
   "cell_type": "code",
   "execution_count": null,
   "metadata": {
    "ExecuteTime": {
     "end_time": "2021-10-15T06:28:51.680702Z",
     "start_time": "2021-10-15T06:28:51.675017Z"
    }
   },
   "outputs": [
    {
     "data": {
      "text/plain": [
       "device(type='cuda')"
      ]
     },
     "execution_count": 79,
     "metadata": {},
     "output_type": "execute_result"
    }
   ],
   "source": [
    "device = torch.device(\"cuda\") \n",
    "device"
   ]
  },
  {
   "cell_type": "code",
   "execution_count": null,
   "metadata": {
    "ExecuteTime": {
     "end_time": "2021-10-15T06:28:54.839617Z",
     "start_time": "2021-10-15T06:28:53.163109Z"
    }
   },
   "outputs": [
    {
     "name": "stdout",
     "output_type": "stream",
     "text": [
      "X tensor([[0., 0., 0.],\n",
      "        [0., 0., 0.]])\n",
      "tensor([[0., 0., 0.],\n",
      "        [0., 0., 0.]], device='cuda:0')\n"
     ]
    }
   ],
   "source": [
    "x = torch.zeros(2, 3)\n",
    "print(\"X\", x)\n",
    "x = x.to(device)\n",
    "print(\"X\", x)"
   ]
  },
  {
   "cell_type": "markdown",
   "metadata": {},
   "source": [
    "#### Co nam to daje?"
   ]
  },
  {
   "cell_type": "code",
   "execution_count": null,
   "metadata": {
    "ExecuteTime": {
     "end_time": "2021-10-15T06:30:02.766546Z",
     "start_time": "2021-10-15T06:30:02.344191Z"
    }
   },
   "outputs": [
    {
     "name": "stdout",
     "output_type": "stream",
     "text": [
      "CPU time: 0.18913s\n",
      "GPU time: 0.00015s\n"
     ]
    }
   ],
   "source": [
    "x = torch.randn(5000, 5000)\n",
    "\n",
    "## CPU version\n",
    "start_time = time.time()\n",
    "_ = torch.matmul(x, x)\n",
    "end_time = time.time()\n",
    "print(f\"CPU time: {(end_time - start_time):6.5f}s\")\n",
    "\n",
    "## GPU version\n",
    "x = x.to(device)\n",
    "# The first operation on a CUDA device can be slow as it has to establish a CPU-GPU communication first. \n",
    "# Hence, we run an arbitrary command first without timing it for a fair comparison.\n",
    "_ = torch.matmul(x*0.0, x)\n",
    "start_time = time.time()\n",
    "_ = torch.matmul(x, x)\n",
    "end_time = time.time()\n",
    "print(f\"GPU time: {(end_time - start_time):6.5f}s\")"
   ]
  },
  {
   "cell_type": "markdown",
   "metadata": {},
   "source": [
    "#### Ciąg komend do zapisania\n",
    "Losowość jest bardzo ważnym elementem trenowania sieci neuronowych (o czym się wkrótce przekonamy). Eksperymentując, chcielibyśmy jednak żeby przy każdym uruchomieniu programu, wynik był taki sam. Tylko w takim przypadku jesteśmy w stanie coś wnioskować. Do zapewnienia możliwości reprodukcji wyników na GPU za pomocą pytorcha służa poniższe komendy:"
   ]
  },
  {
   "cell_type": "code",
   "execution_count": null,
   "metadata": {
    "ExecuteTime": {
     "end_time": "2021-10-11T14:25:02.868485Z",
     "start_time": "2021-10-11T14:25:02.862527Z"
    }
   },
   "outputs": [],
   "source": [
    "# GPU operations have a separate seed we also want to set\n",
    "if torch.cuda.is_available(): \n",
    "    torch.cuda.manual_seed(42)\n",
    "    torch.cuda.manual_seed_all(42)\n",
    "    \n",
    "# Additionally, some operations on a GPU are implemented stochastic for efficiency\n",
    "# We want to ensure that all operations are deterministic on GPU (if used) for reproducibility\n",
    "torch.backends.cudnn.determinstic = True\n",
    "torch.backends.cudnn.benchmark = False"
   ]
  },
  {
   "cell_type": "markdown",
   "metadata": {},
   "source": [
    "## Tworzenie modeli\n",
    "Tworzymy tensory z parametrami, wagi i biasy, obliczamy gradienty, aktualizujemy parametry itd.\n",
    "lub\n",
    "wykorzystujemy torch.nn"
   ]
  },
  {
   "cell_type": "markdown",
   "metadata": {},
   "source": [
    "W torch.nn możemy znaleźć wiele przydatnych predefiniowanych klas jak wagi sieci, funkcje aktywacji, funkcje straty, optymalizacja itp. Jeszcze raz, dokumentacja jest fajna: https://pytorch.org/docs/stable/nn.html"
   ]
  },
  {
   "cell_type": "code",
   "execution_count": 31,
   "metadata": {
    "ExecuteTime": {
     "end_time": "2021-10-15T06:34:21.423948Z",
     "start_time": "2021-10-15T06:34:21.419785Z"
    }
   },
   "outputs": [],
   "source": [
    "import torch.nn as nn"
   ]
  },
  {
   "cell_type": "markdown",
   "metadata": {},
   "source": [
    "Dodatkowo, funkcje wykorzystywane w budowaniu sieci znajdują się w module torch.nn.functionl"
   ]
  },
  {
   "cell_type": "code",
   "execution_count": 32,
   "metadata": {
    "ExecuteTime": {
     "end_time": "2021-10-15T06:34:29.552399Z",
     "start_time": "2021-10-15T06:34:29.548679Z"
    }
   },
   "outputs": [],
   "source": [
    "import torch.nn.functional as F"
   ]
  },
  {
   "cell_type": "markdown",
   "metadata": {},
   "source": [
    "### nn.Module\n",
    "W PyTorchu, sieci neuronowe są zbudowane z modułów - obiektów klas dziedziczących po klasie nn.Module. Moduły mogą składać się z innych modułów, a sieć neuronowa w całości też zazwyczaj jest modułem.\n",
    "\n",
    "Podstawowy template dla modułu wygląda następująco"
   ]
  },
  {
   "cell_type": "code",
   "execution_count": null,
   "metadata": {
    "ExecuteTime": {
     "end_time": "2021-10-09T07:40:40.406203Z",
     "start_time": "2021-10-09T07:40:40.401191Z"
    }
   },
   "outputs": [],
   "source": [
    "class MyModule(nn.Module):\n",
    "    \n",
    "    def __init__(self):\n",
    "        super().__init__()\n",
    "        # Some init for my module\n",
    "        \n",
    "    def forward(self, x):\n",
    "        # Function for performing the calculation of the module.\n",
    "        pass"
   ]
  },
  {
   "cell_type": "markdown",
   "metadata": {},
   "source": [
    "W konstruktorze modułu zazwyczaj inicjowane są wszystkie parametry, lub wewnętrzne moduły (np. warstwy sieci)\n",
    "\n",
    "W funkcji forward zapisane są wszystkie obliczenia które są wykonywane kiedy wywołujemy dany moduł. Przykładowo: (nn = MyModule(); nn(x)). \n",
    "\n",
    "Kalkulacja wstecz (backwards) jest tworzona automatycznie, ale w razie potrzeby można ją też nadpisywać "
   ]
  },
  {
   "cell_type": "markdown",
   "metadata": {},
   "source": [
    "# Stwórzmy pierwsza sieć neuronową "
   ]
  },
  {
   "cell_type": "code",
   "execution_count": 33,
   "metadata": {
    "ExecuteTime": {
     "end_time": "2021-10-15T06:43:32.605680Z",
     "start_time": "2021-10-15T06:43:32.597437Z"
    }
   },
   "outputs": [],
   "source": [
    "class SimpleClassifier(nn.Module):\n",
    "\n",
    "    def __init__(self, num_inputs, num_hidden, num_outputs):\n",
    "        super().__init__()\n",
    "        # Initialize the modules we need to build the network\n",
    "        self.linear1 = nn.Linear(num_inputs, num_hidden)\n",
    "        self.act_fn = nn.Tanh()\n",
    "        self.linear2 = nn.Linear(num_hidden, num_outputs)\n",
    "#         self.linear3 = nn.Linear(num_hidden, num_outputs)\n",
    "\n",
    "    def forward(self, x):\n",
    "        # Perform the calculation of the model to determine the prediction\n",
    "        x = self.linear1(x)\n",
    "        x = self.act_fn(x)\n",
    "        x = self.linear2(x)\n",
    "#         x = self.act_fn(x)\n",
    "#         x = self.linear3(x)\n",
    "        return x"
   ]
  },
  {
   "cell_type": "markdown",
   "metadata": {},
   "source": [
    "Wypisywanie zawartości modelu"
   ]
  },
  {
   "cell_type": "code",
   "execution_count": 34,
   "metadata": {
    "ExecuteTime": {
     "end_time": "2021-10-15T06:43:36.560612Z",
     "start_time": "2021-10-15T06:43:36.554872Z"
    }
   },
   "outputs": [
    {
     "name": "stdout",
     "output_type": "stream",
     "text": [
      "SimpleClassifier(\n",
      "  (linear1): Linear(in_features=2, out_features=4, bias=True)\n",
      "  (act_fn): Tanh()\n",
      "  (linear2): Linear(in_features=4, out_features=1, bias=True)\n",
      ")\n"
     ]
    }
   ],
   "source": [
    "model = SimpleClassifier(num_inputs=2, num_hidden=4, num_outputs=1)\n",
    "# model.cuda()\n",
    "# Printing a module shows all its submodules\n",
    "print(model)"
   ]
  },
  {
   "cell_type": "code",
   "execution_count": 35,
   "metadata": {},
   "outputs": [],
   "source": [
    "x = torch.Tensor(2)"
   ]
  },
  {
   "cell_type": "code",
   "execution_count": 36,
   "metadata": {},
   "outputs": [
    {
     "data": {
      "text/plain": [
       "tensor([0.3441], grad_fn=<ViewBackward0>)"
      ]
     },
     "execution_count": 36,
     "metadata": {},
     "output_type": "execute_result"
    }
   ],
   "source": [
    "model.forward(x)\n",
    "model(x)"
   ]
  },
  {
   "cell_type": "markdown",
   "metadata": {},
   "source": [
    "Co tak właściwie mamy w środku?"
   ]
  },
  {
   "cell_type": "code",
   "execution_count": 37,
   "metadata": {
    "ExecuteTime": {
     "end_time": "2021-10-15T06:43:59.318323Z",
     "start_time": "2021-10-15T06:43:59.312691Z"
    }
   },
   "outputs": [
    {
     "name": "stdout",
     "output_type": "stream",
     "text": [
      "Parameter linear1.weight, shape torch.Size([4, 2])\n",
      "Parameter linear1.bias, shape torch.Size([4])\n",
      "Parameter linear2.weight, shape torch.Size([1, 4])\n",
      "Parameter linear2.bias, shape torch.Size([1])\n"
     ]
    }
   ],
   "source": [
    "for name, param in model.named_parameters():\n",
    "    print(f\"Parameter {name}, shape {param.shape}\")"
   ]
  },
  {
   "cell_type": "markdown",
   "metadata": {},
   "source": [
    "## Activation functions"
   ]
  },
  {
   "cell_type": "code",
   "execution_count": 38,
   "metadata": {
    "ExecuteTime": {
     "end_time": "2021-10-15T06:46:24.004399Z",
     "start_time": "2021-10-15T06:46:23.999714Z"
    }
   },
   "outputs": [],
   "source": [
    "act_fn_by_name = {\n",
    "    \"sigmoid\": torch.sigmoid,\n",
    "    \"tanh\": torch.tanh,\n",
    "    \"relu\": F.relu,\n",
    "    \"leakyrelu\": F.leaky_relu\n",
    "}"
   ]
  },
  {
   "cell_type": "code",
   "execution_count": 39,
   "metadata": {
    "ExecuteTime": {
     "end_time": "2021-10-15T06:46:32.611689Z",
     "start_time": "2021-10-15T06:46:32.606580Z"
    }
   },
   "outputs": [],
   "source": [
    "def get_grads(act_fn, x):\n",
    "    x = x.clone().requires_grad_() # Mark the input as tensor for which we want to store gradients\n",
    "    out = act_fn(x)\n",
    "    out.sum().backward() # Summing results in an equal gradient flow to each element in x\n",
    "    return x.grad # Accessing the gradients of x by \"x.grad\""
   ]
  },
  {
   "cell_type": "code",
   "execution_count": 40,
   "metadata": {
    "ExecuteTime": {
     "end_time": "2021-10-15T06:46:34.798998Z",
     "start_time": "2021-10-15T06:46:34.324320Z"
    }
   },
   "outputs": [
    {
     "data": {
      "image/png": "[encoded data removed]",
      "text/plain": [
       "<Figure size 800x800 with 4 Axes>"
      ]
     },
     "metadata": {},
     "output_type": "display_data"
    }
   ],
   "source": [
    "%matplotlib inline\n",
    "def vis_act_fn(act_fn, name, ax, x):\n",
    "    # Run activation function\n",
    "    y = act_fn(x)\n",
    "    y_grads = get_grads(act_fn, x)\n",
    "    # Push x, y and gradients back to cpu for plotting\n",
    "    x, y, y_grads = x.cpu().numpy(), y.cpu().numpy(), y_grads.cpu().numpy()\n",
    "    ## Plotting\n",
    "    ax.plot(x, y, linewidth=2, label=\"ActFn\")\n",
    "    ax.plot(x, y_grads, linewidth=2, label=\"Gradient\")\n",
    "    ax.set_title(name)\n",
    "    ax.legend()\n",
    "    ax.set_ylim(-1.5, x.max())\n",
    "\n",
    "x = torch.linspace(-5, 5, 1000) # Range on which we want to visualize the activation functions\n",
    "## Plotting\n",
    "rows = math.ceil(len(act_fn_by_name)/2.0)\n",
    "fig, ax = plt.subplots(rows, 2, figsize=(8, rows*4))\n",
    "for i, name in enumerate(act_fn_by_name.keys()):\n",
    "    vis_act_fn(act_fn_by_name[name], name, ax[divmod(i,2)], x)\n",
    "fig.subplots_adjust(hspace=0.3)\n",
    "plt.show()\n",
    "plt.close()"
   ]
  },
  {
   "cell_type": "markdown",
   "metadata": {},
   "source": [
    "# Dane\n",
    "PyTorch posiada zaimplementowanych kilka funkcjonalności które pozwalają wczytywać i manipulować danymi. Znajdują się one w pakiecie torch.utils.data"
   ]
  },
  {
   "cell_type": "code",
   "execution_count": 41,
   "metadata": {
    "ExecuteTime": {
     "end_time": "2021-10-15T06:56:27.893031Z",
     "start_time": "2021-10-15T06:56:27.888726Z"
    }
   },
   "outputs": [],
   "source": [
    "import torch.utils.data as data"
   ]
  },
  {
   "cell_type": "markdown",
   "metadata": {},
   "source": [
    "Główną strukturą w ramach której przechowywane (lub niekoniecznie) są dane jest klasa Dataset. Stwórzmy sobie przykładowy zbiór danych - tzw. ciągły XOR. Przykład zaczerpnięty z https://uvadlc-notebooks.readthedocs.io/en/latest/tutorial_notebooks/tutorial2/Introduction_to_PyTorch.html#Learning-by-example:-Continuous-XOR"
   ]
  },
  {
   "cell_type": "code",
   "execution_count": 42,
   "metadata": {
    "ExecuteTime": {
     "end_time": "2021-10-15T06:58:31.045759Z",
     "start_time": "2021-10-15T06:58:31.033124Z"
    }
   },
   "outputs": [],
   "source": [
    "class XORDataset(data.Dataset):\n",
    "\n",
    "    def __init__(self, size, std=0.1):\n",
    "        \"\"\"\n",
    "        Inputs:\n",
    "            size - Number of data points we want to generate\n",
    "            std - Standard deviation of the noise (see generate_continuous_xor function)\n",
    "        \"\"\"\n",
    "        super().__init__()\n",
    "        self.size = size\n",
    "        self.std = std\n",
    "        self.generate_continuous_xor()\n",
    "\n",
    "    def generate_continuous_xor(self):\n",
    "        # Each data point in the XOR dataset has two variables, x and y, that can be either 0 or 1\n",
    "        # The label is their XOR combination, i.e. 1 if only x or only y is 1 while the other is 0.\n",
    "        # If x=y, the label is 0.\n",
    "        data = torch.randint(low=0, high=2, size=(self.size, 2), dtype=torch.float32)\n",
    "        label = (data.sum(dim=1) == 1).to(torch.long)\n",
    "        # To make it slightly more challenging, we add a bit of gaussian noise to the data points.\n",
    "        data += self.std * torch.randn(data.shape)\n",
    "\n",
    "        self.data = data\n",
    "        self.label = label\n",
    "\n",
    "    def __len__(self):\n",
    "        # Number of data point we have. Alternatively self.data.shape[0], or self.label.shape[0]\n",
    "        return self.size\n",
    "\n",
    "    def __getitem__(self, idx):\n",
    "        # Return the idx-th data point of the dataset\n",
    "        # If we have multiple things to return (data point and label), we can return them as tuple\n",
    "        data_point = self.data[idx]\n",
    "        data_label = self.label[idx]\n",
    "        return data_point, data_label"
   ]
  },
  {
   "cell_type": "code",
   "execution_count": 43,
   "metadata": {
    "ExecuteTime": {
     "end_time": "2021-10-15T06:58:37.098767Z",
     "start_time": "2021-10-15T06:58:37.091627Z"
    },
    "scrolled": true
   },
   "outputs": [
    {
     "name": "stdout",
     "output_type": "stream",
     "text": [
      "Size of dataset: 200\n",
      "Data point 0: (tensor([1.0296, 0.1072]), tensor(1))\n"
     ]
    }
   ],
   "source": [
    "dataset = XORDataset(size=200)\n",
    "print(\"Size of dataset:\", len(dataset))\n",
    "print(\"Data point 0:\", dataset[0])"
   ]
  },
  {
   "cell_type": "code",
   "execution_count": 44,
   "metadata": {
    "ExecuteTime": {
     "end_time": "2021-10-15T06:58:41.854203Z",
     "start_time": "2021-10-15T06:58:41.734789Z"
    }
   },
   "outputs": [
    {
     "data": {
      "image/png": "[encoded data removed]",
      "text/plain": [
       "<Figure size 400x400 with 1 Axes>"
      ]
     },
     "metadata": {},
     "output_type": "display_data"
    }
   ],
   "source": [
    "examples = dataset.data\n",
    "labels = dataset.label\n",
    "data_0 = examples[labels == 0]\n",
    "data_1 = examples[labels == 1]\n",
    "\n",
    "plt.figure(figsize=(4,4))\n",
    "plt.scatter(data_0[:,0], data_0[:,1], edgecolor=\"#333\", label=\"Class 0\")\n",
    "plt.scatter(data_1[:,0], data_1[:,1], edgecolor=\"#333\", label=\"Class 1\")\n",
    "plt.title(\"Dataset samples\")\n",
    "plt.legend()\n",
    "plt.show()"
   ]
  },
  {
   "cell_type": "markdown",
   "metadata": {},
   "source": [
    "## Data loaders (Ładowacze danych?!)"
   ]
  },
  {
   "cell_type": "code",
   "execution_count": 45,
   "metadata": {
    "ExecuteTime": {
     "end_time": "2021-10-15T07:02:17.519527Z",
     "start_time": "2021-10-15T07:02:17.514783Z"
    }
   },
   "outputs": [],
   "source": [
    "data_loader = data.DataLoader(dataset, batch_size=8, shuffle=True)"
   ]
  },
  {
   "cell_type": "code",
   "execution_count": 46,
   "metadata": {
    "ExecuteTime": {
     "end_time": "2021-10-15T07:02:33.724184Z",
     "start_time": "2021-10-15T07:02:33.715355Z"
    }
   },
   "outputs": [
    {
     "data": {
      "text/plain": [
       "[tensor([[ 1.0376, -0.0577],\n",
       "         [-0.0409, -0.1398],\n",
       "         [-0.1483, -0.0627],\n",
       "         [-0.1475,  0.0715],\n",
       "         [-0.0665,  0.9088],\n",
       "         [ 0.0215,  1.0159],\n",
       "         [ 1.0296,  0.0612],\n",
       "         [ 0.0587,  0.7831]]),\n",
       " tensor([1, 0, 0, 0, 1, 1, 1, 1])]"
      ]
     },
     "execution_count": 46,
     "metadata": {},
     "output_type": "execute_result"
    }
   ],
   "source": [
    "next(iter(data_loader))"
   ]
  },
  {
   "cell_type": "code",
   "execution_count": 47,
   "metadata": {
    "ExecuteTime": {
     "end_time": "2021-10-15T07:03:36.174474Z",
     "start_time": "2021-10-15T07:03:36.169066Z"
    }
   },
   "outputs": [
    {
     "data": {
      "text/plain": [
       "25"
      ]
     },
     "execution_count": 47,
     "metadata": {},
     "output_type": "execute_result"
    }
   ],
   "source": [
    "len(data_loader)"
   ]
  },
  {
   "cell_type": "code",
   "execution_count": 48,
   "metadata": {
    "ExecuteTime": {
     "end_time": "2021-10-15T07:04:04.285129Z",
     "start_time": "2021-10-15T07:04:04.277946Z"
    }
   },
   "outputs": [
    {
     "data": {
      "text/plain": [
       "200"
      ]
     },
     "execution_count": 48,
     "metadata": {},
     "output_type": "execute_result"
    }
   ],
   "source": [
    "next(iter(data_loader))[0].shape[0]*len(data_loader)"
   ]
  },
  {
   "cell_type": "code",
   "execution_count": 49,
   "metadata": {
    "ExecuteTime": {
     "end_time": "2021-10-15T07:04:34.190206Z",
     "start_time": "2021-10-15T07:04:34.182718Z"
    }
   },
   "outputs": [
    {
     "data": {
      "text/plain": [
       "203"
      ]
     },
     "execution_count": 49,
     "metadata": {},
     "output_type": "execute_result"
    }
   ],
   "source": [
    "data_loader_2 = data.DataLoader(dataset, batch_size=7, shuffle=True)\n",
    "next(iter(data_loader_2))[0].shape[0]*len(data_loader_2)"
   ]
  },
  {
   "cell_type": "code",
   "execution_count": 50,
   "metadata": {
    "ExecuteTime": {
     "end_time": "2021-10-15T07:04:55.373439Z",
     "start_time": "2021-10-15T07:04:55.362483Z"
    }
   },
   "outputs": [
    {
     "data": {
      "text/plain": [
       "[tensor([[0.8690, 0.9283],\n",
       "         [1.1361, 1.0033],\n",
       "         [0.0063, 1.0270],\n",
       "         [0.0693, 1.2039]]),\n",
       " tensor([0, 0, 1, 1])]"
      ]
     },
     "execution_count": 50,
     "metadata": {},
     "output_type": "execute_result"
    }
   ],
   "source": [
    "list(iter(data_loader_2))[-1]"
   ]
  },
  {
   "cell_type": "markdown",
   "metadata": {},
   "source": [
    "#### Drop last\n",
    "Parametr powodujący pominięcie ostatniego wsadu (batch)"
   ]
  },
  {
   "cell_type": "code",
   "execution_count": null,
   "metadata": {
    "ExecuteTime": {
     "end_time": "2021-10-15T07:05:25.707981Z",
     "start_time": "2021-10-15T07:05:25.700236Z"
    },
    "scrolled": true
   },
   "outputs": [
    {
     "data": {
      "text/plain": [
       "196"
      ]
     },
     "execution_count": 29,
     "metadata": {},
     "output_type": "execute_result"
    }
   ],
   "source": [
    "data_loader_2 = data.DataLoader(dataset,batch_size=7, shuffle=True, drop_last=True)\n",
    "next(iter(data_loader_2))[0].shape[0]*len(data_loader_2)"
   ]
  },
  {
   "cell_type": "markdown",
   "metadata": {},
   "source": [
    "## Funkcje straty\n",
    "Na poprzednich zajęciach obliczaliśmy funkcję straty ręcznie wykonując operacje na tensorach. Jest to w pełni poprawne rozwiązanie, ale możemy też nie wymyślać koła na nowo, ale wykorzystać wbudowane moduły. Pełna lista dostępna tutaj: https://pytorch.org/docs/stable/nn.html#loss-functions"
   ]
  },
  {
   "cell_type": "code",
   "execution_count": 51,
   "metadata": {
    "ExecuteTime": {
     "end_time": "2021-10-15T07:23:49.066606Z",
     "start_time": "2021-10-15T07:23:49.057207Z"
    }
   },
   "outputs": [],
   "source": [
    "from mpl_toolkits.mplot3d import Axes3D\n",
    "import matplotlib.pyplot as plt\n",
    "%matplotlib inline"
   ]
  },
  {
   "cell_type": "code",
   "execution_count": null,
   "metadata": {
    "ExecuteTime": {
     "end_time": "2021-10-15T07:24:03.454133Z",
     "start_time": "2021-10-15T07:24:03.447263Z"
    }
   },
   "outputs": [
    {
     "name": "stdout",
     "output_type": "stream",
     "text": [
      "tensor([0, 1, 2, 3, 4]) tensor([1., 1., 1., 1., 1.])\n"
     ]
    }
   ],
   "source": [
    "tensor_1 = torch.arange(5)\n",
    "tensor_2 = torch.ones(5)\n",
    "print(tensor_1, tensor_2)"
   ]
  },
  {
   "cell_type": "markdown",
   "metadata": {},
   "source": [
    "### Błąd średniokwadratowy (Mean Squared Error) lub L2Loss"
   ]
  },
  {
   "cell_type": "code",
   "execution_count": null,
   "metadata": {
    "ExecuteTime": {
     "end_time": "2021-10-15T07:24:22.469112Z",
     "start_time": "2021-10-15T07:24:22.462160Z"
    }
   },
   "outputs": [
    {
     "data": {
      "text/plain": [
       "tensor(3.)"
      ]
     },
     "execution_count": 33,
     "metadata": {},
     "output_type": "execute_result"
    }
   ],
   "source": [
    "loss = nn.MSELoss()\n",
    "loss(tensor_1,tensor_2)"
   ]
  },
  {
   "cell_type": "markdown",
   "metadata": {},
   "source": [
    "$ \\quad l_{n}=\\left(x_{n}-y_{n}\\right)^{2}$"
   ]
  },
  {
   "cell_type": "code",
   "execution_count": null,
   "metadata": {
    "ExecuteTime": {
     "end_time": "2021-10-15T07:27:22.476676Z",
     "start_time": "2021-10-15T07:27:22.467395Z"
    }
   },
   "outputs": [
    {
     "name": "stdout",
     "output_type": "stream",
     "text": [
      "No reduction: tensor([1., 0., 1., 4., 9.])\n",
      "Mean: 3.0\n",
      "Sum: 15.0\n"
     ]
    }
   ],
   "source": [
    "loss = nn.MSELoss(reduction=\"none\")\n",
    "print(f\"No reduction: {loss(tensor_1,tensor_2)}\")\n",
    "loss = nn.MSELoss(reduction=\"mean\")\n",
    "print(f\"Mean: {loss(tensor_1,tensor_2)}\")\n",
    "loss = nn.MSELoss(reduction=\"sum\")\n",
    "print(f\"Sum: {loss(tensor_1,tensor_2)}\")"
   ]
  },
  {
   "cell_type": "code",
   "execution_count": null,
   "metadata": {
    "ExecuteTime": {
     "end_time": "2021-10-15T07:28:00.314781Z",
     "start_time": "2021-10-15T07:28:00.307796Z"
    },
    "scrolled": true
   },
   "outputs": [
    {
     "data": {
      "text/plain": [
       "tensor(3.)"
      ]
     },
     "execution_count": 35,
     "metadata": {},
     "output_type": "execute_result"
    }
   ],
   "source": [
    "F.mse_loss(tensor_1, tensor_2)"
   ]
  },
  {
   "cell_type": "code",
   "execution_count": null,
   "metadata": {
    "ExecuteTime": {
     "end_time": "2021-10-15T07:28:06.205007Z",
     "start_time": "2021-10-15T07:28:06.052756Z"
    }
   },
   "outputs": [
    {
     "data": {
      "image/png": "[encoded data removed]",
      "text/plain": [
       "<Figure size 640x480 with 1 Axes>"
      ]
     },
     "metadata": {},
     "output_type": "display_data"
    }
   ],
   "source": [
    "loss = nn.MSELoss(reduction=\"none\")\n",
    "x, y = torch.meshgrid(torch.linspace(0,10,100),torch.linspace(0,10,100), indexing='ij')\n",
    "z = loss(x,y)\n",
    "\n",
    "fig = plt.figure()\n",
    "ax = fig.add_subplot(projection = '3d')\n",
    "\n",
    "ax.plot_trisurf(x.numpy().flatten(), y.numpy().flatten(), z.numpy().flatten(), linewidth=0.2, antialiased=True)\n",
    "\n",
    "plt.show()"
   ]
  },
  {
   "cell_type": "markdown",
   "metadata": {},
   "source": [
    "### Błąd bezwzględny (Mean absolute Error) lub L1Loss"
   ]
  },
  {
   "cell_type": "markdown",
   "metadata": {
    "ExecuteTime": {
     "end_time": "2021-10-08T20:04:21.482653Z",
     "start_time": "2021-10-08T20:04:21.475776Z"
    }
   },
   "source": [
    "$ \\quad l_{n}=\\left|x_{n}-y_{n}\\right|$"
   ]
  },
  {
   "cell_type": "code",
   "execution_count": null,
   "metadata": {
    "ExecuteTime": {
     "end_time": "2021-10-15T07:30:20.809441Z",
     "start_time": "2021-10-15T07:30:20.798876Z"
    }
   },
   "outputs": [
    {
     "name": "stdout",
     "output_type": "stream",
     "text": [
      "tensor([0, 1, 2, 3, 4]) tensor([1., 1., 1., 1., 1.])\n"
     ]
    },
    {
     "data": {
      "text/plain": [
       "tensor(1.4000)"
      ]
     },
     "execution_count": 37,
     "metadata": {},
     "output_type": "execute_result"
    }
   ],
   "source": [
    "print(tensor_1, tensor_2)\n",
    "loss = nn.L1Loss()\n",
    "loss(tensor_1,tensor_2)"
   ]
  },
  {
   "cell_type": "code",
   "execution_count": null,
   "metadata": {
    "ExecuteTime": {
     "end_time": "2021-10-15T07:30:24.982771Z",
     "start_time": "2021-10-15T07:30:24.974301Z"
    }
   },
   "outputs": [
    {
     "name": "stdout",
     "output_type": "stream",
     "text": [
      "No reduction: tensor([1., 0., 1., 2., 3.])\n",
      "Mean: 1.399999976158142\n",
      "Sum: 7.0\n"
     ]
    }
   ],
   "source": [
    "loss = nn.L1Loss(reduction=\"none\")\n",
    "print(f\"No reduction: {loss(tensor_1,tensor_2)}\")\n",
    "loss = nn.L1Loss(reduction=\"mean\")\n",
    "print(f\"Mean: {loss(tensor_1,tensor_2)}\")\n",
    "loss = nn.L1Loss(reduction=\"sum\")\n",
    "print(f\"Sum: {loss(tensor_1,tensor_2)}\")"
   ]
  },
  {
   "cell_type": "code",
   "execution_count": null,
   "metadata": {
    "ExecuteTime": {
     "end_time": "2021-10-15T07:30:26.863924Z",
     "start_time": "2021-10-15T07:30:26.707699Z"
    }
   },
   "outputs": [
    {
     "data": {
      "image/png": "[encoded data removed]",
      "text/plain": [
       "<Figure size 640x480 with 1 Axes>"
      ]
     },
     "metadata": {},
     "output_type": "display_data"
    }
   ],
   "source": [
    "loss = nn.L1Loss(reduction=\"none\")\n",
    "x, y = torch.meshgrid(torch.linspace(0,10,100),torch.linspace(0,10,100), indexing='ij')\n",
    "z = loss(x,y)\n",
    "\n",
    "fig = plt.figure()\n",
    "ax = fig.add_subplot(projection = '3d')\n",
    "\n",
    "ax.plot_trisurf(x.numpy().flatten(), y.numpy().flatten(), z.numpy().flatten(), linewidth=0.2, antialiased=True)\n",
    "    \n",
    "plt.show()"
   ]
  },
  {
   "cell_type": "markdown",
   "metadata": {},
   "source": [
    "### Entropia krzyżowa:\n",
    "$l_{n}=\\left[y_{n} \\cdot \\log x_{n}+\\left(1-y_{n}\\right) \\cdot \\log \\left(1-x_{n}\\right)\\right]$"
   ]
  },
  {
   "cell_type": "code",
   "execution_count": null,
   "metadata": {
    "ExecuteTime": {
     "end_time": "2021-10-15T07:34:59.743694Z",
     "start_time": "2021-10-15T07:34:59.730893Z"
    }
   },
   "outputs": [],
   "source": [
    "tensor_1 = torch.rand(5)\n",
    "tensor_2 = torch.ones(5)\n",
    "print(tensor_1, tensor_2)\n",
    "loss = nn.BCELoss(reduction=\"none\")\n",
    "loss(tensor_1,tensor_2)"
   ]
  },
  {
   "cell_type": "code",
   "execution_count": null,
   "metadata": {
    "ExecuteTime": {
     "end_time": "2021-10-15T07:35:03.280234Z",
     "start_time": "2021-10-15T07:35:03.210393Z"
    }
   },
   "outputs": [],
   "source": [
    "loss(tensor_1*10,tensor_2)"
   ]
  },
  {
   "cell_type": "code",
   "execution_count": null,
   "metadata": {
    "ExecuteTime": {
     "end_time": "2021-10-15T07:40:54.408039Z",
     "start_time": "2021-10-15T07:40:54.401288Z"
    }
   },
   "outputs": [],
   "source": [
    "loss = nn.BCEWithLogitsLoss(reduction=\"none\")\n",
    "loss(tensor_1*100,tensor_2)"
   ]
  },
  {
   "cell_type": "code",
   "execution_count": null,
   "metadata": {
    "ExecuteTime": {
     "end_time": "2021-10-15T07:41:06.608957Z",
     "start_time": "2021-10-15T07:41:06.400148Z"
    }
   },
   "outputs": [],
   "source": [
    "loss = nn.BCEWithLogitsLoss(reduction=\"none\")\n",
    "x, y = torch.meshgrid(torch.linspace(-10,10,100),torch.linspace(-10,10,100))\n",
    "z = loss(x,y)\n",
    "\n",
    "fig = plt.figure()\n",
    "ax = fig.add_subplot(projection = '3d')\n",
    "#ax = fig.gca(projection='3d') - for older matplotlib\n",
    "\n",
    "ax.plot_trisurf(x.numpy().flatten(), y.numpy().flatten(), z.numpy().flatten(), linewidth=0.2, antialiased=True)\n",
    "\n",
    "plt.show()"
   ]
  },
  {
   "cell_type": "markdown",
   "metadata": {},
   "source": [
    "# Optymalizacja parametrów\n",
    "W przykładowym problemie optymalizacji parametrów regresji, ręcznie aktualizowaliśmy gradienty. W torch są do tego narzędzia zwane optymalizatorami, znajdują się one w pakiecie torch.optim\n",
    "\n",
    "Najprostszym optymalizaotrem jest algorytm stochastycznego spadku gradientu (Stochastic Gradient Descent) - SGD"
   ]
  },
  {
   "cell_type": "code",
   "execution_count": 52,
   "metadata": {
    "ExecuteTime": {
     "end_time": "2021-10-15T07:43:48.800381Z",
     "start_time": "2021-10-15T07:43:48.794037Z"
    }
   },
   "outputs": [
    {
     "name": "stdout",
     "output_type": "stream",
     "text": [
      "SimpleClassifier(\n",
      "  (linear1): Linear(in_features=2, out_features=4, bias=True)\n",
      "  (act_fn): Tanh()\n",
      "  (linear2): Linear(in_features=4, out_features=1, bias=True)\n",
      ")\n"
     ]
    }
   ],
   "source": [
    "model = SimpleClassifier(num_inputs=2, num_hidden=4, num_outputs=1)\n",
    "print(model)"
   ]
  },
  {
   "cell_type": "code",
   "execution_count": 53,
   "metadata": {
    "ExecuteTime": {
     "end_time": "2021-10-15T07:43:49.078656Z",
     "start_time": "2021-10-15T07:43:49.076336Z"
    }
   },
   "outputs": [],
   "source": [
    "optimizer = torch.optim.SGD(model.parameters(), lr = 0.1)"
   ]
  },
  {
   "cell_type": "markdown",
   "metadata": {},
   "source": [
    "## Połączmy to wszystko razem"
   ]
  },
  {
   "cell_type": "code",
   "execution_count": 54,
   "metadata": {
    "ExecuteTime": {
     "end_time": "2021-10-15T07:44:18.983845Z",
     "start_time": "2021-10-15T07:44:18.978346Z"
    }
   },
   "outputs": [],
   "source": [
    "train_dataset = XORDataset(size=1000)\n",
    "train_data_loader = data.DataLoader(train_dataset, batch_size=128, shuffle=True)"
   ]
  },
  {
   "cell_type": "code",
   "execution_count": 56,
   "metadata": {
    "ExecuteTime": {
     "end_time": "2021-10-15T07:44:36.326493Z",
     "start_time": "2021-10-15T07:44:36.306043Z"
    }
   },
   "outputs": [],
   "source": [
    "model = SimpleClassifier(num_inputs=2, num_hidden=4, num_outputs=1)"
   ]
  },
  {
   "cell_type": "code",
   "execution_count": 57,
   "metadata": {
    "ExecuteTime": {
     "end_time": "2021-10-15T07:45:02.741675Z",
     "start_time": "2021-10-15T07:45:02.737243Z"
    }
   },
   "outputs": [],
   "source": [
    "optimizer = torch.optim.SGD(model.parameters(), lr = 0.1)"
   ]
  },
  {
   "cell_type": "code",
   "execution_count": 58,
   "metadata": {
    "ExecuteTime": {
     "end_time": "2021-10-15T07:46:29.841453Z",
     "start_time": "2021-10-15T07:46:29.837141Z"
    }
   },
   "outputs": [],
   "source": [
    "loss_module = nn.BCEWithLogitsLoss()"
   ]
  },
  {
   "cell_type": "code",
   "execution_count": 60,
   "metadata": {
    "ExecuteTime": {
     "end_time": "2021-10-15T07:50:48.258366Z",
     "start_time": "2021-10-15T07:50:46.369532Z"
    },
    "scrolled": true
   },
   "outputs": [
    {
     "name": "stdout",
     "output_type": "stream",
     "text": [
      "Epoch: 0, loss: 0.7\n",
      "tensor([-0.1419, -0.1258, -0.1153,  0.4779, -0.1012,  0.4005,  0.1839,  0.0092,\n",
      "         0.2714,  0.0982,  0.5102,  0.1921, -0.0803, -0.1346,  0.4606,  0.3368,\n",
      "        -0.0985,  0.2369,  0.2732,  0.1228, -0.0920,  0.2274, -0.0704,  0.4591,\n",
      "         0.0871,  0.2872,  0.1376, -0.2072, -0.1890,  0.2278,  0.1063,  0.2132,\n",
      "        -0.1402,  0.1559, -0.1032, -0.0796,  0.1348,  0.1347,  0.0599,  0.4403,\n",
      "         0.5045,  0.1273,  0.1512,  0.2694,  0.1053,  0.0756,  0.0923,  0.5285,\n",
      "        -0.1207,  0.2481,  0.4663,  0.2862, -0.0468,  0.5018,  0.4925,  0.5346,\n",
      "         0.1497,  0.2639,  0.2944, -0.0801,  0.3428,  0.4527,  0.2505,  0.5385,\n",
      "        -0.1586,  0.4825,  0.1034,  0.4724,  0.1155,  0.0853,  0.0300,  0.5074,\n",
      "         0.3471, -0.1066,  0.3806,  0.2763,  0.3880, -0.1905,  0.3141, -0.1576,\n",
      "         0.4970, -0.2007,  0.4922, -0.0721,  0.2698,  0.4722,  0.2641, -0.1736,\n",
      "        -0.1725,  0.2293,  0.2601,  0.3263, -0.1743,  0.2749,  0.0464,  0.4997,\n",
      "         0.5300,  0.1127,  0.1585, -0.0018,  0.2541,  0.3278,  0.4457,  0.4934],\n",
      "       grad_fn=<SqueezeBackward1>)\n",
      "Epoch: 1, loss: 0.706\n",
      "tensor([ 0.2232,  0.2129,  0.0686,  0.2173,  0.0770, -0.0232,  0.4283,  0.1076,\n",
      "         0.3289,  0.2224, -0.1326,  0.2163,  0.0642, -0.1157,  0.3905, -0.2111,\n",
      "        -0.0781,  0.2488,  0.3978,  0.0774,  0.2399,  0.3985, -0.1554,  0.3798,\n",
      "         0.0974,  0.1256, -0.1438,  0.4301,  0.3780,  0.2247,  0.2226,  0.4222,\n",
      "         0.4038,  0.3655,  0.0523, -0.1607, -0.1324,  0.0863,  0.4506,  0.2088,\n",
      "        -0.1375, -0.0974,  0.1090, -0.0859,  0.1841,  0.1379, -0.1215, -0.1512,\n",
      "        -0.1217, -0.1556,  0.4462, -0.1845,  0.0009,  0.4002, -0.0127,  0.0886,\n",
      "         0.2258,  0.0724,  0.4622,  0.5080, -0.0857,  0.2274,  0.4326,  0.4397,\n",
      "         0.4363, -0.1956,  0.2765,  0.2810,  0.0624,  0.1124,  0.3319,  0.0044,\n",
      "         0.3734, -0.1320, -0.1787,  0.0453,  0.2199, -0.0530,  0.0685,  0.3737,\n",
      "         0.1643, -0.1199,  0.4502,  0.3735, -0.1998,  0.0774,  0.4200,  0.0221,\n",
      "         0.2494,  0.3955,  0.2823, -0.0048,  0.0489,  0.3734, -0.2336, -0.1388,\n",
      "        -0.1956,  0.0111,  0.2916,  0.4777,  0.3046,  0.0576, -0.1339, -0.1100],\n",
      "       grad_fn=<SqueezeBackward1>)\n",
      "Epoch: 2, loss: 0.69\n",
      "tensor([-2.0553e-01,  2.0813e-01, -1.9935e-01,  1.9584e-01,  1.4371e-01,\n",
      "        -1.5546e-01,  3.4997e-01,  3.7491e-01,  4.2129e-02,  3.0568e-01,\n",
      "        -1.3190e-03,  3.9158e-01, -2.6771e-02, -1.6030e-01, -2.3232e-01,\n",
      "        -1.8518e-01,  6.0018e-05,  2.5877e-01, -1.7591e-01,  5.3019e-02,\n",
      "         2.0126e-01, -1.8414e-01, -1.5083e-01,  3.5832e-01, -1.5514e-01,\n",
      "         4.1960e-02,  3.6080e-01,  3.5817e-01, -1.7762e-01,  2.7202e-02,\n",
      "         3.6065e-01,  3.3082e-01,  3.6878e-01,  1.3702e-01,  3.4253e-01,\n",
      "         1.4084e-01,  1.9364e-01,  2.3690e-01,  6.7375e-02, -3.7351e-02,\n",
      "         2.5548e-02, -1.8476e-01, -1.9243e-01,  1.7308e-01,  1.4379e-01,\n",
      "         8.8548e-02,  6.7071e-02,  3.3952e-01,  3.9895e-01,  2.3583e-01,\n",
      "         1.9973e-01,  2.3803e-01, -1.4657e-01,  1.7659e-01, -3.6019e-02,\n",
      "         1.3270e-01, -1.6452e-01,  1.7129e-01, -1.5718e-01, -3.0269e-02,\n",
      "         7.4491e-02,  1.7701e-01,  3.1615e-01,  2.4457e-01,  1.9012e-01,\n",
      "         2.6316e-01,  2.4972e-01,  3.7454e-01,  3.2148e-01,  3.6827e-01,\n",
      "         3.7499e-01, -1.7353e-01, -1.8102e-01,  1.5466e-02,  3.8657e-01,\n",
      "         3.9016e-01,  5.1797e-03,  2.3206e-01,  1.9620e-01,  2.3149e-01,\n",
      "         1.3993e-01, -1.6736e-01, -2.0018e-01,  1.5847e-01,  4.0639e-02,\n",
      "         4.9702e-02, -2.5415e-01,  2.1931e-01,  1.8982e-01, -1.4092e-01,\n",
      "         3.9269e-01, -1.5850e-01, -1.4619e-01, -1.4140e-01,  3.7113e-01,\n",
      "         3.9139e-02,  2.1509e-02,  3.4608e-01,  3.7746e-01,  6.2794e-02,\n",
      "         3.9327e-01,  6.9603e-02, -1.5695e-01,  1.7778e-01],\n",
      "       grad_fn=<SqueezeBackward1>)\n",
      "Epoch: 3, loss: 0.697\n",
      "tensor([-1.6175e-01, -1.9737e-01,  1.9976e-01,  2.1985e-01,  1.5796e-01,\n",
      "         3.4562e-01,  2.9646e-01, -8.0278e-03,  2.8384e-01, -1.6396e-01,\n",
      "         1.6989e-01,  1.2780e-01, -1.9308e-01,  1.5469e-01,  1.6365e-01,\n",
      "         2.4830e-01, -1.7960e-01,  3.0386e-01,  2.1934e-01,  2.4487e-01,\n",
      "         3.1779e-01,  1.4434e-02,  1.3708e-01,  2.4041e-01, -1.6789e-01,\n",
      "        -5.1125e-02,  2.7648e-01,  1.8744e-01, -3.1479e-01, -9.6566e-03,\n",
      "         3.1797e-03,  2.1125e-01,  4.0575e-01, -1.6819e-01, -2.2820e-01,\n",
      "         1.5500e-01, -4.2215e-02,  1.8604e-01, -3.2720e-02,  3.2563e-01,\n",
      "        -1.7268e-01,  3.4042e-01,  1.7350e-01, -2.3446e-01, -1.6243e-01,\n",
      "        -4.8901e-02,  3.4874e-01,  5.7201e-03,  1.9151e-01,  1.4137e-01,\n",
      "         2.0017e-01, -1.9154e-01, -3.1667e-03,  3.1076e-02,  2.1794e-01,\n",
      "         3.4238e-01, -2.6564e-01,  5.9111e-03, -2.4717e-02,  3.5213e-01,\n",
      "         1.2976e-01,  3.2246e-01,  1.8261e-01,  1.4648e-01,  4.7505e-02,\n",
      "         4.9186e-02,  1.6573e-01, -1.1897e-01, -1.5979e-01,  1.4862e-01,\n",
      "         3.5675e-01,  3.6133e-01,  3.3677e-01,  3.4341e-01, -1.7606e-01,\n",
      "         1.9277e-01,  1.7133e-01,  1.1308e-02,  4.3435e-02,  3.3466e-01,\n",
      "        -2.6105e-01,  9.3749e-02,  3.2910e-01,  1.7307e-01,  2.3457e-01,\n",
      "         3.6256e-01, -2.6925e-01,  3.4460e-01,  2.1815e-01,  3.4778e-01,\n",
      "         2.7148e-01,  2.0357e-01,  3.2408e-01,  2.9887e-01,  2.1192e-01,\n",
      "         8.3804e-03,  3.2172e-01,  6.4662e-02,  2.5167e-03, -2.6275e-02,\n",
      "         3.5520e-01,  1.5596e-01,  2.6856e-04, -1.3825e-01],\n",
      "       grad_fn=<SqueezeBackward1>)\n",
      "Epoch: 4, loss: 0.707\n",
      "tensor([ 0.1592, -0.1764,  0.2073,  0.1705,  0.2736,  0.2897, -0.2653, -0.0118,\n",
      "         0.3113,  0.3125,  0.1047, -0.2297,  0.1272, -0.0656,  0.2443,  0.2911,\n",
      "        -0.1836,  0.0113,  0.2990,  0.2693,  0.1258,  0.1760, -0.0017, -0.2070,\n",
      "         0.1151,  0.1566,  0.3110, -0.0642,  0.0208,  0.0323,  0.3272, -0.0035,\n",
      "        -0.2224,  0.2124,  0.1544,  0.0818,  0.2738,  0.2946, -0.0305,  0.0510,\n",
      "         0.0287, -0.2443,  0.2828, -0.1664, -0.0796,  0.1290,  0.0476, -0.0577,\n",
      "         0.0204,  0.1899,  0.1395, -0.2435,  0.1335, -0.2597, -0.2066, -0.1152,\n",
      "         0.1730,  0.3154, -0.1107,  0.3009,  0.1343,  0.3324,  0.2859,  0.3103,\n",
      "         0.0251,  0.2843,  0.1950, -0.0398,  0.2453, -0.0226,  0.3024, -0.0496,\n",
      "        -0.1724,  0.1648,  0.0387,  0.2414,  0.0131, -0.2444, -0.0139,  0.2879,\n",
      "         0.3097,  0.0651,  0.3431,  0.2816,  0.2725,  0.0027, -0.0442, -0.0048,\n",
      "        -0.0281,  0.1363, -0.0258,  0.1770,  0.3230, -0.1707,  0.3139,  0.1714,\n",
      "        -0.0272,  0.2070, -0.1643,  0.1371, -0.1751,  0.3020,  0.3019, -0.1148],\n",
      "       grad_fn=<SqueezeBackward1>)\n",
      "Epoch: 5, loss: 0.708\n",
      "tensor([ 1.6249e-01, -3.2917e-02, -3.7096e-02,  1.5773e-01,  1.7458e-01,\n",
      "         9.2447e-03, -8.1733e-02,  2.6024e-01,  2.5299e-01,  3.3303e-01,\n",
      "         3.1434e-01,  1.0463e-01,  1.7412e-01, -2.1420e-01,  2.9578e-01,\n",
      "         1.8231e-01, -4.2533e-02,  2.8567e-01,  3.0135e-02,  1.4407e-01,\n",
      "         2.8898e-01, -2.0962e-02, -1.9338e-02, -1.8971e-01, -2.2060e-01,\n",
      "         2.7030e-01,  7.6922e-02,  1.6228e-01, -2.3691e-02,  1.0611e-01,\n",
      "        -4.6631e-02, -2.1422e-01,  4.1297e-03,  1.8593e-01,  2.4665e-01,\n",
      "         2.7315e-01,  1.0952e-01,  2.2438e-01,  1.9421e-01,  1.4400e-01,\n",
      "         1.7230e-01,  2.3482e-03,  3.0717e-01, -1.3522e-01,  1.3405e-01,\n",
      "         1.6828e-01, -1.1837e-02, -2.3615e-01,  1.1585e-01, -1.5915e-01,\n",
      "         2.6637e-01,  2.6480e-01,  2.3918e-01, -1.5907e-01,  3.2336e-01,\n",
      "         1.4433e-01,  2.6485e-01,  2.9143e-01,  2.1061e-01,  1.4046e-01,\n",
      "         2.0820e-01,  6.7788e-02,  2.7594e-01, -1.8019e-01, -2.1673e-01,\n",
      "        -1.3468e-01,  2.6936e-01,  9.0693e-02,  1.3961e-01, -2.0313e-01,\n",
      "         1.5832e-02, -1.7484e-02,  2.0864e-02,  2.2739e-01,  2.4140e-02,\n",
      "         2.9998e-01, -1.9440e-01, -2.3367e-02, -4.8664e-02,  1.6345e-01,\n",
      "        -2.8199e-02,  2.9804e-01, -8.9700e-02,  2.8154e-01,  1.5960e-01,\n",
      "         2.8683e-01,  5.1885e-02,  2.7065e-01,  2.8680e-01, -2.3264e-01,\n",
      "         1.4158e-01, -4.0746e-02,  2.6808e-01, -2.3116e-01,  3.1468e-04,\n",
      "         6.3081e-02,  2.8037e-01,  2.6096e-01,  4.9621e-02,  4.0272e-02,\n",
      "         2.5703e-01,  3.0483e-01,  1.4720e-01, -2.1223e-01],\n",
      "       grad_fn=<SqueezeBackward1>)\n",
      "Epoch: 6, loss: 0.675\n",
      "tensor([ 0.1059, -0.1251,  0.2352,  0.1366, -0.1123,  0.2857, -0.2063,  0.1884,\n",
      "         0.1147,  0.2617, -0.0685,  0.1805,  0.0743, -0.1792,  0.0133, -0.1807,\n",
      "        -0.0143,  0.1954, -0.0130, -0.2204,  0.3072,  0.0804, -0.0275, -0.1601,\n",
      "         0.2511,  0.1575,  0.1161, -0.0063,  0.1340,  0.2604, -0.0205,  0.0229,\n",
      "        -0.1542,  0.2077,  0.2802, -0.0628,  0.2720, -0.0374, -0.2547, -0.0263,\n",
      "         0.1628, -0.1165, -0.1669,  0.1584, -0.1828,  0.1158,  0.0909, -0.1702,\n",
      "        -0.0619, -0.0213, -0.2875,  0.1383,  0.1510, -0.1753,  0.1379, -0.0219,\n",
      "         0.1329,  0.2525, -0.0204,  0.1829,  0.2467,  0.2572,  0.1863,  0.1475,\n",
      "         0.1186,  0.0885,  0.1737, -0.1828,  0.2618, -0.2554,  0.0353,  0.1368,\n",
      "         0.1233, -0.2089, -0.1557, -0.1757, -0.1561,  0.0137,  0.1661, -0.0279,\n",
      "         0.1151, -0.0387,  0.1470, -0.2011, -0.2088, -0.2481,  0.1623, -0.1808,\n",
      "         0.2805,  0.2367,  0.2111,  0.1137, -0.0499,  0.0890, -0.2167, -0.0867,\n",
      "        -0.0299, -0.0240, -0.0320,  0.1200,  0.0200, -0.1614,  0.1113, -0.2467],\n",
      "       grad_fn=<SqueezeBackward1>)\n",
      "Epoch: 7, loss: 0.701\n",
      "tensor([ 0.2433, -0.1895, -0.2227, -0.1082,  0.2471, -0.1005, -0.0233, -0.0631,\n",
      "         0.1334,  0.2802, -0.0960, -0.1773,  0.1280,  0.0203, -0.0313,  0.2628,\n",
      "         0.2566, -0.0563, -0.2204,  0.1636,  0.2825, -0.0009,  0.1523,  0.1808,\n",
      "         0.2108, -0.1395,  0.1341,  0.2572, -0.1189,  0.2360,  0.1733,  0.1145,\n",
      "         0.2746,  0.2359,  0.0158,  0.2618, -0.1316,  0.2335, -0.1940,  0.2114,\n",
      "         0.3174,  0.2060, -0.1136,  0.2377,  0.0963, -0.2115,  0.2364,  0.0086,\n",
      "         0.1434, -0.0763,  0.1787, -0.0263,  0.2608, -0.0085,  0.2469,  0.0350,\n",
      "         0.2306,  0.2461,  0.2545, -0.0389, -0.0238, -0.0020, -0.0259, -0.1965,\n",
      "         0.1290, -0.0265,  0.1338,  0.1312,  0.1335,  0.1342, -0.0166,  0.1132,\n",
      "        -0.2442,  0.2592,  0.2131, -0.1349,  0.2372,  0.0338,  0.1563,  0.1638,\n",
      "        -0.0309,  0.1429,  0.1802, -0.1951,  0.1428,  0.1696, -0.0714,  0.2549,\n",
      "        -0.2129, -0.0505, -0.0021,  0.1389,  0.0129, -0.1673,  0.2446,  0.1782,\n",
      "         0.2321, -0.1726,  0.0079,  0.2166,  0.1405,  0.1974, -0.1382,  0.1404],\n",
      "       grad_fn=<SqueezeBackward1>)\n",
      "Epoch: 8, loss: 0.687\n",
      "tensor([-0.1935,  0.1505,  0.3182,  0.0263,  0.0052, -0.0671,  0.0019,  0.1516,\n",
      "         0.2172,  0.2327,  0.1601, -0.1709,  0.2514,  0.1644,  0.1505,  0.2762,\n",
      "        -0.1228,  0.1590,  0.0223,  0.0058,  0.2755,  0.2346, -0.0874, -0.0818,\n",
      "         0.1771,  0.0313,  0.2713,  0.1289,  0.0212, -0.1407, -0.2051,  0.2742,\n",
      "        -0.0045,  0.1716,  0.1953, -0.1753,  0.2620, -0.1901,  0.1585,  0.1942,\n",
      "         0.2006, -0.1616, -0.1566,  0.2630,  0.0309, -0.1358, -0.0102,  0.1909,\n",
      "        -0.0397,  0.2855,  0.1906,  0.2374,  0.1441, -0.1616, -0.1613,  0.2515,\n",
      "        -0.1827, -0.2122, -0.0308, -0.2267,  0.1536, -0.0123,  0.2595,  0.2931,\n",
      "        -0.0270, -0.1888, -0.2267,  0.1429,  0.1154,  0.2055,  0.0212, -0.1258,\n",
      "        -0.1353, -0.0347, -0.1718, -0.0204,  0.2626,  0.2775, -0.1221, -0.1063,\n",
      "         0.0007,  0.2466,  0.2348,  0.1512,  0.2029,  0.2668, -0.1655, -0.0997,\n",
      "         0.2237, -0.1260, -0.1067, -0.0097, -0.1530, -0.1823,  0.1689, -0.1862,\n",
      "         0.0586, -0.0247, -0.1132, -0.0022, -0.2522,  0.2464,  0.1421,  0.0173],\n",
      "       grad_fn=<SqueezeBackward1>)\n",
      "Epoch: 9, loss: 0.692\n",
      "tensor([ 0.1274,  0.0114,  0.0159,  0.0728,  0.1530,  0.2423,  0.1712,  0.2248,\n",
      "        -0.2016, -0.2012, -0.1172, -0.1928,  0.0901,  0.2365, -0.1769,  0.1567,\n",
      "         0.2347, -0.0575,  0.2441, -0.0343, -0.1943,  0.0257,  0.2293,  0.2210,\n",
      "         0.2046,  0.2075, -0.1573, -0.1907,  0.1446,  0.2422, -0.0130,  0.1348,\n",
      "         0.0083,  0.2572,  0.0099,  0.1910, -0.0705,  0.1967,  0.2208, -0.0601,\n",
      "        -0.2355, -0.2476,  0.2353,  0.2440,  0.2851,  0.1651,  0.0200,  0.2444,\n",
      "        -0.1990, -0.1813,  0.1073,  0.2814,  0.1342,  0.0559, -0.1999, -0.2897,\n",
      "         0.1689,  0.2125, -0.2038,  0.1975,  0.0053, -0.0210, -0.2305,  0.1417,\n",
      "         0.1477, -0.0391,  0.0197, -0.1798,  0.1720,  0.2586, -0.0908,  0.1622,\n",
      "         0.1585,  0.1797,  0.1175,  0.2212,  0.2039,  0.1533,  0.1745, -0.0609,\n",
      "        -0.1805,  0.1664,  0.1823, -0.2054,  0.2432,  0.1846,  0.2305, -0.0018,\n",
      "        -0.2088, -0.1851,  0.2564,  0.1468,  0.1635,  0.1653,  0.0081,  0.2605,\n",
      "         0.0008,  0.2423,  0.2315,  0.1163,  0.2392, -0.1897,  0.2263, -0.1024],\n",
      "       grad_fn=<SqueezeBackward1>)\n",
      "Epoch: 10, loss: 0.699\n",
      "tensor([-0.1651,  0.1461,  0.1124, -0.1694, -0.0463,  0.1899,  0.2253,  0.2234,\n",
      "         0.0103,  0.1832,  0.2743,  0.1929,  0.2201, -0.1556,  0.2522,  0.1449,\n",
      "         0.2444, -0.1750,  0.0013,  0.2679,  0.2653, -0.1162,  0.1364, -0.1338,\n",
      "         0.2435,  0.2551,  0.2354,  0.2561,  0.0056,  0.2082,  0.2622,  0.0410,\n",
      "         0.1544,  0.1833,  0.2536,  0.2295,  0.2593, -0.0161,  0.2346, -0.2235,\n",
      "         0.2300,  0.2390,  0.1433,  0.2376,  0.1870,  0.1701,  0.2657,  0.2246,\n",
      "         0.0043, -0.0174, -0.1844, -0.1404,  0.1584, -0.1534,  0.1310, -0.1594,\n",
      "        -0.1180, -0.0268,  0.1834, -0.1759, -0.2594,  0.1353,  0.0041, -0.2362,\n",
      "        -0.0021,  0.2067,  0.2395,  0.1772, -0.1539, -0.2269,  0.1407, -0.0254,\n",
      "         0.2380, -0.0147,  0.1557, -0.1845, -0.1421, -0.1715,  0.2467, -0.0297,\n",
      "         0.1711,  0.2531, -0.1898,  0.2077, -0.1594,  0.2573,  0.1619,  0.0960,\n",
      "        -0.1192,  0.1851, -0.0617,  0.2247, -0.1480,  0.2625, -0.1104,  0.2500,\n",
      "         0.1204,  0.1191, -0.1436,  0.1538,  0.0291,  0.2648, -0.0883, -0.0097],\n",
      "       grad_fn=<SqueezeBackward1>)\n",
      "Epoch: 11, loss: 0.69\n",
      "tensor([ 0.2028, -0.0365,  0.0343, -0.0237, -0.0980,  0.1385,  0.1155, -0.1380,\n",
      "        -0.1906, -0.0373, -0.1552,  0.2370, -0.1793, -0.0250, -0.1090,  0.1691,\n",
      "         0.0060, -0.1263,  0.1581, -0.2528,  0.2155,  0.1527, -0.1364,  0.1275,\n",
      "         0.1442,  0.0808,  0.2258,  0.2072, -0.2058,  0.1428, -0.1864,  0.2146,\n",
      "         0.1863,  0.1606, -0.0073,  0.1690, -0.1579, -0.1894,  0.2047, -0.1983,\n",
      "        -0.0247,  0.1901,  0.2282, -0.0194,  0.0942, -0.1935, -0.1334,  0.0227,\n",
      "         0.1872,  0.1452,  0.1238,  0.1114,  0.2284, -0.0926, -0.0242, -0.1589,\n",
      "         0.1890, -0.0055,  0.2398, -0.0651,  0.2100, -0.0482, -0.1996,  0.1972,\n",
      "         0.1370,  0.1313,  0.1974,  0.0205,  0.1707,  0.1478, -0.0631,  0.2197,\n",
      "        -0.2250, -0.0417, -0.0005,  0.1735,  0.2089,  0.2294, -0.0099,  0.2177,\n",
      "         0.1903,  0.2414,  0.2449,  0.2158,  0.1789,  0.2203,  0.2413, -0.2159,\n",
      "        -0.2569,  0.2569,  0.1207,  0.2226,  0.0926,  0.1711,  0.1461, -0.1658,\n",
      "         0.2204,  0.2256, -0.0530,  0.1877, -0.1984,  0.1283, -0.1469,  0.0326],\n",
      "       grad_fn=<SqueezeBackward1>)\n",
      "Epoch: 12, loss: 0.69\n",
      "tensor([-0.1158,  0.1414, -0.2184,  0.2230,  0.2055, -0.0447,  0.1544, -0.0110,\n",
      "         0.2286, -0.1408,  0.1817,  0.1499, -0.1000, -0.0510, -0.0371,  0.2327,\n",
      "         0.1971,  0.2354,  0.1722, -0.0990,  0.0442, -0.1349, -0.1847,  0.2036,\n",
      "         0.2014,  0.0171,  0.1917, -0.1624,  0.1835,  0.2166,  0.1371,  0.2111,\n",
      "         0.1286,  0.2098,  0.1468,  0.1602,  0.2014,  0.1365, -0.1396,  0.2079,\n",
      "         0.2161,  0.1844, -0.1430, -0.2493,  0.1137,  0.0951,  0.1473, -0.1295,\n",
      "         0.2331,  0.0292,  0.1306,  0.1184, -0.0048,  0.1835, -0.2336,  0.1494,\n",
      "        -0.0659, -0.2948,  0.1501,  0.1779,  0.0029, -0.3067,  0.1414,  0.1438,\n",
      "         0.1597,  0.2298,  0.1960,  0.1668, -0.0277, -0.1699,  0.1081,  0.2210,\n",
      "         0.1370,  0.0443,  0.2423, -0.0061, -0.1842, -0.0387, -0.0179,  0.2067,\n",
      "         0.1549,  0.2135, -0.0327,  0.2110, -0.0097, -0.0495,  0.1643,  0.1523,\n",
      "         0.1822, -0.1701,  0.2194,  0.2139, -0.1819,  0.0017,  0.2219,  0.1594,\n",
      "         0.2255, -0.0165, -0.0743,  0.1756,  0.2212,  0.1048,  0.1147, -0.0302],\n",
      "       grad_fn=<SqueezeBackward1>)\n",
      "Epoch: 13, loss: 0.684\n",
      "tensor([-2.8719e-02,  1.4818e-01,  1.4778e-01, -4.4222e-02,  1.9523e-01,\n",
      "        -2.6205e-02,  3.0219e-03, -1.9839e-01,  1.8043e-01, -2.6622e-01,\n",
      "        -1.3775e-01, -8.4369e-02,  2.1971e-01,  1.5580e-01, -1.2188e-01,\n",
      "         3.3100e-03,  9.1915e-03,  1.5770e-01,  2.2449e-03,  1.6696e-02,\n",
      "        -2.7218e-02, -1.5001e-01,  1.3941e-01, -1.9137e-01,  2.0759e-01,\n",
      "        -1.6239e-02,  1.7485e-01,  2.2283e-01, -9.3970e-02, -2.1770e-01,\n",
      "        -4.4038e-02, -1.5386e-01, -5.1305e-02,  8.4414e-03,  2.0997e-01,\n",
      "        -1.6372e-01,  2.2171e-01,  1.5963e-01,  2.0581e-01,  1.4891e-01,\n",
      "        -1.4949e-01,  1.6078e-01,  1.7924e-02, -1.6744e-01,  1.9374e-01,\n",
      "         2.6437e-04,  1.4383e-01,  2.3537e-01,  1.8518e-01,  1.7101e-01,\n",
      "        -2.1645e-01, -1.3320e-01, -2.3249e-03, -1.1547e-01,  2.8222e-02,\n",
      "        -1.5303e-01, -1.6731e-01,  2.2448e-01,  2.0712e-01,  1.3374e-01,\n",
      "        -1.1921e-02, -1.6164e-01,  2.1170e-01,  2.3021e-01, -1.9592e-02,\n",
      "        -2.4259e-01,  2.1553e-01,  2.1767e-01,  1.9231e-01,  1.7145e-01,\n",
      "         1.6931e-01, -6.1544e-02,  2.2607e-01,  1.8907e-01,  1.7706e-01,\n",
      "        -1.9887e-02, -1.1742e-01,  1.9542e-01,  1.5852e-01, -1.6752e-01,\n",
      "        -2.3730e-01,  2.1952e-01,  1.7277e-01,  2.1318e-01,  1.4317e-01,\n",
      "         2.3343e-01,  1.3070e-01, -1.5535e-03, -5.2813e-02, -3.5195e-02,\n",
      "        -1.8053e-01, -7.6398e-02,  1.5703e-01, -1.9388e-01,  2.3457e-01,\n",
      "        -8.5726e-03,  1.8188e-02, -1.7305e-01, -3.4750e-02,  1.0851e-01,\n",
      "        -2.7379e-02,  2.0540e-01, -2.8629e-02, -1.2497e-01],\n",
      "       grad_fn=<SqueezeBackward1>)\n",
      "Epoch: 14, loss: 0.685\n",
      "tensor([-0.1849,  0.1980, -0.1588,  0.2185,  0.0275,  0.0414, -0.0955,  0.2139,\n",
      "        -0.1556, -0.1225,  0.2202,  0.1989, -0.1639,  0.0423, -0.1807,  0.1676,\n",
      "        -0.1403,  0.2178,  0.0295,  0.2137,  0.2141,  0.1583,  0.1703,  0.1764,\n",
      "         0.1611,  0.1670,  0.1954, -0.1097,  0.1709,  0.2320,  0.1431,  0.1843,\n",
      "         0.0168, -0.1126,  0.1861,  0.2310, -0.0407, -0.0170,  0.2331, -0.2515,\n",
      "         0.2386,  0.1571,  0.1292,  0.2009,  0.0023, -0.0724,  0.0296,  0.1745,\n",
      "        -0.0723, -0.0210, -0.1242,  0.0351, -0.0855, -0.2358,  0.0541,  0.2285,\n",
      "         0.2321,  0.2123,  0.1531, -0.1324,  0.0358, -0.2383, -0.0115, -0.0128,\n",
      "        -0.1039,  0.2111,  0.2050, -0.1928, -0.0947,  0.2267, -0.0253, -0.0265,\n",
      "         0.1474,  0.1338,  0.1660,  0.1716,  0.1874,  0.2035, -0.2589, -0.0236,\n",
      "         0.2060,  0.0282,  0.1475, -0.1895,  0.1712,  0.2138,  0.1759,  0.2244,\n",
      "         0.0657,  0.0135,  0.2296,  0.2046, -0.0222,  0.1937,  0.0227, -0.0238,\n",
      "        -0.0840, -0.1951, -0.1690, -0.1516, -0.2345,  0.1901,  0.2404, -0.0778],\n",
      "       grad_fn=<SqueezeBackward1>)\n",
      "Epoch: 15, loss: 0.679\n",
      "tensor([-0.2158,  0.1841, -0.1582,  0.1791,  0.2145, -0.1332,  0.1814,  0.1253,\n",
      "         0.1477,  0.2073, -0.2516,  0.2032,  0.0101, -0.0127, -0.2678, -0.0067,\n",
      "         0.1363,  0.1987,  0.0159,  0.1927, -0.1460,  0.2102,  0.0381, -0.0510,\n",
      "         0.2207, -0.0152,  0.1884, -0.0146,  0.1945,  0.2232, -0.1448,  0.2335,\n",
      "         0.1538,  0.1613, -0.1179,  0.1727,  0.2264, -0.1081,  0.1953, -0.1930,\n",
      "         0.2357,  0.1916,  0.1743,  0.1875, -0.0109,  0.2029,  0.2082, -0.0243,\n",
      "         0.1616,  0.1927,  0.0817,  0.1792, -0.2034, -0.2183,  0.1393,  0.1540,\n",
      "         0.1802,  0.2152,  0.1878, -0.2131,  0.2309,  0.2265, -0.1040, -0.1530,\n",
      "         0.2244, -0.0108, -0.1445,  0.1766,  0.1843,  0.2030,  0.1996,  0.1962,\n",
      "         0.1338,  0.1952,  0.2203, -0.0163, -0.1449,  0.2085,  0.1430,  0.0342,\n",
      "         0.0105,  0.1929,  0.1336, -0.1464,  0.1585, -0.2117,  0.2074,  0.2256,\n",
      "         0.1958, -0.1690, -0.0221, -0.2278, -0.0392,  0.1865,  0.1824, -0.1326,\n",
      "         0.0005, -0.0819,  0.2305, -0.2115,  0.1904,  0.1504, -0.0881,  0.2214],\n",
      "       grad_fn=<SqueezeBackward1>)\n",
      "Epoch: 16, loss: 0.686\n",
      "tensor([ 0.2080, -0.0008,  0.1935,  0.1557,  0.2348, -0.1737,  0.1938,  0.0138,\n",
      "        -0.1320,  0.2071,  0.2199,  0.0424,  0.0304,  0.2523,  0.1696, -0.0349,\n",
      "         0.2351,  0.1733,  0.1846,  0.2075, -0.2180,  0.1957, -0.1516,  0.1960,\n",
      "        -0.0047,  0.1910,  0.1621, -0.2279,  0.2001,  0.2069, -0.1543,  0.2104,\n",
      "         0.2044,  0.1899, -0.1467,  0.2156,  0.1592,  0.0157,  0.2131,  0.1883,\n",
      "         0.2077,  0.0123,  0.0309,  0.2216, -0.1548,  0.0157,  0.2257,  0.0006,\n",
      "        -0.2370,  0.2198, -0.2512, -0.1829, -0.2127,  0.1958,  0.0017, -0.0679,\n",
      "         0.2086, -0.1553, -0.1860,  0.2085, -0.1439, -0.0958, -0.2289,  0.2143,\n",
      "         0.2096, -0.0268,  0.0029,  0.2200, -0.0235,  0.1733,  0.2402,  0.1544,\n",
      "         0.2307,  0.2295,  0.1821, -0.1874,  0.2100,  0.1669, -0.1012,  0.2026,\n",
      "         0.2354,  0.1671,  0.0072, -0.2183, -0.0104,  0.1636,  0.1657,  0.1751,\n",
      "         0.1906, -0.1916,  0.1669, -0.0221,  0.2324,  0.1789, -0.2782,  0.0041,\n",
      "         0.1417,  0.2198,  0.1674,  0.2103,  0.2161,  0.1923, -0.3089,  0.1918],\n",
      "       grad_fn=<SqueezeBackward1>)\n",
      "Epoch: 17, loss: 0.694\n",
      "tensor([ 0.1993, -0.1670, -0.0250, -0.0474, -0.2699,  0.1297, -0.1529, -0.2337,\n",
      "        -0.0396, -0.0132,  0.2064,  0.1351, -0.2619, -0.1255,  0.1540,  0.1283,\n",
      "        -0.0404,  0.2043,  0.1724,  0.1127,  0.1744,  0.2047,  0.0029,  0.2103,\n",
      "        -0.0089,  0.2146,  0.1469,  0.2192, -0.0315,  0.2121, -0.0007, -0.0974,\n",
      "         0.1652,  0.1856,  0.0197, -0.1563,  0.1348,  0.0842,  0.1860, -0.1583,\n",
      "        -0.0866,  0.2231,  0.2216,  0.1628,  0.1702, -0.0080, -0.2879,  0.1653,\n",
      "        -0.0400, -0.2513,  0.0210,  0.2098,  0.2157,  0.2095,  0.1708, -0.0360,\n",
      "        -0.1700,  0.2004,  0.1089,  0.1752,  0.1537,  0.0155,  0.1685,  0.1793,\n",
      "         0.0152, -0.1935,  0.1565,  0.0668, -0.0297,  0.2107, -0.0148, -0.0486,\n",
      "         0.1475, -0.0966,  0.1889, -0.0179, -0.1021, -0.1613,  0.1825,  0.2098,\n",
      "         0.2061, -0.0467,  0.1765,  0.1864,  0.2109,  0.1928,  0.2059,  0.2057,\n",
      "         0.0031,  0.1857,  0.1785, -0.0173,  0.1667,  0.1967,  0.1879, -0.2538,\n",
      "         0.1879,  0.1519,  0.0136, -0.0362,  0.2132,  0.0367,  0.2073,  0.1800],\n",
      "       grad_fn=<SqueezeBackward1>)\n",
      "Epoch: 18, loss: 0.683\n",
      "tensor([-0.0276,  0.2011, -0.0407,  0.1825,  0.2095,  0.2136,  0.2188,  0.1871,\n",
      "        -0.1609,  0.2108,  0.2193, -0.2510,  0.1874,  0.2124,  0.2141, -0.2004,\n",
      "         0.1999,  0.2189,  0.2183, -0.0905,  0.2020, -0.1461, -0.2206,  0.0125,\n",
      "        -0.1860,  0.0111,  0.1789,  0.1966,  0.2248, -0.1501,  0.0014,  0.2167,\n",
      "         0.1997,  0.2240, -0.0550,  0.0246,  0.1758, -0.0563,  0.1593, -0.0142,\n",
      "        -0.0271,  0.0606,  0.1525, -0.0432, -0.2082, -0.1983,  0.1937, -0.0265,\n",
      "        -0.1928, -0.1897, -0.1932,  0.1885,  0.1839, -0.1267, -0.2087, -0.2037,\n",
      "        -0.2251,  0.0031,  0.2018, -0.0231,  0.1428,  0.2049,  0.2109, -0.2268,\n",
      "         0.2325,  0.2065, -0.0300,  0.1879,  0.1704, -0.1500, -0.0440,  0.1993,\n",
      "         0.2061,  0.1728, -0.0179,  0.1727,  0.0028,  0.2178, -0.0175,  0.0238,\n",
      "        -0.1811, -0.1465, -0.1044, -0.0347,  0.2093,  0.1869,  0.2103,  0.0250,\n",
      "        -0.1516,  0.1877,  0.2202, -0.2122,  0.2061, -0.0650, -0.1942,  0.0237,\n",
      "         0.2295,  0.2114,  0.2141, -0.0238,  0.1931,  0.2141,  0.1997,  0.1551],\n",
      "       grad_fn=<SqueezeBackward1>)\n",
      "Epoch: 19, loss: 0.679\n",
      "tensor([ 0.1592,  0.2061, -0.1065, -0.0112, -0.0037,  0.2140,  0.2156,  0.0063,\n",
      "        -0.0429, -0.2128, -0.0564,  0.1991,  0.2140, -0.1598, -0.0243,  0.0103,\n",
      "         0.1725, -0.1929, -0.1800, -0.0034,  0.2053,  0.1821,  0.1888, -0.2119,\n",
      "         0.2185,  0.0036,  0.1879,  0.1554,  0.1789, -0.2684,  0.2064,  0.2418,\n",
      "        -0.0273, -0.1807,  0.2176, -0.2030, -0.0983, -0.2677,  0.2267, -0.0192,\n",
      "         0.0323,  0.1978,  0.2165, -0.1807,  0.2073,  0.1896, -0.1124,  0.2039,\n",
      "         0.1827,  0.2230, -0.0901, -0.0220, -0.2040,  0.2164,  0.0117, -0.0689,\n",
      "         0.1955,  0.2298, -0.0241,  0.0276, -0.1584,  0.2192, -0.0474, -0.1508,\n",
      "        -0.0568,  0.2205, -0.2349,  0.1791, -0.0813,  0.2023,  0.1911, -0.2410,\n",
      "         0.2016,  0.1961,  0.1983,  0.1989,  0.2241,  0.1901, -0.0120,  0.2317,\n",
      "         0.1974, -0.0190,  0.2011, -0.1054, -0.3139,  0.2415, -0.1833, -0.2027,\n",
      "        -0.1276, -0.0741,  0.1985, -0.1568,  0.1990, -0.0533, -0.1542,  0.1911,\n",
      "         0.2096, -0.1616,  0.2072, -0.1940,  0.2085, -0.1364,  0.2230,  0.1979],\n",
      "       grad_fn=<SqueezeBackward1>)\n",
      "Epoch: 20, loss: 0.679\n",
      "tensor([ 0.1879, -0.0348,  0.2230, -0.1085,  0.0142,  0.1605,  0.2094, -0.1697,\n",
      "         0.2194,  0.1702,  0.1887,  0.1781, -0.0028, -0.0597,  0.1724, -0.0291,\n",
      "         0.1941,  0.0503, -0.0365, -0.0266,  0.1813, -0.2854, -0.1701,  0.1549,\n",
      "         0.1921, -0.0381,  0.2013,  0.1776,  0.2136,  0.2077,  0.1969, -0.0587,\n",
      "         0.1412, -0.2599, -0.2024,  0.1969,  0.0073, -0.0732,  0.2074, -0.0816,\n",
      "         0.1819,  0.1699,  0.0027, -0.2822, -0.1245,  0.1784,  0.1941, -0.1429,\n",
      "         0.1571,  0.2041,  0.2152, -0.1447, -0.1079,  0.1892, -0.1456, -0.1588,\n",
      "         0.1985,  0.2027,  0.2318,  0.1861, -0.1914,  0.0051,  0.2103,  0.1585,\n",
      "         0.2055, -0.1751,  0.1781,  0.1794, -0.0063, -0.0174,  0.1862,  0.2011,\n",
      "        -0.2034, -0.0342, -0.1401,  0.2223,  0.1961, -0.0224,  0.1913,  0.2130,\n",
      "         0.1553, -0.2434,  0.1584, -0.0058,  0.2020, -0.0190,  0.2127,  0.1490,\n",
      "        -0.0964,  0.2077, -0.0519,  0.2378,  0.1788, -0.1800,  0.2168,  0.2028,\n",
      "        -0.0294,  0.2455,  0.0016, -0.2183,  0.0214,  0.1888,  0.1900,  0.2041],\n",
      "       grad_fn=<SqueezeBackward1>)\n",
      "Epoch: 21, loss: 0.681\n",
      "tensor([-0.1561,  0.1702, -0.1085,  0.0015, -0.0560,  0.2029,  0.0085,  0.1946,\n",
      "        -0.2698,  0.1580, -0.0868,  0.1697,  0.1867, -0.0408,  0.2300,  0.2080,\n",
      "        -0.1898,  0.1951,  0.1857, -0.0808, -0.0333, -0.1944, -0.0052,  0.1801,\n",
      "         0.2086, -0.1956, -0.2191,  0.1988,  0.1849, -0.2806,  0.2227,  0.1676,\n",
      "        -0.0636,  0.2005,  0.2391,  0.1950, -0.0693, -0.0093,  0.1974, -0.1963,\n",
      "         0.1833,  0.2184,  0.2130,  0.0094,  0.1931,  0.0151, -0.1916,  0.2121,\n",
      "         0.1833,  0.1926, -0.2139,  0.1908, -0.1742, -0.2421,  0.2145,  0.2131,\n",
      "        -0.1761, -0.0183, -0.0176,  0.2313,  0.2001,  0.1868, -0.1291, -0.0161,\n",
      "        -0.0420,  0.2045, -0.2837,  0.1698, -0.1255, -0.1617,  0.2601, -0.0034,\n",
      "         0.1709,  0.1718,  0.2518,  0.0325,  0.1996,  0.2514,  0.2085,  0.2220,\n",
      "         0.1406, -0.0043,  0.2389,  0.1877, -0.0252, -0.1523, -0.2879, -0.2609,\n",
      "         0.0021, -0.0487,  0.2063,  0.2104,  0.1910, -0.0023, -0.2401,  0.2196,\n",
      "        -0.1877, -0.1380,  0.1767,  0.1988, -0.0226,  0.1813, -0.1440, -0.1603],\n",
      "       grad_fn=<SqueezeBackward1>)\n",
      "Epoch: 22, loss: 0.687\n",
      "tensor([ 0.0107, -0.1492,  0.2073,  0.1812, -0.0065,  0.2075,  0.1878, -0.1501,\n",
      "         0.0101,  0.2175,  0.1965, -0.1679, -0.0063,  0.1932,  0.2779,  0.2028,\n",
      "         0.2533,  0.2127,  0.1819,  0.2158, -0.1987,  0.1996,  0.2450,  0.2246,\n",
      "         0.1920,  0.1873,  0.2068, -0.0662,  0.2171,  0.2504, -0.2580,  0.1913,\n",
      "         0.2064, -0.1053,  0.2290,  0.0291,  0.2125,  0.2345,  0.1874,  0.1952,\n",
      "         0.0056,  0.0068, -0.0275,  0.0426, -0.0023, -0.2797, -0.2155, -0.0048,\n",
      "         0.1807,  0.1932,  0.2126, -0.2572,  0.2088,  0.2246,  0.1711, -0.2132,\n",
      "        -0.0451, -0.2392,  0.1873, -0.2155,  0.2129,  0.0003,  0.2519,  0.0144,\n",
      "         0.2650,  0.0116,  0.1974,  0.2230, -0.0485, -0.0796, -0.1403, -0.1612,\n",
      "         0.2633,  0.2362, -0.1585, -0.2735, -0.0459, -0.2127, -0.0087,  0.0268,\n",
      "        -0.1577, -0.2168, -0.0269,  0.2198, -0.2160,  0.2178,  0.2452,  0.1794,\n",
      "        -0.0290,  0.0144,  0.1968,  0.2035,  0.2360,  0.2181,  0.2230, -0.1114,\n",
      "         0.2444, -0.1596,  0.1902,  0.2163,  0.1941, -0.0123,  0.2051,  0.0060],\n",
      "       grad_fn=<SqueezeBackward1>)\n",
      "Epoch: 23, loss: 0.676\n",
      "tensor([ 0.2351, -0.0862,  0.1979, -0.1757, -0.0243, -0.0367,  0.1828,  0.2742,\n",
      "         0.0228, -0.1795,  0.1900,  0.0234,  0.2010, -0.3010,  0.1820, -0.2256,\n",
      "        -0.0252,  0.1986, -0.2044, -0.0859,  0.1943,  0.0062, -0.1143,  0.1943,\n",
      "        -0.1438,  0.2234, -0.2693,  0.2058,  0.2004,  0.1855, -0.2695, -0.0308,\n",
      "        -0.2493,  0.2371, -0.1547, -0.2253,  0.1720,  0.1593,  0.2112, -0.2558,\n",
      "        -0.1239,  0.2506,  0.0384,  0.2706, -0.0340,  0.2181,  0.0408,  0.2168,\n",
      "        -0.0093, -0.0039,  0.1741, -0.0175,  0.1868, -0.1298,  0.2124,  0.2022,\n",
      "         0.0219, -0.0696,  0.2250,  0.2301,  0.0060, -0.1112,  0.2232,  0.1915,\n",
      "        -0.0344,  0.2353,  0.1399, -0.1780, -0.1038, -0.2495,  0.1588,  0.2429,\n",
      "         0.2654, -0.1137, -0.1660, -0.2072, -0.2159, -0.0829,  0.2020,  0.2011,\n",
      "        -0.2381,  0.0129, -0.0154,  0.2019,  0.1909,  0.1948, -0.0592,  0.1829,\n",
      "         0.2053, -0.2352,  0.2102,  0.1513,  0.2550, -0.2262,  0.0092,  0.2193,\n",
      "        -0.1057, -0.0130, -0.0575,  0.0132,  0.1829,  0.1982, -0.1051, -0.1494],\n",
      "       grad_fn=<SqueezeBackward1>)\n",
      "Epoch: 24, loss: 0.683\n",
      "tensor([ 0.1831, -0.3346,  0.2028,  0.2489, -0.2290,  0.1881,  0.1992,  0.1872,\n",
      "         0.2048, -0.3181, -0.0179,  0.2319, -0.2639,  0.2508, -0.2298,  0.1945,\n",
      "         0.2174,  0.2787, -0.0709,  0.2168,  0.1958, -0.0451, -0.1553,  0.2056,\n",
      "         0.1798,  0.2212,  0.1972,  0.1910,  0.1684,  0.1909,  0.1824, -0.0780,\n",
      "         0.1937, -0.2134,  0.1988, -0.0301,  0.2078,  0.0425, -0.0289, -0.2022,\n",
      "        -0.0086, -0.0012,  0.2112,  0.1947,  0.1963, -0.1519,  0.0054, -0.0264,\n",
      "         0.2267,  0.2511,  0.1974, -0.1763,  0.1679,  0.1744,  0.1986,  0.2021,\n",
      "         0.2306,  0.1684, -0.3209, -0.2641, -0.1731,  0.2037, -0.0171,  0.2387,\n",
      "        -0.1821,  0.1845,  0.0277,  0.1676,  0.2045,  0.2319,  0.1959,  0.1840,\n",
      "        -0.2187,  0.1989,  0.2157,  0.2175,  0.1930,  0.2103,  0.1908, -0.1944,\n",
      "         0.2100,  0.2061,  0.2274, -0.2824,  0.2463,  0.2214, -0.0329,  0.2015,\n",
      "        -0.0375,  0.0019,  0.2022, -0.0223,  0.2814,  0.2073, -0.0320,  0.2212,\n",
      "         0.2353,  0.1809,  0.2322, -0.2034, -0.0120, -0.0293,  0.2184,  0.2226],\n",
      "       grad_fn=<SqueezeBackward1>)\n",
      "Epoch: 25, loss: 0.666\n",
      "tensor([ 0.2058, -0.2063,  0.2473,  0.2103,  0.2160,  0.1970,  0.1803,  0.1872,\n",
      "        -0.2474,  0.1644, -0.0186,  0.1909, -0.1952, -0.1128,  0.1619,  0.1884,\n",
      "         0.1556, -0.1685,  0.1486, -0.0398, -0.0015, -0.2240,  0.2433,  0.1734,\n",
      "         0.2193,  0.2383, -0.2058, -0.3028,  0.1737, -0.0164,  0.2031, -0.2348,\n",
      "         0.1861, -0.0266, -0.2577,  0.1737,  0.2358, -0.0538, -0.2017, -0.2090,\n",
      "         0.2065,  0.1820, -0.0314,  0.1996,  0.1901, -0.0167, -0.3375, -0.0101,\n",
      "         0.2347, -0.3251, -0.0918, -0.2704,  0.2117, -0.1959,  0.1706,  0.2255,\n",
      "        -0.1560,  0.1686, -0.0492, -0.0384, -0.1633, -0.1491,  0.1960,  0.2120,\n",
      "         0.1701, -0.2563,  0.2012, -0.1254, -0.0397,  0.1758,  0.2231, -0.0394,\n",
      "        -0.1140, -0.0207, -0.2626,  0.2715, -0.0281,  0.1698,  0.1674,  0.1886,\n",
      "        -0.0088, -0.2057,  0.1568, -0.0188,  0.1875,  0.1798,  0.1808, -0.0487,\n",
      "         0.2347, -0.0280, -0.1078,  0.2803,  0.1691, -0.0550, -0.0630, -0.0895,\n",
      "        -0.1872, -0.2570, -0.0628, -0.0514,  0.0135, -0.1087,  0.2702,  0.2276],\n",
      "       grad_fn=<SqueezeBackward1>)\n",
      "Epoch: 26, loss: 0.674\n",
      "tensor([ 1.8190e-01, -2.9219e-01,  2.6457e-01,  3.3330e-02,  1.9656e-01,\n",
      "        -1.9616e-01, -1.8391e-01,  2.4072e-01,  2.1183e-01,  2.3764e-01,\n",
      "         1.9566e-01, -2.9669e-02,  1.6836e-01,  2.2106e-01, -2.4766e-01,\n",
      "        -2.3768e-01,  2.1899e-01,  1.4740e-01, -9.9361e-02,  2.0158e-01,\n",
      "        -1.0007e-01,  2.8035e-04, -3.2955e-01,  2.5886e-01, -2.9051e-01,\n",
      "        -3.9849e-04, -2.8360e-01,  1.1766e-02,  1.7034e-01, -2.1105e-01,\n",
      "        -4.6455e-02,  2.3076e-01,  2.4011e-01, -1.9137e-01, -2.2350e-02,\n",
      "         1.9009e-01,  2.1148e-01, -3.0417e-01,  2.1240e-01,  2.7611e-01,\n",
      "         2.4344e-01, -2.0977e-01,  1.9674e-01,  2.1396e-01, -2.9983e-02,\n",
      "         2.5667e-01,  1.9021e-01,  2.8154e-01,  1.7979e-01,  1.8764e-01,\n",
      "         4.9390e-03, -1.8351e-01, -6.1317e-03, -9.5622e-02,  2.4663e-01,\n",
      "         1.9142e-01,  1.7455e-01,  1.7337e-01,  2.1214e-01, -6.8350e-02,\n",
      "         2.1053e-01, -3.3634e-02,  6.6846e-02, -2.6837e-01,  2.7312e-01,\n",
      "        -1.4765e-01,  1.8467e-01, -2.7711e-02, -2.9837e-01,  2.1896e-01,\n",
      "        -1.1989e-01, -2.0762e-02,  1.8459e-01,  2.2437e-01,  1.3659e-02,\n",
      "         1.9033e-01,  1.8464e-01,  1.7987e-01,  2.0647e-01,  1.6532e-01,\n",
      "         2.5468e-01, -1.9941e-02,  2.8085e-02, -4.4163e-02,  2.1733e-01,\n",
      "         2.2865e-01,  2.9691e-01,  2.1406e-01,  1.6746e-01, -1.6251e-01,\n",
      "         1.8154e-01,  1.4020e-02, -1.6029e-01, -2.8392e-01,  2.0097e-01,\n",
      "         1.9839e-01,  2.3142e-01, -2.0110e-01,  1.8070e-01,  1.8611e-03,\n",
      "        -1.5888e-01, -2.3568e-01,  1.4926e-02, -2.0707e-02],\n",
      "       grad_fn=<SqueezeBackward1>)\n",
      "Epoch: 27, loss: 0.672\n",
      "tensor([ 0.2539, -0.0018, -0.0339,  0.2032,  0.1731,  0.1936, -0.1920,  0.2454,\n",
      "        -0.2975,  0.2824,  0.1843,  0.1746,  0.1692,  0.2190, -0.2018,  0.2419,\n",
      "         0.2163,  0.2927,  0.1818, -0.2155, -0.2518, -0.0238,  0.1740, -0.1942,\n",
      "        -0.2437, -0.0052,  0.1961,  0.0045,  0.2822,  0.1960,  0.2029, -0.1702,\n",
      "         0.2193,  0.0317, -0.2368,  0.1863, -0.0491, -0.2561, -0.0262, -0.0249,\n",
      "         0.2013,  0.2754,  0.2769,  0.1929,  0.1982, -0.2616, -0.0513, -0.0464,\n",
      "        -0.2774,  0.2147, -0.2509, -0.0679,  0.1994,  0.2342, -0.2451,  0.0186,\n",
      "         0.2363, -0.0912,  0.2375, -0.1228,  0.1838, -0.0202,  0.2344,  0.2212,\n",
      "        -0.2105, -0.0076,  0.3063, -0.2204,  0.1981,  0.3125, -0.0227, -0.3701,\n",
      "         0.1955, -0.1966,  0.1694, -0.1992, -0.0369,  0.0036,  0.1928,  0.1968,\n",
      "        -0.2934,  0.2077,  0.2046,  0.2579, -0.2340, -0.1994,  0.1985,  0.1833,\n",
      "         0.1742,  0.1911,  0.2025,  0.1868,  0.2682,  0.1884, -0.1928,  0.2520,\n",
      "         0.2771,  0.2378,  0.1984,  0.1934,  0.2481,  0.1870,  0.2165,  0.0023],\n",
      "       grad_fn=<SqueezeBackward1>)\n",
      "Epoch: 28, loss: 0.667\n",
      "tensor([-1.2533e-02,  1.8558e-01,  3.1466e-03,  2.8098e-01, -1.5759e-02,\n",
      "         2.5122e-01,  1.8588e-01,  1.9910e-01,  1.9095e-01,  2.4779e-01,\n",
      "        -2.5207e-01,  2.1512e-01,  2.2256e-01, -1.1648e-01,  1.8361e-01,\n",
      "         2.6361e-01,  2.0773e-01,  1.7963e-01,  2.0972e-01, -7.9323e-03,\n",
      "         1.7857e-01, -6.9068e-02,  2.1265e-01,  2.0368e-01,  2.0481e-01,\n",
      "         2.5257e-01,  1.9161e-01,  2.5341e-01,  1.4105e-02,  2.5655e-01,\n",
      "         1.9053e-01, -6.8783e-02,  2.1535e-01,  1.8235e-01, -3.0764e-01,\n",
      "        -2.3402e-02,  2.5241e-01,  2.7915e-01,  2.6436e-02, -4.2503e-01,\n",
      "        -5.4662e-02, -2.2306e-01, -2.4629e-01,  1.8631e-01, -2.1376e-01,\n",
      "        -1.9201e-01,  2.2098e-01,  2.2883e-01,  2.3010e-01,  3.0728e-01,\n",
      "        -1.0371e-01, -2.0687e-01, -2.3032e-01, -1.7397e-01,  2.1624e-01,\n",
      "        -1.9306e-01,  2.2204e-01,  2.2992e-01, -2.9493e-02, -8.1605e-02,\n",
      "         3.2460e-03,  2.0862e-01, -1.0352e-01, -3.1852e-01,  2.0763e-01,\n",
      "        -2.8953e-01, -4.0055e-01, -5.4452e-03,  2.5298e-01, -2.7303e-01,\n",
      "        -4.2488e-02, -1.9453e-01,  1.9217e-01,  2.4829e-01,  2.6648e-01,\n",
      "         7.4580e-05,  2.1071e-01,  2.0928e-01, -2.8738e-01, -2.0452e-01,\n",
      "        -1.9992e-03,  3.1534e-03,  2.1607e-01,  2.4854e-01, -2.8410e-01,\n",
      "        -2.5690e-01,  1.7446e-02,  1.7589e-01,  2.0017e-01,  1.8542e-01,\n",
      "         2.5853e-01,  1.9591e-01, -1.7466e-01,  2.7270e-01, -1.0539e-01,\n",
      "        -3.0770e-01,  1.4549e-03, -2.7958e-01, -1.1587e-01, -1.5936e-03,\n",
      "        -2.1586e-01,  2.6029e-01, -1.6645e-01,  1.7437e-01],\n",
      "       grad_fn=<SqueezeBackward1>)\n",
      "Epoch: 29, loss: 0.662\n",
      "tensor([ 0.1883,  0.1814,  0.1671, -0.0140, -0.2171,  0.3259, -0.2304, -0.1464,\n",
      "         0.2089, -0.0035,  0.1901,  0.1852, -0.2660, -0.0344,  0.1911,  0.2767,\n",
      "         0.2967,  0.2876,  0.1997,  0.2324,  0.2232, -0.2188,  0.1926,  0.2957,\n",
      "         0.2344,  0.0009,  0.2479, -0.4053, -0.0153,  0.2705,  0.3162, -0.0076,\n",
      "         0.0284, -0.0522,  0.2003, -0.3429,  0.1931, -0.1839,  0.1957, -0.0855,\n",
      "         0.2356, -0.2815,  0.1769,  0.2376,  0.0049,  0.1959,  0.3163,  0.1559,\n",
      "         0.3088,  0.2844, -0.2375,  0.1892, -0.0673, -0.0169, -0.1847,  0.2635,\n",
      "        -0.2924,  0.3110, -0.1525,  0.2514, -0.3050, -0.0147,  0.1958,  0.2015,\n",
      "        -0.2260, -0.3260, -0.2790, -0.2903,  0.2156,  0.1776, -0.0027, -0.4478,\n",
      "        -0.0028,  0.2858,  0.2264, -0.1617,  0.2902,  0.1755,  0.2532, -0.0184,\n",
      "         0.1797, -0.2111, -0.2497, -0.2810, -0.0090,  0.2196, -0.0734, -0.1539,\n",
      "        -0.1157, -0.1807,  0.1870, -0.0929,  0.2725,  0.2313,  0.2882,  0.2045,\n",
      "         0.2117,  0.2088,  0.2050,  0.1995,  0.2915, -0.0493,  0.1786,  0.2984],\n",
      "       grad_fn=<SqueezeBackward1>)\n",
      "Epoch: 30, loss: 0.655\n",
      "tensor([-0.2242,  0.1945,  0.2408,  0.2251, -0.2255,  0.1807, -0.0133, -0.0343,\n",
      "        -0.2474,  0.1849, -0.0688, -0.2431, -0.2267,  0.0076,  0.2291, -0.2305,\n",
      "         0.2243, -0.1498, -0.2344,  0.2996,  0.2838, -0.0799, -0.2639,  0.1805,\n",
      "        -0.0438,  0.2893, -0.2430,  0.2272,  0.1974, -0.0067,  0.1789, -0.2189,\n",
      "        -0.0106, -0.2941, -0.0117,  0.1931, -0.0099,  0.2380, -0.3751,  0.1885,\n",
      "         0.3122, -0.0066, -0.2748,  0.2408, -0.2211,  0.1703,  0.1717,  0.1958,\n",
      "        -0.0691,  0.2114,  0.1857,  0.2541,  0.2861,  0.1689, -0.0634, -0.2111,\n",
      "         0.1786, -0.1947, -0.1321, -0.0409,  0.1953, -0.1263,  0.2360,  0.2804,\n",
      "         0.2544, -0.3844,  0.1963, -0.1621,  0.1831,  0.2947, -0.1409,  0.2651,\n",
      "         0.2321,  0.2520, -0.0604,  0.2491, -0.3278,  0.0048,  0.2308, -0.0630,\n",
      "         0.3141, -0.0581,  0.1937, -0.1001,  0.1647,  0.2539,  0.2495,  0.1996,\n",
      "        -0.0253,  0.1908,  0.2528,  0.0126,  0.2038,  0.1978,  0.2243, -0.0043,\n",
      "         0.2062,  0.3266, -0.0872,  0.2152,  0.2185,  0.2698,  0.2760, -0.3668],\n",
      "       grad_fn=<SqueezeBackward1>)\n",
      "Epoch: 31, loss: 0.656\n",
      "tensor([ 0.1779, -0.4186, -0.3591,  0.1841,  0.2564,  0.2419,  0.2895,  0.2916,\n",
      "        -0.0129, -0.4279,  0.3202,  0.2929,  0.2215,  0.3311, -0.2308,  0.2088,\n",
      "         0.2030, -0.0320, -0.0350, -0.0522,  0.0194,  0.3125,  0.2560, -0.0039,\n",
      "        -0.2861, -0.4267,  0.2458, -0.1845,  0.2700, -0.2562,  0.1759,  0.2022,\n",
      "        -0.0347, -0.1129, -0.0334, -0.0108,  0.0103,  0.1738,  0.1717, -0.1300,\n",
      "        -0.2069,  0.1809,  0.2693,  0.1784,  0.2963,  0.1995,  0.1743,  0.2001,\n",
      "        -0.2757,  0.2589,  0.2266,  0.1759,  0.2056,  0.3117,  0.2958,  0.2111,\n",
      "         0.3322,  0.0299,  0.2050,  0.3244,  0.2478,  0.1984, -0.2538,  0.2013,\n",
      "        -0.3097,  0.1871,  0.1975, -0.0065, -0.0079,  0.2023,  0.2537, -0.0652,\n",
      "         0.2389,  0.2542,  0.2840,  0.0077,  0.2956, -0.1033, -0.2525, -0.2960,\n",
      "         0.1872,  0.1731, -0.1272,  0.0065, -0.0496,  0.2066, -0.0181, -0.0836,\n",
      "         0.3089, -0.0085,  0.2711,  0.2978,  0.2330, -0.1853, -0.4094, -0.3608,\n",
      "        -0.3900,  0.1863,  0.3074,  0.1837,  0.1470,  0.2090,  0.1615, -0.2241],\n",
      "       grad_fn=<SqueezeBackward1>)\n",
      "Epoch: 32, loss: 0.643\n",
      "tensor([ 0.2100,  0.3116, -0.0904, -0.3670,  0.2254,  0.2774,  0.2742,  0.3617,\n",
      "        -0.3182,  0.2198,  0.2288,  0.2079,  0.2684,  0.3521, -0.4496, -0.0052,\n",
      "         0.1841, -0.2482, -0.3177,  0.3400,  0.1954,  0.2478, -0.2684, -0.2508,\n",
      "        -0.0083,  0.1698,  0.1827,  0.2076,  0.2536,  0.2566,  0.2437,  0.2868,\n",
      "         0.1984,  0.2025,  0.2300,  0.1660, -0.0126,  0.2634,  0.2906,  0.3236,\n",
      "        -0.3048, -0.3589, -0.0550, -0.2476, -0.0393,  0.3186,  0.2349, -0.0806,\n",
      "        -0.1198,  0.3024,  0.2973, -0.0664,  0.1684,  0.3205,  0.1448,  0.0013,\n",
      "         0.1909,  0.2771, -0.0173, -0.3509,  0.2773, -0.0200,  0.1868, -0.2709,\n",
      "         0.1912, -0.4113, -0.0451,  0.1560, -0.1936, -0.0314,  0.1896, -0.1977,\n",
      "         0.2816,  0.2659,  0.3024, -0.3570, -0.0221,  0.3310,  0.2962,  0.2846,\n",
      "         0.1713, -0.2495,  0.1595,  0.2522, -0.0691,  0.2729, -0.0204, -0.4510,\n",
      "         0.3144,  0.1758, -0.1830, -0.0347, -0.0443,  0.2012,  0.2064,  0.1970,\n",
      "         0.2978, -0.0305,  0.1554,  0.1869,  0.2163,  0.3142, -0.4437, -0.2232],\n",
      "       grad_fn=<SqueezeBackward1>)\n",
      "Epoch: 33, loss: 0.651\n",
      "tensor([-0.0711,  0.2250,  0.2372, -0.3091, -0.0579, -0.2561, -0.0296,  0.1421,\n",
      "         0.1836, -0.3909,  0.1797,  0.2363, -0.0431,  0.1785,  0.1885, -0.2970,\n",
      "         0.2160,  0.1703,  0.2916,  0.2480, -0.4421,  0.3163, -0.1061,  0.3445,\n",
      "         0.1884, -0.0132, -0.3175, -0.0391,  0.2953,  0.3233,  0.3409, -0.1286,\n",
      "         0.1625, -0.0149, -0.3143,  0.0039,  0.2037, -0.5307,  0.3441,  0.3339,\n",
      "        -0.1190, -0.3270, -0.3329,  0.3464, -0.0782, -0.3829, -0.3259, -0.0803,\n",
      "        -0.0717, -0.1317,  0.3345,  0.2394,  0.1759, -0.4550,  0.3205,  0.3470,\n",
      "        -0.0473, -0.4794, -0.3307,  0.2120, -0.3177,  0.0144, -0.3895,  0.3129,\n",
      "        -0.0022, -0.0239, -0.0464,  0.2225,  0.2035,  0.2990,  0.3054,  0.3474,\n",
      "        -0.4129,  0.2879,  0.1989,  0.2995,  0.1895,  0.2115, -0.0161, -0.0016,\n",
      "         0.3045,  0.3553, -0.0312,  0.3013,  0.1912,  0.3374, -0.4357,  0.1983,\n",
      "         0.2478,  0.1873,  0.2166,  0.2037,  0.1767,  0.3470,  0.0171,  0.3191,\n",
      "         0.2202,  0.2119,  0.1789, -0.0545, -0.3073, -0.2678, -0.2202, -0.4382],\n",
      "       grad_fn=<SqueezeBackward1>)\n",
      "Epoch: 34, loss: 0.648\n",
      "tensor([-0.4372, -0.0382, -0.2533,  0.3142,  0.3958,  0.2588, -0.0293,  0.0209,\n",
      "        -0.2988,  0.2166,  0.2998, -0.3188, -0.0396,  0.3467,  0.2624,  0.2113,\n",
      "         0.2440, -0.0230,  0.2168,  0.2866,  0.3667, -0.4990,  0.3492, -0.3819,\n",
      "        -0.1629, -0.2731,  0.1834,  0.3006, -0.0314,  0.2940, -0.4054, -0.0376,\n",
      "         0.0017,  0.0132, -0.2764,  0.2055, -0.2703, -0.0591,  0.2110,  0.2923,\n",
      "         0.3347, -0.0614, -0.3060, -0.3774,  0.2194,  0.2016,  0.2803,  0.2920,\n",
      "        -0.3189,  0.4012,  0.2036,  0.1901, -0.2905,  0.0176,  0.3676,  0.2026,\n",
      "         0.3333,  0.2041,  0.2249,  0.2879,  0.3281, -0.0058, -0.0257,  0.1945,\n",
      "         0.3229,  0.3176,  0.1737,  0.3526, -0.0088, -0.2250, -0.0310,  0.3729,\n",
      "        -0.3000,  0.2212,  0.3451,  0.2248,  0.1966, -0.0139,  0.3004,  0.1979,\n",
      "        -0.0321,  0.1817,  0.1968,  0.0163,  0.2297, -0.0798, -0.2200,  0.2815,\n",
      "         0.2027, -0.2481,  0.0266, -0.2624,  0.0265,  0.1833, -0.1127,  0.2001,\n",
      "         0.3967, -0.3649, -0.0141,  0.1809,  0.2967,  0.2085, -0.3527, -0.3305],\n",
      "       grad_fn=<SqueezeBackward1>)\n",
      "Epoch: 35, loss: 0.65\n",
      "tensor([ 3.4111e-01, -8.4904e-02, -1.5954e-02, -3.2894e-01, -2.7567e-02,\n",
      "         1.8347e-01,  3.6274e-01, -7.4576e-02, -5.9158e-05,  1.7858e-01,\n",
      "         3.2514e-01,  2.1800e-01, -4.6634e-02,  3.5067e-01, -5.7593e-02,\n",
      "         1.9441e-01,  2.7195e-02,  2.2493e-01, -2.1491e-01,  3.2317e-01,\n",
      "         1.8695e-01,  3.1849e-01, -1.5909e-01,  1.8331e-01, -1.4546e-01,\n",
      "         1.9672e-01, -3.8857e-01, -2.2658e-02, -5.3832e-02, -2.2194e-01,\n",
      "        -3.8993e-02, -4.7603e-01,  2.1093e-01, -3.1490e-01, -4.5977e-01,\n",
      "        -3.8425e-01, -4.3567e-01,  3.9611e-01,  2.1416e-01, -2.7661e-01,\n",
      "        -2.4872e-01, -5.8161e-02,  3.4058e-03,  1.8694e-01, -5.0973e-02,\n",
      "        -3.2198e-01, -2.9186e-01,  3.2256e-01,  3.1293e-01,  1.8137e-01,\n",
      "         2.3759e-01,  3.7878e-01,  2.8057e-01, -2.5155e-01, -3.0700e-01,\n",
      "         2.3200e-01, -7.7306e-02,  3.5025e-01, -4.3851e-02, -6.1553e-01,\n",
      "        -1.3889e-02, -3.7823e-01,  3.2986e-01, -3.4150e-01,  7.1920e-03,\n",
      "        -3.1159e-01,  1.8875e-01,  2.9130e-01,  1.4880e-01, -4.6134e-01,\n",
      "        -1.1645e-01, -3.5512e-01, -2.7693e-01, -4.9231e-02,  2.6001e-01,\n",
      "         2.4912e-01,  1.8145e-01,  1.9108e-01, -5.3825e-02, -1.5346e-02,\n",
      "        -9.5105e-02, -1.2690e-01, -1.2846e-02, -6.1114e-03,  2.1677e-01,\n",
      "         2.3599e-01, -1.9151e-02,  1.8918e-01,  3.6081e-01,  1.6944e-01,\n",
      "        -3.1545e-01, -7.7040e-03, -1.2605e-02, -4.9353e-01,  3.4947e-01,\n",
      "        -3.0753e-02, -5.3172e-01,  2.0442e-01,  3.7663e-01, -1.1524e-02,\n",
      "         3.5791e-01, -1.4285e-01, -3.4246e-01,  1.7982e-01],\n",
      "       grad_fn=<SqueezeBackward1>)\n",
      "Epoch: 36, loss: 0.637\n",
      "tensor([-0.4206,  0.3054, -0.0728, -0.3622,  0.3920, -0.0376,  0.2265, -0.0491,\n",
      "        -0.5396,  0.1968, -0.0988, -0.0459,  0.3783, -0.3715, -0.0773,  0.3784,\n",
      "        -0.3619, -0.3411, -0.0611, -0.3560, -0.0488, -0.2827,  0.1988, -0.3128,\n",
      "        -0.3051, -0.2321, -0.5326,  0.2183,  0.1659,  0.1697,  0.2907, -0.0815,\n",
      "        -0.0445,  0.3051,  0.2346,  0.4237, -0.0268, -0.4544,  0.3179,  0.1784,\n",
      "         0.0035,  0.2887, -0.0048, -0.4202,  0.3737, -0.2856, -0.0777, -0.0331,\n",
      "         0.1908, -0.3319,  0.3066,  0.1651, -0.3087,  0.1885, -0.0116,  0.3470,\n",
      "        -0.0230,  0.3150,  0.3794, -0.4954,  0.2183,  0.1747,  0.1806,  0.3384,\n",
      "        -0.0565,  0.1900,  0.2848,  0.3749,  0.2224, -0.4784, -0.0101,  0.1736,\n",
      "         0.3028,  0.2112, -0.0414, -0.2950,  0.4109, -0.0403,  0.3488,  0.3122,\n",
      "        -0.0180,  0.3288, -0.4856,  0.3333, -0.3162, -0.3337, -0.2634, -0.0099,\n",
      "        -0.0212,  0.3369, -0.0994,  0.2138,  0.3327,  0.2986,  0.1751, -0.3055,\n",
      "        -0.0926, -0.0488,  0.2167,  0.2143, -0.0016, -0.4557,  0.3253, -0.0321],\n",
      "       grad_fn=<SqueezeBackward1>)\n",
      "Epoch: 37, loss: 0.646\n",
      "tensor([ 1.8625e-01, -2.9664e-01,  2.1087e-01, -3.5035e-01,  1.9839e-02,\n",
      "         3.7934e-01,  1.6356e-02,  2.3045e-01, -3.4438e-01,  2.2414e-01,\n",
      "         3.5949e-03, -4.2018e-01, -5.7687e-02, -2.7966e-01, -6.9898e-02,\n",
      "        -3.0288e-01, -2.0976e-04,  2.3287e-01, -3.4162e-01, -1.6764e-02,\n",
      "         2.1466e-01,  3.3650e-01,  3.1917e-01, -3.7383e-01, -1.7497e-02,\n",
      "        -1.6206e-02, -3.3114e-01, -3.8339e-01, -3.1824e-01,  2.2764e-01,\n",
      "         3.5041e-01,  2.7832e-01, -5.3117e-02,  2.1544e-01,  4.3308e-02,\n",
      "        -3.2020e-01, -4.7084e-02,  3.3964e-01, -4.0337e-01,  1.9110e-01,\n",
      "         4.4994e-01,  1.9118e-01,  3.1070e-01,  3.2409e-01,  1.9151e-01,\n",
      "        -5.4473e-03,  1.9600e-01,  1.5381e-02,  2.9786e-03,  3.7977e-01,\n",
      "         4.0384e-01,  2.0548e-01,  1.9365e-01,  1.3019e-02,  1.8649e-01,\n",
      "        -4.6839e-02,  4.5356e-01, -5.3266e-01, -5.6226e-01,  2.2127e-01,\n",
      "         2.6435e-02,  2.4856e-01,  1.7689e-01, -4.6482e-03,  2.8823e-01,\n",
      "         2.0596e-01,  2.9548e-01, -7.4552e-03, -4.1155e-01,  3.7235e-01,\n",
      "        -3.1032e-01, -6.8381e-02,  3.6335e-01,  3.3378e-01,  1.9249e-01,\n",
      "         3.9655e-01,  2.2145e-01,  4.0257e-01,  2.2994e-01,  2.0564e-01,\n",
      "        -1.6710e-02,  2.0580e-01, -1.3649e-03,  3.7477e-01,  4.2479e-01,\n",
      "        -4.2204e-01,  2.2204e-01,  1.8236e-01,  3.8406e-01,  3.7804e-01,\n",
      "        -2.3561e-01,  3.0117e-01, -3.3623e-01,  3.6582e-01,  2.0688e-01,\n",
      "         1.9425e-01,  3.2821e-01,  3.5880e-01,  2.5568e-02,  3.8746e-01,\n",
      "        -1.2669e-04, -1.6082e-01,  4.0395e-01,  1.6446e-01],\n",
      "       grad_fn=<SqueezeBackward1>)\n",
      "Epoch: 38, loss: 0.631\n",
      "tensor([ 0.2170, -0.3901, -0.0771, -0.0034,  0.3839, -0.4125, -0.3469,  0.4220,\n",
      "         0.4502, -0.0050,  0.2476, -0.0291, -0.0136,  0.1858, -0.1328,  0.1955,\n",
      "        -0.3219, -0.3821,  0.1938, -0.0632, -0.0543, -0.4034,  0.3330,  0.4345,\n",
      "         0.0042, -0.5014, -0.1005, -0.4691, -0.1543,  0.3514,  0.1830,  0.2989,\n",
      "         0.4315, -0.5894,  0.1688,  0.2267,  0.1903,  0.4093,  0.2106,  0.3768,\n",
      "        -0.5688, -0.3744,  0.1750, -0.1488,  0.2993, -0.3622,  0.2022,  0.2055,\n",
      "         0.1830, -0.5936, -0.5947,  0.3992,  0.2283, -0.4594, -0.1101,  0.2819,\n",
      "         0.3840,  0.2926, -0.2850, -0.0558,  0.1910,  0.1950, -0.0239,  0.2333,\n",
      "        -0.3664, -0.3654,  0.3231,  0.2238,  0.3429, -0.2531, -0.0331,  0.1875,\n",
      "        -0.0698,  0.4178,  0.2867, -0.0545, -0.0407,  0.3285,  0.1521, -0.2512,\n",
      "        -0.3233, -0.0889, -0.0693,  0.2156, -0.3858, -0.2316, -0.3371, -0.0404,\n",
      "        -0.5181,  0.2117,  0.3447,  0.2322, -0.2848, -0.0243,  0.3934, -0.3898,\n",
      "        -0.0309,  0.4468,  0.4242,  0.3005,  0.3853,  0.1821,  0.4197,  0.3989],\n",
      "       grad_fn=<SqueezeBackward1>)\n",
      "Epoch: 39, loss: 0.639\n",
      "tensor([-0.3896, -0.0325,  0.1894,  0.1861,  0.4225, -0.4847,  0.2037, -0.6252,\n",
      "        -0.0401,  0.4023,  0.3407,  0.4100,  0.4723,  0.1973,  0.4114,  0.3514,\n",
      "         0.3815,  0.2250,  0.3596,  0.2275,  0.4122,  0.2555,  0.1928,  0.2272,\n",
      "        -0.4897, -0.3292, -0.5729,  0.1630,  0.2167,  0.3770,  0.3460, -0.0494,\n",
      "         0.2404, -0.0542, -0.4321,  0.2045,  0.2082,  0.2174, -0.2819,  0.1863,\n",
      "         0.1777, -0.0935,  0.2086, -0.3661,  0.3893,  0.1831, -0.3186, -0.0637,\n",
      "         0.3707,  0.3875, -0.3795, -0.3492,  0.2207,  0.3064,  0.1940, -0.0924,\n",
      "         0.2754, -0.0452,  0.1890,  0.4023, -0.0569, -0.4168,  0.2783,  0.3093,\n",
      "        -0.0546,  0.3596, -0.4717, -0.2633,  0.3519,  0.2177, -0.0165, -0.0357,\n",
      "         0.4531,  0.3347, -0.1693, -0.0535,  0.1855, -0.5643,  0.0185, -0.0607,\n",
      "         0.1808, -0.0281,  0.3335, -0.4443,  0.3160, -0.0988, -0.4168,  0.3080,\n",
      "         0.3192,  0.3052,  0.1882, -0.4589,  0.3493,  0.2532,  0.0246, -0.0092,\n",
      "        -0.0148, -0.3831, -0.0165,  0.1621,  0.4019, -0.0141, -0.4116, -0.0774],\n",
      "       grad_fn=<SqueezeBackward1>)\n",
      "Epoch: 40, loss: 0.642\n",
      "tensor([ 0.2238,  0.3461,  0.1729,  0.1692,  0.1485,  0.2062,  0.4674, -0.1318,\n",
      "        -0.1012,  0.2059, -0.4439, -0.0592,  0.2094, -0.0120,  0.3790, -0.4729,\n",
      "         0.0142, -0.0525,  0.2306, -0.5609,  0.4892, -0.0599, -0.3907, -0.6311,\n",
      "         0.2269,  0.1910, -0.5016, -0.4095,  0.1685, -0.6359,  0.3669, -0.5010,\n",
      "        -0.0178,  0.1802, -0.4246, -0.0041, -0.6816,  0.3805, -0.4058,  0.3641,\n",
      "         0.3459, -0.0494, -0.0118,  0.1786,  0.2043, -0.0645,  0.3836,  0.4968,\n",
      "         0.2225, -0.1708, -0.5271, -0.0539, -0.0451,  0.3160,  0.3763,  0.4475,\n",
      "         0.4213,  0.3919, -0.0267, -0.1383, -0.0420, -0.0474,  0.4538, -0.4648,\n",
      "        -0.0207, -0.2039,  0.4090,  0.2502, -0.0029, -0.0022, -0.2891,  0.2282,\n",
      "        -0.2749,  0.4357,  0.4788,  0.4136,  0.4228, -0.0416, -0.0151, -0.0211,\n",
      "         0.1641, -0.3420,  0.2487,  0.3115,  0.2170,  0.4618,  0.1751, -0.1853,\n",
      "         0.1507,  0.3200,  0.1705,  0.4329,  0.3076, -0.4502,  0.2659, -0.0275,\n",
      "         0.4337,  0.1902,  0.3867,  0.1892,  0.1946, -0.0653, -0.3238, -0.1125],\n",
      "       grad_fn=<SqueezeBackward1>)\n",
      "Epoch: 41, loss: 0.62\n",
      "tensor([-4.5036e-01,  1.9003e-01, -1.0255e-01,  2.2467e-01,  2.6721e-03,\n",
      "         2.3436e-01,  1.8655e-01, -5.1363e-01, -6.2863e-02, -9.7470e-02,\n",
      "        -8.8119e-02, -2.4647e-02,  4.6263e-01, -4.0799e-01,  4.4159e-01,\n",
      "        -5.4943e-01, -6.3624e-01, -3.9988e-02, -8.2377e-01, -3.6784e-01,\n",
      "         1.8247e-01, -6.1521e-04, -3.4229e-01,  3.8054e-01,  3.5007e-01,\n",
      "         1.7871e-01, -6.3772e-01, -1.0762e-01, -5.9275e-01,  3.2535e-01,\n",
      "         1.7432e-01, -6.9481e-01, -1.1473e-01, -9.9164e-02, -3.6870e-02,\n",
      "         5.0517e-01,  2.1036e-01,  4.8699e-01, -8.9331e-02,  4.2946e-01,\n",
      "         3.9355e-01, -5.8339e-02,  4.1705e-01,  3.9744e-01,  1.7911e-01,\n",
      "         1.6654e-01,  1.7337e-01,  4.3994e-01, -1.0839e-02,  1.2869e-02,\n",
      "         1.9917e-01, -1.9416e-01, -5.3419e-02,  1.7385e-01, -2.8708e-02,\n",
      "         1.8761e-01,  4.3794e-01,  4.3112e-01,  2.2733e-01, -4.5355e-01,\n",
      "         4.7646e-01, -2.4915e-01,  3.7850e-01,  2.2363e-01, -5.6270e-02,\n",
      "         3.5266e-01,  4.7904e-01, -6.6122e-02,  4.4067e-01, -1.5624e-03,\n",
      "         5.2383e-01,  4.5390e-01, -5.7930e-01, -2.3182e-01, -7.0104e-02,\n",
      "         4.3604e-01, -1.5103e-01,  9.0618e-03, -1.5063e-02, -9.4319e-03,\n",
      "         3.3994e-01, -3.4987e-01, -2.6029e-01,  2.2706e-01,  2.2006e-01,\n",
      "        -6.8168e-01,  4.2814e-01, -1.7058e-02,  2.4743e-01,  4.7552e-01,\n",
      "        -6.8552e-02,  4.0785e-01, -2.8986e-01,  2.1822e-01,  4.8755e-01,\n",
      "        -3.0124e-01, -4.6554e-01, -1.0943e-01,  3.5922e-01,  4.2712e-01,\n",
      "        -6.2755e-01,  4.4175e-01, -6.2824e-01,  1.9078e-01],\n",
      "       grad_fn=<SqueezeBackward1>)\n",
      "Epoch: 42, loss: 0.643\n",
      "tensor([ 0.1983, -0.0092, -0.8132,  0.2374, -0.0426,  0.5244,  0.2557, -0.0838,\n",
      "         0.1821, -0.3010, -0.0020, -0.0413,  0.2550,  0.4850, -0.0498,  0.0039,\n",
      "         0.3620, -0.7093, -0.0340,  0.2509, -0.2930,  0.1884,  0.4522,  0.2153,\n",
      "        -0.2199,  0.1761,  0.4954,  0.1947,  0.2161,  0.4353,  0.4966,  0.2114,\n",
      "         0.2149,  0.2558, -0.0240,  0.4166, -0.3074, -0.7173,  0.5120,  0.2728,\n",
      "        -0.3327, -0.0472,  0.2387,  0.2399,  0.5178,  0.4983, -0.6328,  0.5329,\n",
      "         0.5135, -0.0618,  0.3498, -0.0206, -0.6072,  0.4588, -0.0164,  0.2536,\n",
      "         0.0083, -0.0356, -0.0415, -0.4123,  0.2591,  0.2166, -0.3938,  0.3786,\n",
      "        -0.0041, -0.3876,  0.1921, -0.6622, -0.4270,  0.2511,  0.2901, -0.3629,\n",
      "        -0.5453, -0.1524, -0.4919,  0.0371, -0.0235,  0.2453, -0.0944,  0.3661,\n",
      "         0.1660,  0.2138, -0.3448,  0.2728,  0.4826,  0.5300, -0.4947, -0.5429,\n",
      "         0.0063, -0.6534,  0.4754,  0.3238, -0.0344,  0.2445, -0.0083,  0.2257,\n",
      "        -0.3413,  0.3891,  0.3732, -0.0209, -0.0514, -0.5378,  0.1674, -0.0319],\n",
      "       grad_fn=<SqueezeBackward1>)\n",
      "Epoch: 43, loss: 0.631\n",
      "tensor([-4.9568e-02,  2.6080e-01, -7.4060e-01,  4.9137e-01,  2.5157e-01,\n",
      "         1.8441e-01, -7.7397e-01, -6.0147e-01,  5.0020e-01, -5.7851e-01,\n",
      "         2.1056e-01, -5.7145e-01,  2.2962e-01, -4.5189e-01,  4.0091e-01,\n",
      "        -1.0308e-01, -8.7125e-03, -7.5391e-01,  2.0214e-01, -4.0208e-02,\n",
      "        -5.1109e-01,  1.9166e-01,  2.7917e-01,  2.2337e-01, -5.5975e-01,\n",
      "        -6.0450e-01,  2.5819e-01, -3.9729e-01,  5.1206e-01, -4.2971e-01,\n",
      "         2.6649e-01,  2.1428e-01,  5.1094e-01,  2.0029e-01, -1.3122e-01,\n",
      "         4.2787e-01, -7.2448e-01,  2.1626e-01,  2.4820e-01,  1.9838e-01,\n",
      "        -2.8206e-02, -4.1230e-01, -5.2468e-01, -5.1080e-02,  5.9142e-01,\n",
      "        -3.6539e-03,  2.1363e-01,  4.2435e-01, -3.1967e-01,  1.0027e-02,\n",
      "        -1.4626e-02, -4.5772e-01,  2.0954e-02,  1.7609e-01,  2.1374e-01,\n",
      "         4.9113e-01,  2.0829e-01,  2.2488e-01,  2.3663e-01, -9.4270e-02,\n",
      "        -2.3197e-02,  4.3132e-01, -5.1698e-02,  2.5155e-01,  2.4197e-01,\n",
      "        -6.8170e-01, -8.2012e-02,  6.2240e-01,  2.3609e-01, -7.4816e-01,\n",
      "         2.2168e-01,  4.6564e-01,  1.7528e-02, -5.2299e-01,  1.9234e-01,\n",
      "        -6.4455e-01, -5.3824e-01,  2.5718e-01, -4.0191e-02,  5.4027e-01,\n",
      "        -4.1274e-01,  4.0244e-01, -4.3011e-01, -3.7769e-02,  5.4755e-01,\n",
      "         1.8797e-01, -5.8869e-04,  1.6255e-01,  9.6848e-03,  5.5178e-01,\n",
      "        -4.4880e-02, -5.1211e-01, -1.3137e-01, -3.1420e-02,  2.4772e-01,\n",
      "        -5.3599e-01,  4.2158e-01,  1.1855e-02, -4.5362e-01,  5.0093e-02,\n",
      "         2.4897e-01,  5.1032e-01,  4.6650e-01,  4.5182e-01],\n",
      "       grad_fn=<SqueezeBackward1>)\n",
      "Epoch: 44, loss: 0.596\n",
      "tensor([ 1.8760e-01, -9.6305e-03, -5.8667e-02, -4.5392e-01,  5.1238e-01,\n",
      "        -1.3982e-01, -4.2633e-01,  4.2849e-01, -5.7782e-01,  1.7775e-01,\n",
      "         2.8491e-04, -9.7530e-02, -1.9004e-03, -2.8381e-01, -5.9024e-02,\n",
      "         2.6954e-01, -6.8303e-01,  1.7321e-01,  5.5902e-01,  4.7292e-01,\n",
      "        -4.1487e-01,  4.4045e-01, -4.1663e-01, -1.3306e-02,  1.9958e-01,\n",
      "         5.5546e-01,  2.3182e-01, -2.6314e-01,  3.9490e-01,  1.9758e-01,\n",
      "        -6.6498e-01,  3.9107e-01,  3.7598e-01, -3.8122e-02,  2.3339e-01,\n",
      "         3.2615e-01,  4.7265e-01, -5.8647e-01, -3.6627e-01,  5.3466e-01,\n",
      "        -4.3799e-01, -5.7086e-02, -2.4743e-01,  5.2629e-01, -3.8427e-01,\n",
      "         1.7797e-01,  3.5707e-01,  4.3991e-01, -8.8467e-02, -5.7646e-01,\n",
      "         5.5694e-01,  5.1197e-01,  1.7312e-01,  1.8621e-01,  1.8466e-01,\n",
      "        -6.1508e-01, -1.6425e-01,  4.9431e-01,  2.3790e-01, -4.5416e-01,\n",
      "        -3.5785e-01, -2.6451e-01,  1.6932e-01,  3.7450e-01, -4.5511e-01,\n",
      "         1.9805e-01,  2.2600e-01, -1.1720e-02, -6.6259e-01, -5.9585e-02,\n",
      "        -4.0507e-02, -3.2127e-01, -5.0511e-01, -3.9903e-01,  1.9550e-01,\n",
      "         5.3881e-01,  2.6203e-02, -5.5834e-01,  1.7265e-01, -6.1269e-01,\n",
      "        -5.2760e-02,  4.6153e-01, -5.1694e-02,  2.2127e-01,  4.1793e-01,\n",
      "         4.1385e-01, -1.1138e-01,  4.4724e-01,  1.7926e-01, -2.9793e-01,\n",
      "         4.5612e-01,  4.3524e-01, -6.7398e-01,  2.0491e-01, -6.8382e-01,\n",
      "         5.3613e-01,  4.9182e-01,  4.6045e-01, -1.2744e-02,  5.6431e-01,\n",
      "         4.1583e-01,  5.1953e-01, -4.3921e-01, -9.1229e-02],\n",
      "       grad_fn=<SqueezeBackward1>)\n",
      "Epoch: 45, loss: 0.609\n",
      "tensor([ 0.4963,  0.2463,  0.4372,  0.2233,  0.4099, -0.0213, -0.1160,  0.4425,\n",
      "         0.4393, -0.5622,  0.5081, -0.0576,  0.4975, -0.0310, -0.0115,  0.5121,\n",
      "        -0.1697, -0.5061,  0.5669, -0.4596, -0.0304,  0.5197, -0.0931,  0.4547,\n",
      "         0.1580, -0.0324,  0.4713,  0.4826,  0.1521,  0.5206,  0.2427,  0.5907,\n",
      "        -0.6911, -0.0623, -0.1127,  0.1772, -0.3747, -0.0389, -0.1899,  0.5020,\n",
      "         0.5331,  0.4620,  0.4190,  0.5630, -0.1771,  0.4174, -0.0180,  0.2232,\n",
      "         0.1610,  0.2052,  0.4676,  0.6152, -0.1682,  0.5668,  0.1983,  0.4513,\n",
      "        -0.5319, -0.0214, -0.0229, -0.0642,  0.2800,  0.5355, -0.0871, -0.0937,\n",
      "         0.2153,  0.4155, -0.7792,  0.4869, -0.1492,  0.1553,  0.4775,  0.4685,\n",
      "         0.2499, -0.4057, -0.5494, -0.5665,  0.1806, -0.5158,  0.4977, -0.0812,\n",
      "         0.5529,  0.1565,  0.2591,  0.3957,  0.3062, -0.5956,  0.3902,  0.1686,\n",
      "         0.1713, -0.6796, -0.2987, -0.6602,  0.2157, -0.1478,  0.1705, -0.0518,\n",
      "         0.5077, -0.0811,  0.3600, -0.0424,  0.2151, -0.5716, -0.3342, -0.6169],\n",
      "       grad_fn=<SqueezeBackward1>)\n",
      "Epoch: 46, loss: 0.603\n",
      "tensor([ 0.6195, -0.4081,  0.2113,  0.2570,  0.2850,  0.4075, -0.0550, -0.4807,\n",
      "        -0.0412,  0.2000,  0.5988,  0.1874, -0.5622, -0.6052, -0.2839, -0.8397,\n",
      "         0.2100,  0.4892, -0.8331, -0.5904,  0.2334, -0.3730,  0.2508,  0.4914,\n",
      "         0.5150,  0.5624,  0.0152,  0.2534,  0.1617, -0.0536, -0.0475, -0.0089,\n",
      "        -0.6115,  0.6017,  0.1948,  0.5762, -0.9866, -0.5042,  0.1780, -0.8680,\n",
      "         0.2349,  0.5307,  0.2581,  0.4620,  0.2025, -0.7921, -0.0440,  0.6241,\n",
      "         0.2125,  0.1970, -0.6316, -0.5688,  0.1763, -0.1046, -0.7470,  0.2568,\n",
      "        -0.1021, -0.4743,  0.5764, -0.0133, -0.6534, -0.0106,  0.2972,  0.5534,\n",
      "         0.5094,  0.5900,  0.1851,  0.5616,  0.5170, -0.0555,  0.2195,  0.1883,\n",
      "         0.2277, -0.0590,  0.4911, -0.4972,  0.2747,  0.0054, -0.2663, -0.6829,\n",
      "         0.4894,  0.4291, -0.7455, -0.0901,  0.2211, -0.6425,  0.2074, -0.4945,\n",
      "        -0.4761,  0.5482,  0.1669,  0.5778, -0.4949,  0.5427, -0.0981,  0.0181,\n",
      "        -0.5330, -0.4860, -0.4018,  0.6117, -0.1155, -0.0152,  0.1905, -0.0353],\n",
      "       grad_fn=<SqueezeBackward1>)\n",
      "Epoch: 47, loss: 0.6\n",
      "tensor([ 0.4744, -0.7454, -0.6527,  0.6290,  0.1492, -0.0065, -0.5548, -0.0017,\n",
      "        -0.8531, -0.0323,  0.2640,  0.4426, -0.6580,  0.0096, -0.1341,  0.0229,\n",
      "         0.5446,  0.4796,  0.2096,  0.4274, -0.3313,  0.5474, -0.3520,  0.1895,\n",
      "         0.6983,  0.2043, -0.7506,  0.5699, -0.0061,  0.5273,  0.2253, -0.0472,\n",
      "         0.3821, -0.6844, -0.0857,  0.4924,  0.1920,  0.1844,  0.4782,  0.6308,\n",
      "         0.2194,  0.1805, -0.0428,  0.5594,  0.4993, -0.1593,  0.2732, -0.5683,\n",
      "        -0.7361, -0.8521,  0.2070,  0.2604, -0.4751, -0.4944,  0.3009,  0.2405,\n",
      "         0.3120,  0.2555,  0.1831, -0.5641,  0.2184,  0.2167,  0.2001,  0.5871,\n",
      "         0.4640,  0.2286, -0.1181, -0.4953,  0.5710,  0.5310, -0.5977,  0.1698,\n",
      "         0.5933,  0.6024, -0.0648,  0.1762, -0.7944,  0.6075,  0.2141,  0.4218,\n",
      "        -0.0557,  0.6082,  0.5363,  0.0021,  0.2092,  0.5043, -0.1570,  0.2092,\n",
      "         0.0250,  0.2540, -0.7084,  0.2349,  0.2119,  0.6422, -0.5997, -0.5727,\n",
      "        -0.5705, -0.9466,  0.2434,  0.4920, -0.0120,  0.5812, -0.1160,  0.5645],\n",
      "       grad_fn=<SqueezeBackward1>)\n",
      "Epoch: 48, loss: 0.632\n",
      "tensor([ 2.4347e-01, -3.7395e-02, -6.5404e-02, -4.0663e-01, -5.2465e-01,\n",
      "         1.7052e-02, -8.4635e-02,  1.7414e-02,  1.7274e-01,  2.3001e-01,\n",
      "        -6.0963e-02,  4.8978e-01,  2.0336e-01, -2.7308e-01,  2.0396e-01,\n",
      "         5.2008e-01,  3.8845e-01, -5.2859e-01,  2.3728e-01, -3.8147e-06,\n",
      "        -9.1081e-01,  6.9203e-01,  2.3326e-01, -7.8263e-02,  1.6934e-01,\n",
      "        -5.5557e-01,  2.3332e-01,  5.6967e-01,  2.7451e-01,  1.6388e-01,\n",
      "         5.2406e-01,  2.4303e-01,  2.4042e-01, -4.3366e-01, -6.0542e-02,\n",
      "        -8.5051e-03, -4.8364e-01,  5.9851e-01,  5.4520e-01,  6.1836e-01,\n",
      "         2.0532e-01,  4.2747e-01, -7.9131e-02,  5.1222e-01,  5.8189e-01,\n",
      "        -7.6303e-03, -2.3245e-02,  4.9634e-01,  2.0339e-01,  5.2139e-01,\n",
      "        -3.5951e-03,  5.1524e-01,  2.1283e-01, -3.1738e-01,  5.6325e-01,\n",
      "         1.7223e-01,  6.3365e-01, -6.6293e-01,  6.1569e-01,  2.0098e-01,\n",
      "        -1.0389e-01, -1.0800e-01, -5.0803e-01,  6.3278e-01,  2.8049e-01,\n",
      "         1.6682e-01,  2.2399e-01, -7.8973e-01,  6.2029e-01, -2.2601e-02,\n",
      "        -1.2716e-01, -7.2711e-01, -1.2671e-02,  2.9803e-01,  2.4376e-01,\n",
      "         2.0408e-01,  2.1179e-01, -4.1634e-01,  2.5872e-01,  7.0387e-01,\n",
      "         6.7886e-01, -7.1719e-02, -1.5100e-02, -5.1767e-02,  1.5685e-01,\n",
      "         4.6504e-01, -8.0689e-03, -3.8462e-02,  6.6051e-01, -6.2282e-02,\n",
      "        -5.2297e-01,  2.4430e-01,  2.3236e-01, -3.7857e-01,  5.7793e-01,\n",
      "        -6.4082e-01, -1.8404e-02,  2.2801e-01,  2.0155e-01,  1.7894e-02,\n",
      "        -6.8063e-01, -9.6712e-01,  2.4610e-02,  1.7390e-01],\n",
      "       grad_fn=<SqueezeBackward1>)\n",
      "Epoch: 49, loss: 0.573\n",
      "tensor([-0.6084, -0.3448,  0.6093,  0.6070, -0.0505, -1.0031,  0.6828,  0.2125,\n",
      "         0.2753,  0.2702,  0.6314,  0.1931,  0.6147, -0.7652, -0.5746, -0.1719,\n",
      "        -0.6616,  0.1729,  0.5716,  0.6850,  0.1833, -0.0123,  0.5123,  0.5507,\n",
      "         0.7008,  0.4641,  0.2704, -0.0054,  0.5748,  0.1733,  0.7244,  0.2211,\n",
      "        -0.8682,  0.7138, -0.2293,  0.1541,  0.5938,  0.2285,  0.7116,  0.6474,\n",
      "         0.6086,  0.1950, -0.0940, -0.6488, -0.7169,  0.5503,  0.0259,  0.5004,\n",
      "        -0.0690, -0.4460, -0.0423, -0.0130, -0.6664,  0.6194,  0.2059, -0.9185,\n",
      "         0.2266,  0.4885,  0.1702,  0.2018, -0.5872, -0.5179,  0.6679,  0.6742,\n",
      "        -0.7634,  0.2112,  0.5708, -0.6424,  0.5406,  0.5440, -0.4279,  0.2275,\n",
      "        -0.0587, -0.0779,  0.2448,  0.6742,  0.6265, -0.9900, -0.5855,  0.2025,\n",
      "         0.1923,  0.7397,  0.0208, -1.0855,  0.2073, -0.4177, -0.7383, -0.9288,\n",
      "        -0.0163, -0.7309, -0.5737,  0.2586,  0.2430, -0.1230,  0.2761, -0.8725,\n",
      "         0.4831,  0.5462,  0.7282, -0.0909,  0.2015,  0.1977,  0.7031,  0.2023],\n",
      "       grad_fn=<SqueezeBackward1>)\n",
      "Epoch: 50, loss: 0.608\n",
      "tensor([-0.0566,  0.4241,  0.5623,  0.5667,  0.5967,  0.2317,  0.6436,  0.2055,\n",
      "         0.2587, -0.3707,  0.2384,  0.6168,  0.2554, -0.6269,  0.7537,  0.0084,\n",
      "        -0.7332,  0.6503, -0.0594,  0.4443,  0.6786,  0.2020,  0.5624,  0.6901,\n",
      "         0.1593, -0.1489,  0.6047, -0.0439,  0.2856,  0.1918,  0.1760, -0.3717,\n",
      "         0.1433,  0.4898,  0.7072,  0.5536,  0.2458,  0.6201, -0.0266,  0.2855,\n",
      "        -0.4056, -0.0183,  0.1776, -0.0833,  0.7673,  0.6877,  0.2461,  0.1902,\n",
      "         0.1970,  0.5126, -0.0159, -0.0547, -0.9489,  0.1362, -0.8353,  0.4245,\n",
      "        -0.4224,  0.4974,  0.5028, -0.0011,  0.6712,  0.1966, -0.0999, -0.0566,\n",
      "         0.6702,  0.7099,  0.5778, -0.0520,  0.6825, -0.1951,  0.1996,  0.1850,\n",
      "         0.7178, -0.9877,  0.5914,  0.6092,  0.6530, -0.0349, -0.0392,  0.2295,\n",
      "        -0.0036, -0.5508, -0.0502, -0.6153, -0.0195,  0.0015, -0.6689, -0.1956,\n",
      "        -0.5002,  0.1948, -0.0150, -0.0070, -0.0556, -0.1411,  0.1895,  0.2572,\n",
      "         0.2518,  0.1493,  0.7885, -1.0305,  0.2021, -0.9878,  0.1635,  0.1478],\n",
      "       grad_fn=<SqueezeBackward1>)\n",
      "Epoch: 51, loss: 0.587\n",
      "tensor([-0.1577, -0.0036, -1.0868,  0.1633,  0.2486,  0.6835,  0.1587, -1.0718,\n",
      "        -0.0828,  0.6672, -0.0900,  0.5108,  0.1671, -0.1480,  0.7764, -0.5759,\n",
      "         0.5561, -0.0562,  0.6778,  0.2059, -0.0723, -0.0981, -0.0175,  0.5607,\n",
      "         0.6297,  0.6177,  0.7062,  0.2038,  0.1569,  0.1792, -0.9581,  0.2002,\n",
      "         0.4657, -0.0842, -0.0488,  0.8242,  0.7716,  0.1726,  0.2145,  0.4422,\n",
      "         0.2080, -0.0811, -0.6144,  0.6787,  0.4847, -0.7966,  0.1675, -0.6429,\n",
      "        -0.0051, -0.0807,  0.2160, -0.0817, -0.0134,  0.1441,  0.2333,  0.1521,\n",
      "        -0.6881, -0.0774,  0.2236, -0.8521, -0.6291, -0.6793,  0.1848,  0.7279,\n",
      "        -0.6049,  0.2284, -0.0659, -0.9061,  0.1983, -0.6873,  0.7612, -0.0285,\n",
      "         0.5454,  0.0125,  0.7033,  0.6573, -0.4718, -0.1401, -0.9451,  0.6991,\n",
      "         0.5264, -0.1454, -0.7001,  0.7004, -0.8404,  0.5419,  0.1918, -0.1357,\n",
      "        -0.0708, -0.0993,  0.8130,  0.6593,  0.7949,  0.1543, -0.9156,  0.7073,\n",
      "         0.3107,  0.6416,  0.1979, -0.7464, -0.8166,  0.1221,  0.2337,  0.0174],\n",
      "       grad_fn=<SqueezeBackward1>)\n",
      "Epoch: 52, loss: 0.588\n",
      "tensor([ 0.8004, -1.1196, -0.0886, -0.1076, -1.1977,  0.1978, -0.0779, -0.8253,\n",
      "        -0.1532,  0.2377, -0.7469, -0.0701, -0.2369,  0.5956,  0.5761,  0.1637,\n",
      "        -0.0190, -0.0454,  0.7322, -0.5865, -0.0365, -0.6035,  0.2314,  0.8455,\n",
      "        -0.8381,  0.1989,  0.1926, -0.0969, -0.1223,  0.5850, -0.0641,  0.7322,\n",
      "         0.1660, -0.1056,  0.1992, -0.8705, -0.0471,  0.4999, -0.0524,  0.6377,\n",
      "         0.2522,  0.6478,  0.8203, -1.0103, -0.7120, -0.0376,  0.1724,  0.2351,\n",
      "        -0.8911,  0.1906, -0.0290, -0.9036,  0.1596,  0.6496,  0.1680, -0.8421,\n",
      "        -0.0271, -0.8342, -0.1468, -0.0862,  0.5700, -0.8873,  0.6725,  0.6757,\n",
      "        -0.0652, -0.0279, -0.8319, -1.3019, -0.6592, -0.6671,  0.4995,  0.2259,\n",
      "         0.7991, -0.6438,  0.7026,  0.2740,  0.8097, -0.4183,  0.6897,  0.1967,\n",
      "        -0.0815, -0.0125, -0.0671, -0.1028, -0.0406,  0.5266, -0.1647,  0.2236,\n",
      "        -0.0585, -0.0656, -0.1358,  0.1612,  0.1536,  0.6807,  0.1889,  0.8219,\n",
      "         0.1202,  0.6767, -0.5066,  0.1929, -0.0753,  0.7627, -0.4053,  0.6900],\n",
      "       grad_fn=<SqueezeBackward1>)\n",
      "Epoch: 53, loss: 0.59\n",
      "tensor([-0.3315, -0.0515, -0.0630, -0.1146,  0.1549,  0.6900,  0.8263,  0.1440,\n",
      "         0.5912,  0.7959,  0.6433,  0.0213, -0.8190, -0.8551, -0.0395,  0.1742,\n",
      "         0.6753, -0.8730,  0.7342,  0.2412,  0.2137,  0.2723,  0.6968,  0.0061,\n",
      "         0.8476, -0.6274,  0.1617,  0.2165, -0.0089,  0.2005,  0.6921,  0.1707,\n",
      "        -0.9881, -0.0293,  0.2403, -0.9838, -0.8661, -0.0017,  0.7321,  0.7455,\n",
      "         0.1482, -0.1314, -0.7591, -0.5415, -1.0900, -0.6054,  0.2544,  0.2534,\n",
      "        -1.2409, -0.0456, -0.9186, -0.9872, -0.0669, -0.1230, -0.7286,  0.1730,\n",
      "         0.1727, -0.0483, -0.0919,  0.1828,  0.2009, -0.0320,  0.6509,  0.7856,\n",
      "        -1.1474,  0.2252, -0.0519,  0.8684,  0.5914,  0.9113,  0.6379, -0.0758,\n",
      "         0.2030,  0.8050,  0.7600,  0.2996,  0.2156, -1.0958,  0.2250,  0.6773,\n",
      "        -0.0132, -0.0750,  0.1580,  0.1917, -0.7437, -0.0672, -0.0840, -0.5428,\n",
      "         0.1877, -0.0863,  0.7121,  0.7979,  0.7295, -0.1341,  0.2234, -0.1013,\n",
      "        -0.0578, -0.2271,  0.7772,  0.2061,  0.0260,  0.5869, -0.0870,  0.7729],\n",
      "       grad_fn=<SqueezeBackward1>)\n",
      "Epoch: 54, loss: 0.561\n",
      "tensor([ 0.7094,  0.2146, -0.0877, -1.0930,  0.2340, -0.7647,  0.8353, -0.0254,\n",
      "         0.8679,  0.7856,  0.2701, -1.2169, -0.1512,  0.7504,  0.6447, -0.7894,\n",
      "         0.2260,  0.7729, -0.6052,  0.2027, -0.0153,  0.1823,  0.7804,  0.2229,\n",
      "         0.7968, -0.8601,  0.8247, -0.0114, -0.1051, -0.5964,  0.1446, -0.0620,\n",
      "         0.8057, -0.7165, -0.0980, -0.1016,  0.2103,  0.6088, -0.9365, -0.0518,\n",
      "        -0.0202,  0.8110,  0.1460, -0.1270, -0.0183, -0.7455,  0.3548, -0.6890,\n",
      "        -0.8995, -1.1324,  0.1628, -0.0674, -0.0793,  0.6593,  0.9250,  0.2358,\n",
      "        -0.0172, -0.0845, -0.0340,  0.9100,  0.8834,  0.8633, -1.0665,  0.2281,\n",
      "         0.7785, -0.4671, -1.1645, -1.1378, -0.0077, -0.7532, -0.8151, -0.5737,\n",
      "        -1.0370, -0.0757, -0.1443,  0.8179, -0.0770,  0.7145, -0.4462, -0.7313,\n",
      "        -0.0142,  0.7451, -0.0945,  0.0015,  0.7860,  0.1933,  0.2158, -0.1238,\n",
      "         0.1519,  0.6671,  0.2149, -1.1519,  0.2413, -0.0817, -0.6862,  0.7733,\n",
      "         0.1441,  0.6461,  0.1558,  0.7571,  0.2453,  0.8652,  0.0326, -0.0328],\n",
      "       grad_fn=<SqueezeBackward1>)\n",
      "Epoch: 55, loss: 0.566\n",
      "tensor([ 0.1938,  0.3087, -0.8691, -0.9798, -1.1198, -0.9706,  0.1562, -0.0455,\n",
      "         0.1626, -0.6090,  0.7850,  0.7164,  0.5848, -0.9492, -0.0601, -1.2069,\n",
      "        -0.1851,  0.6067, -0.0245,  0.1423, -0.7727,  0.1904, -0.0240, -0.7571,\n",
      "        -1.0253,  0.6596,  0.2629,  0.7484, -0.0473, -0.0581,  0.2531,  0.5496,\n",
      "         0.1838,  0.2533, -0.0627,  0.1250,  0.7960, -1.3404,  0.1754,  0.6551,\n",
      "         0.8205, -1.3898, -0.1531,  0.3021,  0.2247, -1.1857, -0.0555, -0.1489,\n",
      "         0.7940, -0.2352,  0.3001, -0.1177,  0.1787, -0.8515, -1.1330, -1.0169,\n",
      "        -0.7734,  0.2673,  0.2384, -1.1766,  0.8185,  0.0180, -0.9475,  0.7041,\n",
      "        -0.0319,  0.1708,  0.2387, -0.1569,  0.1957,  0.8005, -0.0750,  0.8172,\n",
      "         0.0219, -0.7183,  0.6999,  0.2503, -0.9409, -1.4548, -0.0437,  0.2267,\n",
      "        -0.7392,  0.8388, -0.5555,  0.7780, -0.0574, -0.0213, -1.0724,  0.0018,\n",
      "        -1.0434,  0.9320, -0.0376, -0.0729,  0.7472, -1.1142, -1.0280,  0.1703,\n",
      "        -0.0562, -0.0560, -0.0994,  0.2777,  0.1999, -1.2513,  0.1658,  0.9760],\n",
      "       grad_fn=<SqueezeBackward1>)\n",
      "Epoch: 56, loss: 0.55\n",
      "tensor([ 0.0030,  0.7896,  0.7225, -0.7186,  0.2453, -0.0994, -0.1583,  0.8940,\n",
      "        -0.9118, -0.5796,  0.2367,  0.7764, -0.7956, -0.0225,  0.1837,  0.8599,\n",
      "         0.8316, -1.1544, -0.5058, -0.6556, -1.1564, -0.9286,  0.1760, -0.1400,\n",
      "        -0.0954,  0.6448, -0.8376,  0.8032, -0.7456,  0.9094,  0.2588, -0.0556,\n",
      "         0.6975,  0.8995, -1.1054,  0.2289,  0.9743, -0.1402, -0.1563,  0.6586,\n",
      "         0.2475, -1.3075, -0.0447,  0.2588,  0.7787, -0.9759,  0.1563, -0.0848,\n",
      "        -0.2103,  0.5864, -1.2170,  0.9171,  0.8518,  0.8483,  0.0173,  0.2465,\n",
      "        -0.0042,  0.1540,  0.2452,  0.7086, -0.0712,  0.8808,  0.7239,  0.2158,\n",
      "         0.8489,  0.2410, -0.5238,  0.8088,  0.8663,  0.2537,  0.8133,  0.9645,\n",
      "         0.6911, -0.0895, -1.0395,  0.7194,  0.2781,  0.1862, -0.0093,  0.0040,\n",
      "         0.0516,  0.2054, -0.6942,  0.2595,  0.1562, -0.1386, -1.0312, -0.1390,\n",
      "         0.7260,  0.2406,  0.7013,  0.1887,  0.2206,  0.6464, -0.8636,  0.1739,\n",
      "        -0.1871, -0.9962,  0.9906,  0.1796,  0.1558,  0.7668, -0.9921, -0.9972],\n",
      "       grad_fn=<SqueezeBackward1>)\n",
      "Epoch: 57, loss: 0.566\n",
      "tensor([-0.0529, -0.0115,  0.7269,  0.2151, -0.5141, -0.8521, -0.9470,  0.9009,\n",
      "        -0.0377,  0.1138,  0.2011, -0.8254,  0.7537, -0.0162,  0.9866, -1.1969,\n",
      "        -1.0305, -0.7796,  0.2484,  1.0454,  0.0185, -0.8724, -1.1037, -0.0668,\n",
      "        -0.0879,  0.8493, -0.0038, -0.8823,  0.9199,  0.1796, -0.1849, -1.3498,\n",
      "         0.2464,  0.1421,  0.1893,  0.3302,  0.8281,  0.7973,  0.2028,  0.8136,\n",
      "         0.1894, -0.0562,  0.7369, -0.0363, -0.0567,  0.8875, -1.3611, -0.0582,\n",
      "         0.1993,  0.1823, -0.1469,  1.0109,  0.8010, -0.4759,  0.1802,  0.9924,\n",
      "         0.6233,  0.6778, -1.1064,  0.0051,  0.2061,  0.2001,  0.1378, -0.0802,\n",
      "         0.0287,  0.1824,  0.2310,  0.1099, -0.6107, -1.0698, -0.8906, -0.9700,\n",
      "         0.2325,  0.8158,  1.0592,  0.7265, -0.5240,  0.1541,  0.2546, -0.0540,\n",
      "         0.9199,  0.1408,  0.1562,  0.2321, -0.0425,  0.9216, -0.9362, -0.0856,\n",
      "         0.2675, -0.1728, -0.8079,  0.9358, -0.0307, -0.8420,  0.6617, -1.0237,\n",
      "         0.2032,  0.2802, -0.8699,  0.1630,  0.0099,  0.6489, -1.1880,  0.2344],\n",
      "       grad_fn=<SqueezeBackward1>)\n",
      "Epoch: 58, loss: 0.567\n",
      "tensor([ 0.9694,  0.8223,  0.1731,  1.0379, -0.0211,  0.1775, -0.7121, -0.8461,\n",
      "        -1.2799,  0.1957, -0.0027,  0.1470,  0.8768,  0.2041, -1.3640,  0.2276,\n",
      "         0.7259,  0.7492,  1.0196,  0.0079, -0.1829, -0.0967, -1.1564, -1.4070,\n",
      "         0.8579,  0.1390, -0.0189, -0.5070,  0.1888,  0.2479,  0.2108, -1.4560,\n",
      "         0.1341,  0.1535,  0.9751,  0.6739, -0.0656,  0.9607,  0.1189, -0.1642,\n",
      "        -0.0311,  0.8791,  0.2342, -1.4479,  0.8617,  0.9678, -1.0734,  0.8167,\n",
      "         0.8211,  0.9208,  0.7756, -0.0520,  0.9789,  0.7543,  0.2223,  0.7801,\n",
      "         0.9345, -0.7314,  0.2390,  0.1837, -0.4133,  0.2351,  0.0997, -0.1279,\n",
      "         0.2195,  0.1334,  0.1430, -0.1020, -0.0287,  0.1180, -0.2502,  0.1964,\n",
      "        -1.3380, -1.0744, -0.2293, -1.0571,  0.2308,  0.9075, -0.1207,  0.8822,\n",
      "        -0.8927,  0.1675, -1.3388,  0.2350,  0.2358, -1.1569,  0.1906,  1.0414,\n",
      "        -0.2105, -0.1582,  0.6421, -0.0610, -0.0227, -0.0934, -0.0840, -1.1268,\n",
      "         0.9549,  0.1563, -0.0032,  0.1445,  0.1864,  0.1892, -0.9182,  1.0992],\n",
      "       grad_fn=<SqueezeBackward1>)\n",
      "Epoch: 59, loss: 0.589\n",
      "tensor([-0.8365,  0.1293, -1.1002, -0.1377,  0.2144,  0.9449,  0.1379, -0.0439,\n",
      "        -0.1604, -0.1128,  0.2456,  0.2794,  0.2081,  0.7425, -0.0795, -0.2102,\n",
      "         0.8025,  0.8961, -0.9396,  0.1847, -0.0403, -0.6315,  0.1839,  1.0912,\n",
      "         0.1551, -0.0208,  0.9732,  0.9114,  0.2396,  0.1749, -1.3382, -0.5634,\n",
      "         0.6537, -0.0840, -0.0780, -0.1160, -0.0525, -0.0297,  0.8304,  0.1935,\n",
      "         0.8928,  0.1498, -0.1142,  0.1544,  0.1032,  0.8671,  0.9720,  0.1364,\n",
      "        -0.0599, -0.0430, -0.8647, -0.0875, -0.1451,  0.2063, -0.0047, -0.1128,\n",
      "        -0.0915,  0.1381, -0.6766, -1.4916,  0.1607,  1.1385,  0.8018,  0.7191,\n",
      "        -0.0552, -0.0862, -1.2584, -0.2613, -0.0470, -0.7980, -0.5743, -0.0420,\n",
      "         0.1605,  0.9009,  0.9641, -0.1726,  0.9529, -0.0462,  0.1765,  0.2848,\n",
      "         0.1894,  0.5094, -0.7198,  1.0824, -0.0844,  0.1221,  0.9340, -1.3933,\n",
      "         0.2136, -0.0990,  0.7994, -1.1891,  0.9490, -0.0602, -0.0637,  0.8309,\n",
      "        -1.3388, -0.0768,  0.1830,  0.1152,  0.2365, -1.6193, -1.3840,  0.2134],\n",
      "       grad_fn=<SqueezeBackward1>)\n",
      "Epoch: 60, loss: 0.564\n",
      "tensor([-1.0986,  0.8353,  1.1001, -0.0473, -1.1735, -0.0642, -1.1138, -1.3160,\n",
      "        -1.4700,  1.0660, -0.0344, -0.1000,  0.1464,  0.1225, -0.1336, -0.3036,\n",
      "        -1.0306, -1.2332,  0.0240,  0.1698,  0.1239, -0.0698,  0.8565,  0.1907,\n",
      "        -0.2171,  0.8229,  0.9187, -0.1691, -0.1055, -0.1516, -1.3116,  0.8687,\n",
      "        -0.8309, -0.0322,  0.5414,  0.1994,  0.1219,  0.8295,  0.7207,  0.1383,\n",
      "         0.1422, -1.0610,  0.1617,  0.8452, -1.8044, -1.5586,  0.2038, -0.1360,\n",
      "         1.1198, -1.1596,  0.2683, -0.1430,  0.1709, -0.1250,  0.8283,  0.1397,\n",
      "         0.8811, -1.1590,  0.7356,  0.1234,  0.6977,  0.8147, -0.6828,  0.1748,\n",
      "         0.1167, -0.2709,  0.2294, -0.1670, -0.0414,  0.9559,  0.2257, -0.0446,\n",
      "         0.1134,  0.8018, -0.1026,  0.2079,  1.1726, -0.8990,  0.9493, -0.0354,\n",
      "         1.0315, -0.0257,  0.9388,  0.1176, -0.1432, -0.1789,  0.8519,  0.1365,\n",
      "         0.1431,  0.2118, -0.1442, -1.3876,  0.8879,  0.9951,  0.7807,  0.8896,\n",
      "         0.1030, -1.0365,  0.1367, -0.1413,  0.9618,  0.2138, -0.0939, -0.2132],\n",
      "       grad_fn=<SqueezeBackward1>)\n",
      "Epoch: 61, loss: 0.541\n",
      "tensor([ 1.0077,  0.9804,  0.1181,  0.2567,  0.2465,  0.2932, -0.0058, -0.0427,\n",
      "         1.2413, -0.1561, -1.3068,  0.1937, -0.7545,  0.1469,  1.0408,  0.1619,\n",
      "         0.8081, -0.0532,  0.1469, -0.7521, -1.5311,  0.2090,  0.7880, -0.0879,\n",
      "         0.1381, -0.4440,  0.0246, -0.0922, -0.0737, -0.0387,  1.1705,  0.9702,\n",
      "         0.0141, -1.5042,  0.1415,  0.2099, -0.9075,  0.2341,  0.9318, -0.1020,\n",
      "         0.0038,  0.7762,  0.2493, -0.7074, -0.8657, -0.0924, -1.0944,  0.9963,\n",
      "        -0.9567, -0.7348,  1.1330,  0.1447,  0.9183, -1.1912, -0.0544,  0.9313,\n",
      "         0.2319,  0.6971, -0.0698,  0.8203, -1.4694, -1.0517,  0.1728,  0.8828,\n",
      "         0.1207, -0.9037, -1.1482, -0.8605,  0.6890,  0.2421,  0.9651, -1.2581,\n",
      "         1.1274,  1.1825,  1.0425,  0.1670, -0.0656,  0.9994, -1.0674, -0.0326,\n",
      "         0.1607,  0.2101, -0.0446,  0.2437,  1.1784,  0.1610,  1.0428,  0.1066,\n",
      "         0.8211,  0.1803,  0.0897,  0.1520, -0.2548,  0.9754,  0.9745, -0.0072,\n",
      "        -0.0075,  1.0825, -1.1844,  1.0297,  0.2010,  0.1334,  0.1382,  0.0148],\n",
      "       grad_fn=<SqueezeBackward1>)\n",
      "Epoch: 62, loss: 0.482\n",
      "tensor([-1.2842, -0.0489, -0.1182, -1.4596, -1.5992,  0.8813, -0.0703, -1.2360,\n",
      "        -0.0623,  0.0618, -0.0261,  0.8995, -0.0333,  1.0724,  0.2083,  0.1194,\n",
      "         0.9491, -1.4997,  0.9546,  0.9341,  0.2757,  1.1525, -0.3004, -0.0842,\n",
      "        -1.6484, -0.0316, -1.1825,  1.2432, -1.0918, -0.0285, -1.1634,  1.2721,\n",
      "         0.1031,  0.2237, -1.2703, -0.0240, -1.4417, -0.0762,  0.1532, -1.6596,\n",
      "        -0.6098,  0.9691,  0.1081, -1.5959,  1.1129, -0.3230,  0.1038, -1.3916,\n",
      "         1.0344, -1.4635, -0.9243, -0.1453,  1.1069, -1.2922,  0.9618,  0.9720,\n",
      "        -1.1811, -0.0161, -1.0069,  1.0147, -1.5815,  0.1699, -0.1099, -0.0514,\n",
      "         0.1134, -1.6335,  0.8917,  0.1831,  0.2162,  1.0694,  1.2695, -1.1237,\n",
      "         0.8543, -0.0727, -1.1173, -1.3297,  1.0849,  0.1238, -1.2306, -0.1045,\n",
      "         1.0815, -0.0398, -0.6711,  1.1075,  1.0236,  0.1015,  1.2532,  0.8297,\n",
      "         0.1284,  1.1423, -1.4357,  0.0856, -0.0834,  0.3127,  1.0942,  1.0445,\n",
      "         0.0949,  0.0962, -0.2070,  1.0302,  0.0794, -0.0081,  0.9366,  0.2623],\n",
      "       grad_fn=<SqueezeBackward1>)\n",
      "Epoch: 63, loss: 0.523\n",
      "tensor([-0.0598, -0.9765,  0.3166,  0.9556, -1.2796,  1.0331, -1.5334,  0.9685,\n",
      "        -1.4722,  0.2496, -0.7616,  1.0729, -0.8103,  0.2231,  1.0857, -1.2904,\n",
      "        -0.0078,  0.1620, -1.0268, -1.0570,  0.9228, -0.1537,  1.0499,  0.2706,\n",
      "         1.1036,  0.0022,  0.1570,  0.2296, -0.0933, -1.4758,  1.1817,  0.1166,\n",
      "         0.1548,  0.8186,  1.0039, -0.7514, -1.4372,  0.1616,  0.8264, -0.9940,\n",
      "        -0.0563,  1.0439,  0.0052,  0.1134, -1.2111, -0.0393, -1.2353, -0.0550,\n",
      "         0.1784,  0.9886,  0.0823,  0.0052, -0.9711,  1.0811, -0.2739,  0.2322,\n",
      "         0.2350,  0.1983, -0.1599, -0.0406, -1.6160,  0.2453, -1.1033, -0.0118,\n",
      "        -0.6780,  0.1302,  0.7599, -0.0481, -0.0958, -0.8081,  0.1582,  0.8092,\n",
      "         0.2506, -1.4572,  0.9294, -1.4293,  0.9267, -1.0416, -1.0165,  0.0976,\n",
      "        -0.0544,  0.1210,  1.3078,  0.1613, -0.0500,  1.1095,  1.0832,  0.2232,\n",
      "         0.9748, -0.0884, -0.0575,  0.1424, -0.0532, -1.0293, -1.1716,  0.8086,\n",
      "         0.1729,  1.1644,  0.8801,  0.2025,  0.0918,  0.1250,  1.4387,  0.1000],\n",
      "       grad_fn=<SqueezeBackward1>)\n",
      "Epoch: 64, loss: 0.512\n",
      "tensor([-1.6229, -1.0673, -0.1411, -0.6328,  0.1730,  1.0067, -0.1459, -1.2147,\n",
      "        -0.1273, -1.3784,  1.0912,  0.0904, -0.7490,  0.1709,  1.3338,  0.1914,\n",
      "         0.8940, -1.1656,  1.0490, -0.0433, -1.3225,  0.0693, -0.0995, -1.2262,\n",
      "        -0.0268,  0.1903, -0.2607,  1.1427,  0.7638, -1.0777,  0.1099,  0.1092,\n",
      "         1.1568, -0.1025, -0.0137,  0.1304,  1.1632,  1.0888,  0.1576,  1.1880,\n",
      "        -0.0278, -0.0645, -0.0660, -1.4001, -0.8745,  1.0381,  0.0501,  1.1388,\n",
      "        -0.1741, -1.1012,  1.2601, -0.0675, -0.0338, -1.5309,  0.9262, -0.0495,\n",
      "        -0.0607,  0.0868,  0.0755, -0.9726,  1.0978, -1.8788,  1.0880,  0.1924,\n",
      "         1.0933,  1.0169, -0.0970, -1.3768,  1.2948, -0.0891, -1.0529, -1.4202,\n",
      "         0.8204,  0.0626,  0.1294,  0.1994,  0.1768, -1.6665,  1.2943,  0.1541,\n",
      "         1.1678, -0.0769,  1.1872,  0.2097, -0.7211,  1.2256, -1.1771,  1.0204,\n",
      "        -0.0318,  1.2645, -0.0296,  1.1265,  0.1831, -0.0226,  0.1081,  0.2069,\n",
      "         0.9248, -1.0511, -0.0091, -0.1394, -0.2079, -0.0364, -0.1794,  0.8376],\n",
      "       grad_fn=<SqueezeBackward1>)\n",
      "Epoch: 65, loss: 0.545\n",
      "tensor([-1.1130, -0.0590, -1.4733,  0.1740, -0.0905,  0.9946, -0.2657, -1.1392,\n",
      "        -1.3630,  1.0618,  1.5354, -1.6729,  1.0631,  0.1124,  0.1002, -1.7872,\n",
      "        -0.0349, -0.7116, -1.4177,  0.9239, -0.1402,  0.2043,  0.1045, -0.0539,\n",
      "         0.0245,  0.2253, -0.0869,  0.2083,  1.1568, -0.1196, -1.0427,  1.1754,\n",
      "         1.1787,  0.8924, -0.2048,  0.1260, -0.0955, -1.5191,  0.8639,  0.1292,\n",
      "        -0.8706,  0.1634,  1.3548, -0.5478, -0.0196, -0.1603, -0.9102, -0.0742,\n",
      "         0.1274,  0.1452,  0.1610,  0.1279, -0.0635, -0.0519,  0.1553, -0.0170,\n",
      "         0.2298,  0.1269,  1.3671,  1.0278, -0.0940,  1.0537,  0.9881,  0.1157,\n",
      "        -0.1875,  1.0407, -0.0583, -0.0077,  1.2342,  0.1247, -1.0381,  0.9217,\n",
      "         0.2568, -0.9812, -1.4535,  0.2250, -1.3393,  1.3004,  1.3793,  0.1708,\n",
      "         0.1572,  0.0873,  0.1961,  0.0550,  1.1624,  0.1490,  1.2186,  0.1681,\n",
      "         1.0565,  0.2085, -0.0561,  1.1757,  0.2167, -0.6439, -0.6610,  0.9295,\n",
      "        -1.8619, -0.0394,  0.1766,  0.2244,  1.2596, -0.1654, -0.1338,  0.8703],\n",
      "       grad_fn=<SqueezeBackward1>)\n",
      "Epoch: 66, loss: 0.549\n",
      "tensor([-0.0135,  0.1275,  0.2073,  0.1410,  1.1371, -1.2625,  0.1085, -0.0777,\n",
      "        -0.1341,  1.2209, -0.0316,  1.2715, -0.6815, -1.2789,  0.1132,  0.0590,\n",
      "        -1.4950,  0.8750, -0.1509, -0.1531, -1.4049, -0.0711,  0.1436, -1.5114,\n",
      "         1.0029, -0.0727,  0.1260,  0.1895, -1.5125,  1.0846, -0.0655,  1.1593,\n",
      "         0.8968,  1.0642, -0.1270, -1.6670, -1.2506,  0.0519, -0.0106,  0.1372,\n",
      "        -0.0798,  1.2600,  0.1548,  0.1922,  0.6307, -1.5717,  0.9098,  1.2400,\n",
      "        -0.0945,  1.4387,  0.0566, -0.2757, -0.9360,  1.1862, -1.1270, -0.0920,\n",
      "         0.1043,  1.1517,  0.1894,  0.1746,  1.1343, -0.1121, -0.1475,  1.3756,\n",
      "         1.0628,  1.0797,  0.1239,  0.3373, -1.4726,  0.1682, -0.2110, -0.0398,\n",
      "        -0.0972, -0.0158, -0.0482, -0.0222, -0.0889, -0.0146, -0.0649, -0.0569,\n",
      "        -0.0559,  0.1770,  0.1725, -0.0226,  0.0444,  1.0908,  0.0754,  0.0851,\n",
      "        -0.1169, -1.3591, -1.8287, -1.3248,  1.4132,  0.2071, -1.0878,  0.7679,\n",
      "         0.1221, -0.0291, -1.6558,  0.8778,  0.1866, -0.0071, -0.0822, -1.7148],\n",
      "       grad_fn=<SqueezeBackward1>)\n",
      "Epoch: 67, loss: 0.534\n",
      "tensor([ 1.4171e+00,  1.8135e-01, -4.3631e-02,  7.4589e-02,  1.1433e+00,\n",
      "         9.3671e-01,  8.4485e-02, -4.6505e-02,  1.5433e-01,  8.6906e-02,\n",
      "         8.9386e-01, -1.2710e+00, -1.8429e-02,  1.9276e-01,  1.2706e+00,\n",
      "         5.2287e-02,  1.6527e-01, -1.0798e+00,  1.6847e-01, -7.1801e-03,\n",
      "        -1.3401e+00,  9.2023e-01, -1.6003e-01,  1.2172e+00,  1.1523e-01,\n",
      "         1.2271e+00, -1.6172e+00,  1.9232e-01, -1.7004e+00, -2.8873e-02,\n",
      "        -1.5768e-03, -2.1735e+00,  1.3549e-01,  1.4499e-01,  1.2153e+00,\n",
      "         5.4478e-02, -7.1713e-02,  2.6903e-01, -1.2065e+00,  2.5556e-01,\n",
      "         1.0443e+00,  1.3177e+00,  1.0775e-01,  9.1698e-01,  9.6400e-02,\n",
      "        -1.3837e-01,  2.8371e-01,  1.1028e+00,  1.3373e+00, -1.7707e-02,\n",
      "        -2.4979e-02,  1.1256e-01,  9.8601e-01, -1.7561e+00,  1.1866e+00,\n",
      "         1.5619e-01,  7.6074e-02, -1.5928e+00, -1.2985e+00, -1.2528e-01,\n",
      "         1.1846e+00, -1.7799e-01, -2.9039e-02,  1.0899e-01, -8.5019e-02,\n",
      "         1.2429e+00,  9.1423e-01,  1.0780e+00, -3.2630e-02,  6.5642e-02,\n",
      "         1.4365e+00, -1.8112e+00,  1.4078e-01, -1.4511e-01,  1.8848e-01,\n",
      "         2.1146e-01,  1.1695e+00,  1.1332e+00,  6.1285e-02, -6.9033e-01,\n",
      "         1.0490e+00,  2.2265e-01, -1.3739e+00, -1.2507e+00, -7.4243e-03,\n",
      "         1.5991e-01,  1.4300e+00, -7.6973e-02,  5.8994e-02,  1.3235e+00,\n",
      "        -9.9735e-03, -1.1993e+00,  9.9817e-02,  2.3526e-01,  1.4955e-01,\n",
      "         1.0636e+00, -8.1997e-01,  1.6648e-01, -1.5434e+00, -5.2055e-03,\n",
      "        -1.2035e-01,  8.1142e-02, -1.2434e+00, -1.1047e+00],\n",
      "       grad_fn=<SqueezeBackward1>)\n",
      "Epoch: 68, loss: 0.54\n",
      "tensor([-9.3358e-01,  1.0779e+00, -1.1001e+00,  1.1614e+00, -6.8095e-02,\n",
      "        -1.4274e+00, -1.0893e-01,  8.2774e-02,  1.1319e+00, -1.1903e+00,\n",
      "         4.5996e-02, -5.2633e-02,  1.3298e+00,  1.2881e+00, -2.0087e-01,\n",
      "        -1.4251e-01, -1.7012e+00, -7.3699e-02, -4.7712e-02,  1.6738e-01,\n",
      "        -1.7549e-02,  1.1203e+00, -3.5519e-02,  1.1556e-01, -1.4896e+00,\n",
      "         8.1953e-02,  2.4672e-02, -8.3961e-02, -9.7611e-02,  8.7563e-02,\n",
      "        -7.8772e-02,  9.5772e-02, -7.6931e-02,  1.1593e+00,  5.0566e-02,\n",
      "        -9.3360e-02, -1.6552e+00, -1.5749e+00,  9.6686e-01,  1.1920e+00,\n",
      "         2.5010e-02, -1.5774e+00,  1.2022e+00,  9.4550e-01,  1.7270e-01,\n",
      "         1.2004e-03,  1.2140e-01,  1.0643e+00, -3.0248e-01, -3.5115e-01,\n",
      "        -1.4989e+00,  8.8388e-01, -6.8467e-02,  3.4939e-02, -9.3457e-01,\n",
      "        -1.3183e+00, -6.3375e-02, -1.1303e-01,  1.2885e+00, -1.3698e+00,\n",
      "         1.2652e+00,  1.1420e+00,  1.3810e+00, -3.3251e-02, -5.0346e-02,\n",
      "        -4.1295e-02,  1.6009e-01, -4.9274e-02, -6.5661e-02,  1.2595e+00,\n",
      "        -2.3597e-02,  5.9277e-02, -4.3994e-02, -4.3588e-02, -1.3951e+00,\n",
      "         4.6841e-02,  1.1214e+00, -1.9613e-01,  9.3558e-02, -1.7202e+00,\n",
      "         1.1387e+00, -1.3192e+00, -7.4198e-01,  7.3421e-02,  2.2313e-01,\n",
      "        -8.7506e-02,  9.1517e-01, -9.9080e-01,  8.4967e-01, -1.2946e-01,\n",
      "         9.5725e-01, -8.2327e-02, -5.1433e-02,  9.6281e-02,  1.7114e-01,\n",
      "         5.4837e-02, -5.8631e-02,  1.3347e+00, -8.0222e-02, -1.3479e-02,\n",
      "         1.2998e+00,  1.6012e-01,  1.0215e-01,  7.5805e-02],\n",
      "       grad_fn=<SqueezeBackward1>)\n",
      "Epoch: 69, loss: 0.463\n",
      "tensor([-7.0987e-02, -2.8737e-02, -1.7913e+00,  1.1439e-01,  1.6587e-01,\n",
      "         1.1778e+00, -1.8597e+00,  9.8047e-01,  6.0187e-02,  1.4752e+00,\n",
      "         1.1116e+00, -1.2490e+00, -1.7538e-01,  8.9458e-02, -7.1299e-03,\n",
      "        -4.2744e-02, -5.0445e-02,  7.9709e-02,  1.2986e+00,  1.0942e+00,\n",
      "         1.3386e+00,  1.0004e+00,  1.3977e+00, -8.7896e-03,  1.2923e+00,\n",
      "         1.6906e-01,  1.1292e-01,  1.5664e+00, -4.1482e-02,  1.1188e+00,\n",
      "         8.6032e-01, -5.2979e-02,  1.1142e+00,  1.1603e+00,  2.9888e-02,\n",
      "        -8.7423e-01, -1.6122e+00,  7.8532e-02,  1.1995e+00, -1.6747e+00,\n",
      "         7.6104e-02, -3.6426e-02,  1.2821e+00, -1.3645e+00, -3.7364e-02,\n",
      "        -1.9429e+00,  1.3949e+00, -1.2712e+00, -3.5207e-01,  1.2487e+00,\n",
      "         1.2649e+00, -1.5310e+00,  1.1575e+00,  2.4707e-01, -9.8588e-01,\n",
      "         1.2832e+00,  9.1157e-02,  1.1893e+00, -1.5352e-01, -8.6197e-02,\n",
      "        -1.2692e+00,  1.1106e+00,  1.5459e+00, -1.4360e+00, -1.3942e+00,\n",
      "        -1.6758e+00,  6.5458e-02, -6.1076e-02, -5.9217e-02, -1.2525e-01,\n",
      "        -9.0393e-02,  9.9470e-02,  1.1804e+00, -1.2445e+00,  2.2389e-02,\n",
      "        -1.2518e-02, -1.7943e+00,  1.0003e-01, -1.9522e-02, -1.5041e+00,\n",
      "        -7.8190e-02, -1.7776e+00, -9.8978e-01,  9.9249e-01, -1.3745e+00,\n",
      "        -2.5507e-02, -1.7862e+00,  9.8864e-01,  2.2620e-01, -4.3518e-02,\n",
      "        -9.3933e-02, -8.5384e-04, -3.0934e-02, -2.4284e-01,  5.0190e-02,\n",
      "        -1.5299e+00,  1.1288e+00,  1.2414e+00,  1.4551e+00,  1.0931e+00,\n",
      "        -1.4615e+00,  1.3009e+00, -1.3090e-01,  1.2330e-01],\n",
      "       grad_fn=<SqueezeBackward1>)\n",
      "Epoch: 70, loss: 0.529\n",
      "tensor([-2.4050e-02,  2.8357e-02, -1.5622e+00,  1.4976e+00, -4.3325e-02,\n",
      "        -6.8471e-02,  2.3400e-01,  1.7158e-01, -3.2903e-03, -3.4723e-02,\n",
      "        -5.6211e-02, -3.6291e-01, -9.2798e-02, -1.3717e+00,  1.2082e+00,\n",
      "        -2.4501e-02,  1.1253e-02,  1.5140e+00,  9.9859e-02,  1.3985e+00,\n",
      "         8.3723e-02,  1.0942e-01,  2.4779e-01,  1.5239e-01, -1.9884e-02,\n",
      "        -1.6695e+00, -1.3062e-02,  1.2898e-01,  1.4329e+00,  1.2521e+00,\n",
      "        -1.5956e+00,  7.3780e-03,  1.1199e+00,  3.1395e-02,  1.7430e-01,\n",
      "        -6.8232e-02,  1.2152e-01, -7.4245e-02,  1.4326e+00, -4.9209e-02,\n",
      "        -2.0483e+00,  1.4784e+00, -1.7029e+00, -2.3029e-02, -1.9959e+00,\n",
      "         1.3589e-01,  1.4312e-01,  1.1638e-01,  1.1644e+00, -3.9205e-01,\n",
      "        -8.4414e-02, -1.2276e-02,  6.0240e-02, -1.9299e-01, -2.1979e-02,\n",
      "        -9.7310e-02, -1.1422e+00,  7.7979e-02, -1.8169e+00,  1.6619e-01,\n",
      "        -1.5694e+00, -5.1815e-02, -1.3607e+00, -7.1224e-03,  1.5101e+00,\n",
      "         2.2383e-01,  1.9341e-01,  2.6300e-02,  1.3974e+00,  9.0915e-02,\n",
      "         7.7711e-01,  5.7186e-02,  1.6406e+00, -1.9352e-02, -1.3248e+00,\n",
      "         1.1864e-01, -4.3795e-02, -7.4223e-01,  1.3641e+00,  1.8726e-01,\n",
      "         1.6120e+00,  2.3476e-02,  1.0982e+00, -1.7279e+00, -1.7602e-02,\n",
      "        -2.7899e-02,  1.4685e+00,  5.2922e-03,  1.0948e-01,  1.6301e+00,\n",
      "        -1.1622e+00,  1.1720e+00, -8.0326e-04, -2.2621e+00,  1.2981e+00,\n",
      "         2.3205e-01,  2.3187e-02,  1.7897e-01, -1.7347e+00,  1.4538e+00,\n",
      "         1.9083e-01,  1.3091e+00, -1.0260e+00,  9.3295e-02],\n",
      "       grad_fn=<SqueezeBackward1>)\n",
      "Epoch: 71, loss: 0.506\n",
      "tensor([-1.2550e-01,  1.1630e+00, -1.6187e+00,  1.4610e+00,  8.9049e-03,\n",
      "         1.0480e+00,  7.3251e-02, -4.7959e-02, -1.3234e+00, -1.1889e+00,\n",
      "         6.8867e-01, -3.3428e-02,  6.3409e-02,  9.5244e-02,  1.4045e+00,\n",
      "        -1.7866e+00, -1.7241e-02, -3.8805e-02, -1.2058e-01, -1.2684e-02,\n",
      "         4.2006e-02,  1.6167e+00,  1.1486e+00,  9.5736e-01, -5.3586e-02,\n",
      "         1.3129e+00,  1.2982e+00,  5.2207e-02, -2.1633e+00, -8.0354e-02,\n",
      "        -1.7630e+00, -1.2791e-01, -2.9580e-02,  9.1023e-01,  3.3856e-02,\n",
      "         1.1528e+00, -4.1073e-02, -4.5690e-02, -4.5271e-02,  8.8921e-02,\n",
      "         1.1312e-01,  1.8944e-02, -1.4369e-01, -5.5645e-02, -1.4323e+00,\n",
      "         3.0223e-02, -3.2079e-02,  1.3766e+00,  2.9682e-01, -1.9423e+00,\n",
      "        -7.2513e-02, -3.8522e-03,  8.9414e-02,  1.3269e+00, -8.3658e-02,\n",
      "        -1.4314e+00, -1.6043e+00, -3.4789e-02, -1.8218e-01, -2.1276e+00,\n",
      "         4.0099e-02, -1.6282e-01,  1.4636e+00, -1.8830e+00, -6.1942e-02,\n",
      "        -1.4020e-01,  1.2159e+00, -1.5217e+00, -1.4072e+00,  9.6526e-01,\n",
      "         1.5050e+00, -1.3014e+00, -1.4694e+00,  1.6904e-01,  1.0738e-02,\n",
      "         1.6245e-02,  1.2102e-03,  1.2305e+00,  1.2140e-01, -1.6265e+00,\n",
      "        -3.5100e-02,  1.2942e+00,  7.6463e-01,  2.4204e-02, -2.6024e-01,\n",
      "        -1.5494e+00,  1.9315e-01,  1.5313e+00,  1.2967e+00, -6.6593e-02,\n",
      "        -1.0893e-02,  1.2703e+00,  1.5978e+00,  1.3823e+00,  1.1849e+00,\n",
      "        -5.3563e-02, -1.2016e-01, -4.8982e-02, -3.1515e-02,  6.9632e-02,\n",
      "         7.5686e-01, -9.0814e-02, -1.7225e+00, -1.8568e-01],\n",
      "       grad_fn=<SqueezeBackward1>)\n",
      "Epoch: 72, loss: 0.469\n",
      "tensor([ 4.1418e-02, -8.5661e-02, -2.7967e-02,  1.2469e+00, -1.4267e+00,\n",
      "        -1.9072e+00,  1.4261e+00,  1.3733e+00,  1.7246e+00, -1.4858e-02,\n",
      "         2.7051e-02, -1.3357e+00, -1.8999e+00,  2.0357e-02, -1.3240e+00,\n",
      "         8.8792e-01,  1.2898e+00, -6.2790e-02, -1.3649e+00, -1.5386e-02,\n",
      "        -1.4473e+00,  1.1968e-01,  3.0517e-01, -1.2186e-02,  8.0359e-02,\n",
      "        -8.4971e-01, -4.8141e-02, -9.3881e-01, -4.0441e-03, -1.6126e+00,\n",
      "         1.0846e+00,  1.8464e+00,  1.6345e-01,  1.3329e+00,  1.8299e-01,\n",
      "        -6.9717e-03,  1.3997e+00,  1.0961e-01,  1.4548e+00,  1.5020e+00,\n",
      "         9.0050e-02, -1.4887e-02, -1.4444e+00, -2.0230e+00,  1.1950e+00,\n",
      "         1.1902e+00, -4.6413e-03,  1.4152e+00,  1.1886e+00,  2.6246e-02,\n",
      "         1.2829e+00,  1.4252e-01, -8.7832e-02,  1.3735e+00,  1.5377e-03,\n",
      "        -1.3843e+00,  1.4951e+00,  1.2867e+00,  1.2191e-02,  1.1909e+00,\n",
      "        -2.7086e-02, -6.7445e-01,  1.0551e-01,  6.2809e-02, -2.2600e-02,\n",
      "        -8.9091e-02, -1.0844e-01,  1.5931e+00,  3.7707e-02,  9.4597e-01,\n",
      "         5.3294e-02,  2.7488e-03,  1.2200e+00,  1.4939e+00,  1.4136e-01,\n",
      "         1.0275e-01,  1.6269e+00, -1.3611e+00, -1.8776e+00,  1.6405e+00,\n",
      "        -8.0019e-01, -2.7575e-02, -7.4492e-03,  1.3860e+00, -9.1904e-02,\n",
      "         1.0302e+00,  1.6401e-01, -1.2184e+00,  5.1406e-02, -1.0638e+00,\n",
      "        -4.8846e-02,  4.2014e-02,  6.3645e-02, -1.6455e+00, -8.0057e-02,\n",
      "        -2.4811e-01,  1.0180e+00,  1.4034e+00,  1.4387e-01, -1.8509e+00,\n",
      "         1.5575e-01, -4.1998e-01, -1.8209e+00,  1.6011e+00],\n",
      "       grad_fn=<SqueezeBackward1>)\n",
      "Epoch: 73, loss: 0.433\n",
      "tensor([ 3.2045e-02,  1.2982e-01,  1.4845e+00,  1.1521e+00, -1.8259e+00,\n",
      "        -1.5887e+00,  1.0467e+00, -6.5349e-02,  1.1833e-02,  1.3695e-01,\n",
      "         4.6109e-02, -1.4199e+00, -1.0323e+00, -2.1147e+00,  3.5861e-03,\n",
      "         1.2741e+00,  2.0615e-03, -1.0529e+00,  1.2400e+00,  1.5153e+00,\n",
      "        -1.4195e+00, -1.8597e+00,  1.5602e+00,  7.0239e-02,  2.0469e-02,\n",
      "         1.1076e-01,  1.6812e-01,  1.4370e+00,  1.3059e+00, -1.3915e-01,\n",
      "         1.4897e+00, -1.6742e-02, -1.5159e+00,  9.4201e-02, -1.5783e+00,\n",
      "         1.1879e+00, -1.2173e-01, -7.7298e-04,  1.3068e+00,  1.4812e+00,\n",
      "         1.2897e+00, -7.4365e-02,  8.1855e-01, -8.1055e-03, -1.9994e+00,\n",
      "        -1.4792e+00,  1.3916e+00, -1.5917e+00,  2.2762e-02,  1.4283e+00,\n",
      "         1.1318e+00,  2.0644e-02, -3.2984e-02, -1.8442e+00,  1.4770e+00,\n",
      "        -1.6159e+00, -6.5096e-03,  1.6112e+00, -2.1244e+00,  6.9742e-02,\n",
      "         1.4485e-02,  2.6118e-02,  1.2910e+00,  1.3981e+00,  1.1992e+00,\n",
      "         8.9807e-02, -6.0558e-03,  1.3998e+00,  1.3915e+00,  1.2028e+00,\n",
      "         1.2591e-01,  1.0456e+00,  1.5120e-02,  1.1102e+00,  1.8892e-02,\n",
      "         1.5097e+00,  2.4478e-01,  1.0551e-01,  3.4014e-03,  7.2519e-01,\n",
      "         2.5869e-02,  1.0551e+00, -1.4931e+00,  1.2217e+00, -7.3055e-02,\n",
      "         1.3232e+00,  1.1057e-01, -1.1787e-02, -1.4004e+00,  7.4558e-03,\n",
      "         1.3287e+00, -1.7641e+00, -1.1335e+00,  4.1258e-02,  4.2765e-02,\n",
      "        -5.8351e-03, -1.9812e-02, -1.5570e+00,  1.5106e-02,  1.3586e+00,\n",
      "        -1.6152e+00, -1.2826e+00, -1.6067e+00, -1.4743e+00],\n",
      "       grad_fn=<SqueezeBackward1>)\n",
      "Epoch: 74, loss: 0.483\n",
      "tensor([-7.8058e-02, -3.7239e-02,  1.0648e+00, -9.9677e-02,  5.1501e-02,\n",
      "        -1.3497e+00,  1.0569e+00,  1.0273e+00, -8.5877e-01,  8.3202e-02,\n",
      "         4.8292e-02,  8.5018e-03,  1.4465e+00, -1.3339e-02, -2.5873e-01,\n",
      "        -1.8164e+00, -5.5244e-03, -1.5516e+00, -2.7538e-02,  9.9126e-04,\n",
      "        -5.7367e-02, -2.1747e+00, -9.1478e-02,  6.2473e-03, -1.1314e-01,\n",
      "        -2.0894e-01,  5.1539e-02, -6.3272e-02, -1.1702e-01, -2.9372e-02,\n",
      "        -8.6767e-01, -3.1041e-02,  1.0201e+00,  1.4937e+00, -2.0368e+00,\n",
      "        -2.4243e-02, -2.1029e-02,  1.5267e+00, -1.4778e+00,  9.5025e-01,\n",
      "         1.2968e+00, -2.1595e-02, -5.1817e-02, -4.6935e-02,  3.4823e-02,\n",
      "        -1.0183e-02,  1.5448e+00,  1.3043e+00,  1.4326e+00,  1.4682e-01,\n",
      "        -1.2812e-02,  1.2083e+00, -3.5207e-02, -4.7874e-02, -4.0999e-03,\n",
      "         1.1415e+00, -1.8748e-02, -1.9331e-02, -1.5389e+00, -1.6593e+00,\n",
      "        -6.5792e-02, -1.1030e-01,  1.5182e+00,  1.6837e+00, -1.3778e-02,\n",
      "        -5.2426e-03, -4.5968e-03,  1.6799e+00,  1.0517e+00, -5.6638e-02,\n",
      "        -1.4138e+00, -1.8177e+00, -2.4636e+00,  1.4244e+00, -1.5664e+00,\n",
      "         1.4905e+00,  1.3286e+00,  1.3714e+00,  1.4044e+00,  1.7792e+00,\n",
      "         1.1976e+00,  1.0952e-02, -2.0992e-02, -2.1313e-02, -1.9073e+00,\n",
      "         9.8921e-01, -1.6283e-02, -2.5167e-02,  1.4068e+00, -5.5636e-02,\n",
      "         1.5019e+00, -3.9598e-02, -1.6118e+00,  1.1086e+00,  1.1011e+00,\n",
      "         8.7327e-02, -8.9461e-02,  1.5555e+00, -1.5911e+00,  1.0283e+00,\n",
      "         4.6372e-02,  5.2285e-03,  2.4398e-02, -3.2574e-02],\n",
      "       grad_fn=<SqueezeBackward1>)\n",
      "Epoch: 75, loss: 0.433\n",
      "tensor([-1.8295e+00,  2.3497e-02, -1.6042e+00,  1.5037e+00, -4.5647e-02,\n",
      "         3.6670e-02, -9.5320e-03,  1.6398e+00,  1.3429e+00,  1.6131e+00,\n",
      "         6.2893e-02, -1.9012e+00, -2.0942e-01,  1.0043e+00, -1.7968e-01,\n",
      "        -1.8738e+00,  1.0539e-02, -1.6963e-02,  1.4558e+00,  1.5324e+00,\n",
      "        -9.1407e-01, -1.3938e-02, -5.6234e-02,  1.5513e+00, -1.6621e+00,\n",
      "        -1.8585e+00, -1.4637e+00,  1.2973e+00, -2.4824e+00, -1.9967e+00,\n",
      "        -1.6465e+00, -9.6145e-02,  3.1605e-02,  5.1470e-02, -2.0284e+00,\n",
      "        -1.0059e-01, -2.0229e+00,  1.3867e+00, -2.1163e-02,  2.3603e-02,\n",
      "         9.7932e-02, -4.4527e-02,  1.4668e+00,  7.8368e-02, -5.3544e-02,\n",
      "         2.2359e-02,  1.7668e+00, -1.6188e+00, -1.0965e+00, -2.0588e+00,\n",
      "        -3.7426e-04, -1.6959e+00, -1.3636e+00,  1.5422e+00,  1.5837e+00,\n",
      "         1.1452e+00, -1.3522e-02,  1.4761e+00, -1.8087e+00,  8.1281e-01,\n",
      "         1.3103e-01,  1.1134e+00,  6.7880e-02, -2.1695e-02, -4.0425e-02,\n",
      "        -1.2635e+00,  1.0512e-01,  1.6812e+00,  1.5425e+00,  1.4420e+00,\n",
      "        -1.7866e+00, -1.5263e+00, -2.0194e+00, -2.6568e-02,  1.3279e-01,\n",
      "        -7.6435e-03,  1.6375e-02, -1.6814e+00, -1.7505e+00,  3.9553e-02,\n",
      "         1.4426e+00,  3.7870e-03,  2.8415e-02,  1.5505e+00,  1.1030e+00,\n",
      "         6.6446e-02,  6.9250e-02,  1.3463e-01,  1.4642e+00, -9.9003e-04,\n",
      "         1.4935e+00,  1.6852e+00,  1.4463e+00, -8.9700e-01, -8.6516e-02,\n",
      "        -1.6727e+00, -1.2186e-01, -1.9418e-03,  2.7762e-02,  1.4823e+00,\n",
      "        -1.1347e+00,  2.7863e-02,  6.9028e-02, -1.1805e-03],\n",
      "       grad_fn=<SqueezeBackward1>)\n",
      "Epoch: 76, loss: 0.472\n",
      "tensor([-1.6955e-03,  1.5615e+00, -1.4992e+00,  1.5336e+00,  1.3530e-02,\n",
      "         1.1422e+00,  1.9477e-02,  1.5403e+00, -1.5823e+00, -1.4341e+00,\n",
      "         6.5708e-02,  1.3249e+00,  1.5070e+00,  1.6608e+00,  1.5887e-01,\n",
      "        -2.7819e-02, -1.2852e-02, -4.3591e-02, -1.8699e+00,  1.1322e+00,\n",
      "        -4.0108e-02,  1.6121e-02,  2.9818e-02,  9.5974e-01,  9.0072e-04,\n",
      "         9.8619e-02,  7.5704e-01,  1.5193e+00, -3.1260e-02, -3.3799e-02,\n",
      "         5.6793e-02, -2.1410e+00, -1.7222e+00,  4.5191e-02, -2.2287e+00,\n",
      "         1.1062e+00,  1.4997e-01, -1.8595e-03, -1.2111e-02,  7.9667e-02,\n",
      "        -1.8791e+00,  1.1794e-01,  2.3931e-02,  4.3830e-02,  3.7273e-03,\n",
      "        -1.5858e+00,  7.8444e-02, -2.0641e+00,  1.2351e+00, -1.7734e+00,\n",
      "        -2.0303e+00,  1.4341e+00,  3.3705e-02,  1.4540e+00, -1.5402e-02,\n",
      "        -3.9898e-02,  8.3047e-02,  1.7730e+00,  9.9137e-01, -7.7648e-02,\n",
      "         5.5424e-02, -1.8937e+00,  1.3111e+00, -9.0486e-02,  3.6096e-02,\n",
      "         2.2233e-02,  4.3801e-02, -2.3784e-02,  1.2483e+00,  1.4891e+00,\n",
      "        -1.2375e+00,  1.1002e-02, -1.5168e+00,  1.6164e+00, -1.5637e+00,\n",
      "        -1.7522e-02, -2.6544e-02, -1.8700e+00, -1.8191e-01,  3.5917e-02,\n",
      "         6.6522e-02,  5.7097e-03,  1.7854e+00,  1.6311e+00, -6.7970e-02,\n",
      "         1.5127e+00,  3.8097e-02,  1.4098e+00, -6.7210e-03,  1.2671e+00,\n",
      "        -1.7002e+00, -3.9745e-02, -1.8995e+00,  1.5631e+00, -3.6460e-03,\n",
      "        -1.2901e-02,  4.9436e-02,  1.5930e-02,  2.5721e-01,  1.2151e-02,\n",
      "        -2.6172e-02,  9.6530e-02,  1.2799e+00,  1.1149e+00],\n",
      "       grad_fn=<SqueezeBackward1>)\n",
      "Epoch: 77, loss: 0.444\n",
      "tensor([ 1.5389,  1.6987,  0.0111, -1.9360, -0.0560, -0.0302,  0.0390,  1.4292,\n",
      "         0.0221, -0.0556, -1.5185,  1.4417,  0.0355,  0.0478,  0.0329,  1.4997,\n",
      "         1.3551, -0.0550,  0.0262, -0.0758,  1.4337, -1.7285, -1.7969,  1.3905,\n",
      "         0.1398,  1.6650,  1.2224, -0.0184,  0.0323,  1.4108, -0.4243,  0.0457,\n",
      "        -1.0642,  1.5935, -1.3501,  0.0238,  0.9926, -1.9803, -1.8288, -1.1535,\n",
      "        -0.0503, -0.0104,  0.1555,  1.3152, -1.7765,  1.8854, -0.0124,  0.0244,\n",
      "         1.1400, -2.3125, -0.0394, -0.0506,  1.5143,  1.5108, -0.0031,  1.1073,\n",
      "        -0.0719,  1.2445,  1.3061,  0.0889,  1.1411,  0.1248,  0.0398, -1.5970,\n",
      "         0.0116,  0.0590, -1.8274, -0.0062,  0.0126, -0.0149,  0.0494, -0.9304,\n",
      "         1.8488,  1.7724,  0.0511,  0.0842, -0.0671,  1.6380, -1.1320, -0.0161,\n",
      "        -0.0824, -1.9996, -0.0466,  1.1935, -0.0131,  0.0623, -1.8155,  0.0222,\n",
      "         0.0508,  1.4551,  1.6029, -2.1215, -2.1094,  0.0292,  1.4745,  0.0245,\n",
      "        -2.5643, -0.0339, -0.0183,  1.1019, -0.0829,  1.3241,  0.0031, -1.4979],\n",
      "       grad_fn=<SqueezeBackward1>)\n",
      "Epoch: 78, loss: 0.451\n",
      "tensor([-2.1763e-03, -1.5644e+00,  1.2390e-02,  7.6073e-02,  8.0745e-02,\n",
      "         1.5949e+00, -2.0750e-02, -2.3818e+00,  4.8281e-02, -1.8591e+00,\n",
      "         1.5639e+00,  1.4121e+00, -3.5219e-02,  1.0972e-02,  4.4537e-02,\n",
      "         1.4672e+00, -1.1515e+00, -9.6709e-01, -5.8994e-02,  1.4970e+00,\n",
      "         1.6156e+00,  1.1445e+00, -1.6232e+00,  1.5461e+00, -1.8470e+00,\n",
      "         1.7276e+00, -2.0638e+00, -1.7567e+00, -2.5023e+00,  2.6589e-02,\n",
      "         1.1013e+00,  3.4311e-02, -1.5335e+00, -1.9102e+00,  6.9271e-02,\n",
      "        -1.2051e+00, -6.0899e-02, -1.5454e+00,  1.2489e+00,  6.4109e-02,\n",
      "         1.3112e+00, -1.1513e-02, -8.0017e-02,  1.5663e+00,  1.8800e-02,\n",
      "         1.6647e+00,  3.1761e-02, -9.3462e-02, -2.1230e+00,  1.7172e-02,\n",
      "         1.3764e-01,  5.0658e-02,  7.5207e-02,  1.7832e+00, -1.2558e+00,\n",
      "         1.6160e+00, -1.5239e+00, -1.9833e+00,  1.0999e-02, -3.4518e-02,\n",
      "        -1.4446e+00, -1.7874e+00, -5.9740e-02,  1.9528e-02,  3.7955e-02,\n",
      "        -1.4510e+00, -5.6068e-02,  6.2651e-02,  1.7251e+00,  7.1594e-02,\n",
      "         1.6903e+00,  1.7132e-02,  1.5360e+00,  4.3534e-03,  8.2114e-01,\n",
      "         1.6164e+00, -7.9236e-03, -4.7515e-02, -2.1131e-02,  1.7854e+00,\n",
      "         9.8443e-01,  4.3899e-02, -8.3671e-03,  1.4597e+00,  4.7876e-02,\n",
      "        -5.2655e-02,  6.1623e-03,  5.3304e-02,  1.9306e+00,  1.2413e-02,\n",
      "        -3.7980e-02,  3.4725e-02,  1.3023e+00,  3.0355e-02,  1.2760e-02,\n",
      "         1.1169e+00,  7.4093e-02,  6.5273e-02,  1.0083e+00, -9.8310e-02,\n",
      "         2.1502e-02,  1.1716e+00, -4.1557e-02,  3.9765e-03],\n",
      "       grad_fn=<SqueezeBackward1>)\n",
      "Epoch: 79, loss: 0.426\n",
      "tensor([ 1.4579, -0.0867,  1.7026, -0.1118, -1.1256,  1.1264, -2.1996, -0.0189,\n",
      "         0.0351, -1.1772, -0.0540,  0.0780,  0.0495,  1.3639, -1.4617,  0.0267,\n",
      "         1.5428,  0.0361,  1.3484,  0.0044, -0.0489,  0.0464,  1.9151, -0.0225,\n",
      "         0.0952,  1.1756,  1.1245,  1.4294,  1.7390,  1.3527,  0.8173, -0.0798,\n",
      "        -0.0346, -0.0043,  0.0219,  1.4380, -1.6930, -0.0666, -1.9725, -1.5202,\n",
      "         1.5422, -1.8630,  1.1430,  0.0114,  0.0352, -2.4163, -1.9991, -1.8433,\n",
      "         0.0046,  1.6529, -1.9438, -0.0595,  0.0722,  1.2804, -1.5517, -1.9436,\n",
      "         0.0182, -1.6133, -0.0800, -2.2951, -1.6396, -0.1406, -2.0564,  1.7911,\n",
      "         0.0321,  1.7628, -0.1667,  0.0706, -1.4114, -0.1822,  0.0366,  0.0631,\n",
      "         0.0071,  1.8070,  1.4792,  0.0589,  1.5866, -0.0808, -1.1061, -2.0470,\n",
      "         1.8711, -0.0617, -1.6341, -0.0842,  0.0312, -1.9880,  1.5567,  0.0783,\n",
      "         1.4885, -0.0971,  1.6210,  0.0533,  0.0619,  0.1769, -1.6394, -0.0231,\n",
      "         0.0070, -0.0189,  0.1020,  1.5436,  1.5483,  0.0646, -0.0905,  1.6513],\n",
      "       grad_fn=<SqueezeBackward1>)\n",
      "Epoch: 80, loss: 0.401\n",
      "tensor([ 0.0258, -0.0962, -1.2092,  0.0680,  1.1596,  1.7494, -0.9526, -1.9074,\n",
      "         1.5307,  0.0094,  0.0336, -1.9834,  0.0654, -1.2635,  0.0115,  0.1187,\n",
      "         0.0780, -0.0366, -0.0915,  1.1147,  1.7133, -2.3065, -0.1068,  1.2814,\n",
      "         1.6921,  1.3691,  1.8350,  0.0043,  1.5613,  0.1000,  0.1129,  1.6376,\n",
      "        -1.6086,  1.7622, -0.0987, -0.4471,  0.0694,  0.0638,  1.6090,  1.2791,\n",
      "         0.0582,  1.4014, -1.1274, -2.0993, -2.3744,  1.3167, -0.1155,  1.6961,\n",
      "         0.0433,  1.6092,  1.7101,  1.8324,  1.4944,  0.1119, -0.0545,  0.0486,\n",
      "         1.4775,  1.4535, -0.0819,  1.9128,  1.5346,  1.6676,  1.5695,  0.0268,\n",
      "         0.0646,  1.9371,  1.8807, -0.0105, -1.6810, -0.0365, -0.0980,  1.3486,\n",
      "        -0.0743,  1.1735,  0.0678, -2.3445,  0.0975,  1.0883,  1.1356,  0.0368,\n",
      "         1.5119,  1.5722, -0.0788, -1.8126, -0.1180,  1.7480,  0.0721, -1.6941,\n",
      "         1.6474, -1.3036, -1.8210, -0.0841, -0.0403,  0.0169,  1.7268, -0.1029,\n",
      "        -0.0146, -1.8828,  1.2370, -0.9616, -0.0178, -0.0826,  0.0034, -1.8345],\n",
      "       grad_fn=<SqueezeBackward1>)\n",
      "Epoch: 81, loss: 0.416\n",
      "tensor([ 9.7575e-02,  9.2678e-02, -1.6830e+00, -8.3598e-02, -2.3414e+00,\n",
      "        -4.8334e-01,  1.1907e+00,  1.0174e-02,  2.5862e-04,  1.3748e-01,\n",
      "         1.5941e+00, -1.4304e-01,  1.4132e+00,  1.7657e+00,  1.6196e+00,\n",
      "        -2.1907e+00,  1.5155e+00, -1.0886e-01,  1.1845e-01, -1.2803e-01,\n",
      "         1.0721e+00,  1.2637e-01,  1.0423e+00,  1.4379e+00,  1.3915e+00,\n",
      "         1.6060e+00, -1.5514e+00,  1.4914e+00, -1.2408e-01,  1.5841e+00,\n",
      "        -1.1357e+00, -1.7401e-02, -1.2020e-01,  5.4223e-02,  1.2369e+00,\n",
      "         1.3378e-01, -2.1286e+00, -1.1653e-01,  7.3855e-02, -1.5644e+00,\n",
      "         1.4064e+00,  9.8653e-02, -2.3040e+00,  1.8859e+00, -1.7594e+00,\n",
      "        -7.6540e-02, -1.7318e-02,  1.1913e-01, -3.1729e-02,  1.3210e+00,\n",
      "         1.4397e+00, -1.9713e+00, -1.5894e+00, -1.8790e-02, -1.6711e+00,\n",
      "         9.2420e-02, -1.2889e+00,  1.8242e+00, -1.8298e+00, -1.0743e-01,\n",
      "        -1.4252e+00,  1.1594e+00,  1.9365e+00, -7.4914e-03, -1.4459e-01,\n",
      "        -1.2331e+00, -2.1340e+00, -1.6006e+00,  1.7111e+00,  6.2324e-02,\n",
      "         7.2468e-03, -1.9433e+00,  1.7738e+00, -2.2680e-02,  1.4802e-01,\n",
      "        -4.8510e-02,  2.6931e-02,  1.0488e+00, -1.8809e+00,  1.7729e+00,\n",
      "         1.7025e+00, -1.6336e+00, -7.7939e-02,  1.8218e+00,  1.3743e+00,\n",
      "        -2.1900e+00, -8.6041e-02,  1.1477e-01,  7.2760e-02, -7.6515e-02,\n",
      "         8.2670e-02, -9.7539e-02, -6.2650e-02, -8.4983e-02, -3.7334e-02,\n",
      "         1.2760e-01, -1.1623e-01,  1.7404e+00,  7.8256e-01,  1.1707e-01,\n",
      "        -1.9396e-01, -1.2181e-01,  9.0422e-02,  2.0246e+00],\n",
      "       grad_fn=<SqueezeBackward1>)\n",
      "Epoch: 82, loss: 0.416\n",
      "tensor([ 0.1926, -2.2630, -0.0616, -0.1649, -0.1704, -0.1750, -0.0622, -2.1726,\n",
      "        -1.4648, -0.0607,  0.1305,  1.5441, -1.5913, -0.1850, -2.0735,  0.1924,\n",
      "        -0.0650,  1.2145, -0.1474,  0.1710, -0.1334,  1.6133,  0.1060, -1.0836,\n",
      "        -0.1201,  1.6375,  0.1558,  1.6266, -1.7146,  0.1544, -1.5541, -0.0464,\n",
      "         0.0724,  1.9057, -2.1690,  1.4778,  1.0756, -0.0163,  1.7886,  1.8099,\n",
      "         1.4208,  1.7160, -2.3969,  1.7026,  0.1247, -1.9327, -1.2230, -1.9541,\n",
      "         0.0798, -0.1429, -0.6773, -0.0323,  1.4366, -0.0896, -0.0372, -0.2370,\n",
      "        -0.1122,  0.1408, -1.9569,  0.1195,  0.1044, -0.1233,  0.1537,  0.0094,\n",
      "         0.2144, -0.0899, -0.0119, -1.2550, -0.1070,  0.1252, -1.3127,  1.6166,\n",
      "        -2.2931,  0.0721, -0.1718,  0.1854,  1.5946,  1.5949, -1.6988, -0.0488,\n",
      "         0.0385,  0.1546, -1.6988,  1.9519, -1.6273, -1.7864, -1.2951, -1.9087,\n",
      "         0.1326,  1.5577, -1.7569, -0.0869, -0.0746,  0.0047,  1.4541,  1.1446,\n",
      "         0.1757,  1.4575, -0.1262, -1.8058,  1.5200,  1.9912,  1.7583,  0.1135],\n",
      "       grad_fn=<SqueezeBackward1>)\n",
      "Epoch: 83, loss: 0.397\n",
      "tensor([ 1.8168e+00, -1.8689e-01,  1.0633e-01,  1.2712e-01,  1.5553e-01,\n",
      "        -1.7445e+00,  1.4106e-01,  1.3282e+00,  1.7891e+00,  1.4478e-01,\n",
      "        -9.2182e-02, -1.8402e+00, -2.1625e-01, -2.2478e+00,  1.5614e-01,\n",
      "        -2.0017e+00,  1.7670e+00,  1.3972e-01, -4.6905e-01,  1.1741e+00,\n",
      "         9.9491e-02, -2.4139e+00, -2.0164e+00,  1.4581e+00, -1.0031e+00,\n",
      "         9.9314e-02,  1.8944e+00, -1.2836e+00, -1.9083e-01, -1.7541e-01,\n",
      "        -1.9201e+00,  1.6024e+00, -2.6389e+00,  1.1423e-01, -1.8605e-01,\n",
      "        -2.0513e+00, -1.9243e+00,  1.3233e+00,  1.5895e-01, -1.9977e-01,\n",
      "         1.5548e+00, -1.6161e+00, -1.5041e-01,  1.7533e-01, -9.2318e-02,\n",
      "         1.8430e+00,  1.1599e+00,  2.1547e-01,  1.2560e-01,  1.4953e-01,\n",
      "        -2.1111e-01, -2.6974e-01, -2.8292e-01, -2.2616e-01, -2.0571e-01,\n",
      "        -1.9047e+00,  1.1425e-01,  9.6559e-02, -1.0935e-01, -3.3519e-04,\n",
      "         1.2003e+00, -1.8371e+00, -2.1417e-01, -2.3607e+00, -5.2671e-02,\n",
      "        -2.2736e-01,  1.2837e-01,  6.0849e-02, -1.6475e+00,  1.9988e+00,\n",
      "        -2.0654e+00,  1.9509e+00, -1.6622e+00,  1.1066e+00,  1.6730e-01,\n",
      "         1.7946e-01, -2.3385e+00, -1.6131e-01, -2.5742e+00,  1.7222e+00,\n",
      "         1.5444e+00,  1.1442e-01, -1.6069e+00,  1.7561e+00,  1.1742e+00,\n",
      "        -1.5563e-01,  1.7063e+00, -1.6510e+00, -2.4029e+00,  1.9735e+00,\n",
      "         1.2298e-01,  1.0484e-01, -1.1995e-01, -1.7980e-01,  1.5298e+00,\n",
      "         1.7911e-01,  2.1423e-01,  1.2719e+00,  1.4311e+00, -2.2566e+00,\n",
      "         1.3041e-01,  1.7620e+00,  2.0527e-01, -2.2307e-01],\n",
      "       grad_fn=<SqueezeBackward1>)\n",
      "Epoch: 84, loss: 0.411\n",
      "tensor([-2.0785, -1.1915, -0.1768, -0.2031, -2.1626, -0.1495,  1.5006,  1.8847,\n",
      "        -1.4812,  0.2992, -0.1192,  0.1994, -1.2570,  2.0273, -0.6115, -0.2327,\n",
      "        -0.1984, -0.2173,  1.9451,  0.2732,  0.1929,  0.1673, -0.2216,  0.3080,\n",
      "         0.2327, -1.3746,  0.2331, -1.6533, -1.6192, -0.0146, -0.2079, -0.0506,\n",
      "        -0.1759, -1.3984, -2.3056, -1.7325,  0.2072,  1.9583, -0.1386, -0.1112,\n",
      "        -0.1847,  1.2448, -0.2194, -2.0743, -0.2874,  1.5592, -1.9055, -2.2059,\n",
      "        -1.7336,  0.1667, -0.1712,  0.1745, -2.1358,  0.2241,  1.7246,  1.6603,\n",
      "        -1.7442,  1.4769, -0.1608,  0.1864, -2.4585,  1.9550, -2.2407, -0.0437,\n",
      "         0.2745,  1.9348,  0.1821,  0.1763,  1.7274, -0.1535,  1.4157, -1.9011,\n",
      "         0.2545, -0.2960, -1.7746, -0.2374,  0.1378, -0.9644, -0.1709,  1.6483,\n",
      "        -0.2225, -0.1748, -0.2308,  0.2272,  0.0917,  1.4207, -1.8064, -2.5472,\n",
      "        -0.2383, -1.9991,  0.2187, -0.2075,  0.2057,  0.2295, -0.0803, -0.2188,\n",
      "         1.7198,  0.2627, -2.1094,  1.5777, -0.1357,  0.2013, -2.1244,  0.0551],\n",
      "       grad_fn=<SqueezeBackward1>)\n",
      "Epoch: 85, loss: 0.365\n",
      "tensor([ 1.7395,  1.7834,  0.1377,  1.9243, -1.7586,  1.7202, -0.3061, -0.1858,\n",
      "         0.2353,  0.0269, -2.2868,  0.1517,  1.9882, -0.3478,  0.2707, -0.2941,\n",
      "        -1.1088,  1.7252, -0.1437,  0.0675, -2.6224,  1.1908,  0.1669,  0.2855,\n",
      "         0.1527,  2.0035,  1.5493, -0.3605,  1.9147, -0.2291,  1.6935,  1.2649,\n",
      "         0.1663, -1.8830,  1.7794, -0.2608,  1.9110,  0.1723,  1.7449,  1.1558,\n",
      "         1.0299,  0.2374, -1.6014, -1.7571, -1.5877,  1.5648,  0.2415,  0.2485,\n",
      "         1.4102,  0.1193,  1.7455,  1.4389,  0.7808, -0.2806,  1.8190, -1.5505,\n",
      "         0.2755, -2.5053, -2.3379,  1.3882,  1.8332,  0.1890,  0.2277,  1.8212,\n",
      "        -0.2156, -0.2662, -0.3086, -0.2686, -1.7985, -0.1354, -1.5371, -0.2514,\n",
      "         0.2036, -0.2863,  1.6781,  1.1883, -2.5297, -0.2927,  1.5874,  1.8539,\n",
      "         1.3927,  1.7496,  0.1751,  0.2458,  1.6403, -0.2368, -0.1484,  0.2173,\n",
      "         1.7848, -2.2505,  0.1907,  1.5404,  1.7401,  0.2123, -2.0611,  0.2418,\n",
      "         0.1731,  1.5658,  1.7509, -0.3125, -0.1735, -0.2634, -1.6941, -2.3143],\n",
      "       grad_fn=<SqueezeBackward1>)\n",
      "Epoch: 86, loss: 0.365\n",
      "tensor([ 1.2623,  0.3043, -1.2458, -0.2214,  0.2908, -0.2047,  0.1060, -1.3457,\n",
      "         1.0518,  1.5528,  2.0360,  0.2930,  1.4654,  1.7590, -1.0942, -0.1699,\n",
      "         0.2088, -1.7604, -1.6337, -0.3262, -0.2766, -1.8496,  0.2572,  2.0073,\n",
      "        -0.2385,  0.2872, -1.7294, -2.0572,  0.2238, -1.3991, -0.3204,  1.9482,\n",
      "         0.3373, -0.2941,  1.4670,  0.2699,  0.1307,  1.5990, -0.2483, -2.0500,\n",
      "         0.2374, -0.5495, -0.7424, -0.2688,  0.2469, -0.2993, -0.3049,  1.9733,\n",
      "        -0.2276,  1.8415,  2.1047, -2.5327,  1.8536, -2.4352,  1.5762,  1.5260,\n",
      "        -1.8101, -0.1926,  1.5949,  1.9072,  1.2539,  1.7775,  0.1837,  0.3172,\n",
      "        -0.3140, -2.8189,  1.1900,  1.8337, -0.3029, -1.0644, -2.3074, -0.3413,\n",
      "         1.8405,  0.2989, -2.5011,  0.2543, -1.9283,  0.2748,  1.4696, -0.2993,\n",
      "        -1.9760,  1.6514, -2.1169, -0.2317,  0.2151, -1.8074, -0.2865, -0.1960,\n",
      "         0.2332, -1.8571,  0.1942, -1.6409, -1.3966,  0.1328,  1.7343,  0.3376,\n",
      "         0.2269, -2.0653,  0.3231,  0.2473,  1.8936,  0.2181,  1.1110,  0.2392],\n",
      "       grad_fn=<SqueezeBackward1>)\n",
      "Epoch: 87, loss: 0.357\n",
      "tensor([ 1.7817,  1.6778, -1.0189,  0.1649,  2.1217,  1.2068,  0.4287,  1.6744,\n",
      "        -0.1971, -0.1259, -0.2475,  1.5902, -2.3687,  2.2491,  1.8890,  1.8740,\n",
      "         0.2807, -1.6199,  1.7003, -2.4178, -0.1992,  0.2929, -2.1385, -2.1807,\n",
      "         1.3870, -2.0659,  1.6740,  0.4682, -0.3201,  1.0646, -0.2734, -1.8427,\n",
      "        -0.1730,  1.7567, -1.8757,  2.0793, -2.1962, -1.9901, -0.3684, -2.0753,\n",
      "         0.2838,  0.1973,  1.9742, -0.2111, -0.1266,  0.3597,  2.0023,  0.2413,\n",
      "         2.0272,  1.2869, -0.3972,  1.0893,  1.6950, -2.0727, -1.3978,  2.0264,\n",
      "         1.8532,  1.0121, -1.9425, -0.2737,  0.2998,  0.3905, -0.2153,  0.2467,\n",
      "         1.5766, -0.3353, -0.2211,  2.0509, -0.3544,  1.8752, -1.7991, -0.3039,\n",
      "        -1.5540,  1.8521,  1.3098,  0.2042, -0.2515,  0.2706,  0.2037,  1.8998,\n",
      "         0.2398, -1.1507, -2.0121, -0.3929,  0.3217,  0.3121,  1.3781, -0.2387,\n",
      "        -0.2248, -0.1878, -0.3219,  0.3698,  0.3159,  1.3677, -0.6031, -0.2583,\n",
      "         2.1341, -0.1350,  0.2411,  1.8691, -0.3350, -0.2738, -0.1738, -2.3295],\n",
      "       grad_fn=<SqueezeBackward1>)\n",
      "Epoch: 88, loss: 0.374\n",
      "tensor([ 1.7440, -0.2800,  0.3308,  1.8058,  0.3919, -1.2759, -0.2624, -0.3768,\n",
      "         1.9886, -1.6597,  0.3822,  1.6782, -1.5748,  1.0291,  0.1935,  1.6217,\n",
      "         0.4478,  0.1104, -0.3423,  0.3351,  0.5066, -2.3358, -1.6905, -1.7424,\n",
      "        -0.4304, -0.3240, -0.3280,  0.3751, -0.1343,  0.3752, -0.3349,  1.8700,\n",
      "        -1.7167, -1.5884, -0.3614, -0.3916, -1.7173, -0.3933,  0.2060,  1.5280,\n",
      "         1.2615, -2.1975,  1.8052, -1.5169,  1.7625,  1.6265,  2.0352,  0.3755,\n",
      "         0.2894, -1.8730, -1.3478,  0.5106,  1.5544, -0.1401, -0.2930, -0.3407,\n",
      "         0.2895,  1.2508,  1.8621,  2.1288,  0.2818,  0.2923, -0.3052, -2.0959,\n",
      "        -0.2713,  0.2561, -0.2771,  0.4032,  1.7757, -1.8250,  1.8089,  0.2074,\n",
      "        -0.3005, -1.5816, -0.2155, -1.8364,  0.2126,  1.7830, -2.1076, -0.3270,\n",
      "        -0.3950,  1.0040,  0.2484,  1.8547, -0.4244, -2.3847, -0.2734,  1.1799,\n",
      "        -1.1613, -0.3242,  0.2833, -0.4179, -1.2974,  0.3108,  0.3720,  0.3057,\n",
      "         0.3714, -0.3822,  1.7165,  1.8817,  0.3127, -1.5840, -0.6011,  1.7436],\n",
      "       grad_fn=<SqueezeBackward1>)\n",
      "Epoch: 89, loss: 0.348\n",
      "tensor([ 1.2549,  0.4306, -1.7939,  1.8515, -2.1825,  0.3679, -0.4621, -1.9157,\n",
      "        -0.3713, -1.1939,  0.2628, -0.4375,  1.9490, -2.6145, -1.1315, -1.4398,\n",
      "        -2.1932, -0.4931, -0.4656,  0.3954,  0.3505,  0.2782, -0.2235,  1.7414,\n",
      "        -1.7806,  0.3005,  1.5273,  1.8824, -0.4195,  1.7978,  1.5049, -0.4381,\n",
      "         0.4396,  1.8322, -1.2845,  0.4082,  0.3576, -0.3799, -2.3487,  0.4928,\n",
      "        -0.2165,  1.5812, -0.4573, -1.1887,  1.4391,  1.6263, -0.3896,  0.3242,\n",
      "        -1.8099,  0.2625,  0.3527, -0.3034,  1.7151,  1.8049, -0.3750,  1.5343,\n",
      "        -0.3343, -0.3841, -1.7950, -1.7663,  1.7301,  0.2402, -0.2757,  0.4940,\n",
      "        -2.1267, -0.3101,  0.4464,  1.8610, -0.2515, -2.5164,  2.0546,  0.2455,\n",
      "         1.4639,  0.4583, -1.7899,  0.4381, -0.3610,  1.7898, -0.4013,  0.3314,\n",
      "        -1.5119, -0.2209, -2.2590,  0.2392, -0.5460,  0.4237, -0.2955, -0.3917,\n",
      "         0.3883, -1.8431, -0.2651, -0.3957,  1.7328,  1.8177,  0.5632,  1.0816,\n",
      "         2.0463,  2.0708,  0.3348, -1.6195,  1.8432,  1.8296,  1.7084, -2.7870],\n",
      "       grad_fn=<SqueezeBackward1>)\n",
      "Epoch: 90, loss: 0.317\n",
      "tensor([-0.4099,  0.2573, -0.4650, -0.4026,  1.8857,  1.5868, -0.8111, -0.3612,\n",
      "         0.3071,  1.5999,  1.8210, -0.4887, -0.4648,  1.7094,  0.5128, -2.4568,\n",
      "        -1.7513, -2.1241,  1.6974,  0.3691,  0.2881,  1.5263, -1.9394,  1.4937,\n",
      "         1.8457,  0.3043,  1.4014, -2.2610, -0.5222, -2.1524, -1.8165,  0.4128,\n",
      "         0.5159,  0.3581,  0.5038, -0.3518, -0.3369, -2.4463, -1.8519, -1.3878,\n",
      "        -0.4829, -1.6627, -2.3919,  1.7168,  1.7162, -0.3926,  1.5262,  0.3974,\n",
      "         0.5577, -0.4697,  0.4113, -1.6903, -1.9383,  0.5124,  1.7289,  1.3057,\n",
      "        -0.3140, -0.4680,  1.7562, -1.9652,  0.4879,  1.5292, -1.7321,  1.9939,\n",
      "         1.7600, -1.8318, -0.3637,  0.5074, -0.3853, -2.1496, -0.4241,  2.2627,\n",
      "         1.4845,  1.7965, -1.3328,  0.3627, -2.3409,  2.1020,  0.4895,  1.2599,\n",
      "        -2.3652, -0.4601,  0.1711,  0.3851, -2.3618,  1.5538, -0.5110,  1.8806,\n",
      "         0.2813, -0.3547,  2.0118,  1.5821,  0.3666,  1.8982,  1.4813,  0.4830,\n",
      "         0.3035,  1.9023, -0.3829,  0.4197,  0.5709, -1.6523,  1.6064, -2.4141],\n",
      "       grad_fn=<SqueezeBackward1>)\n",
      "Epoch: 91, loss: 0.357\n",
      "tensor([-0.5767,  1.5465,  0.4400, -0.5085,  0.3288,  0.4687, -0.5098,  1.8104,\n",
      "        -1.6440,  0.5338,  0.6973,  0.4015,  0.4408,  0.5185,  0.2358, -1.5827,\n",
      "         2.0316, -0.4993, -0.5497,  0.5190,  1.2182,  1.6138, -0.3218,  0.4488,\n",
      "         1.5244,  0.4132, -1.7408,  0.3614,  0.5067, -0.3217,  0.5418, -0.3514,\n",
      "         0.4088, -0.4202, -2.6044,  1.5128,  1.7527,  0.4229, -0.5228,  1.8671,\n",
      "         1.7254,  0.4296,  1.8171, -0.4777,  0.4632,  0.5365, -0.4611,  0.3420,\n",
      "         0.5363,  0.4594, -0.6687, -2.4361,  0.5087, -2.6543,  0.2168, -2.6517,\n",
      "         1.8840,  1.6498, -2.1570, -0.4292, -0.4273, -0.5288,  0.4606,  1.8825,\n",
      "         1.7369, -0.5519,  2.0885,  1.5677,  0.4718, -0.6171,  0.4125,  0.5518,\n",
      "        -1.8001, -0.5331,  0.5369, -2.2282, -0.5624, -0.2839, -0.4470,  1.9279,\n",
      "        -0.6046,  1.2978, -0.4402,  1.3144, -0.6082, -1.8079, -0.4667, -0.5099,\n",
      "         2.0109,  1.1430,  0.5048, -0.4598,  1.8649,  0.5392,  1.4823, -1.4183,\n",
      "         0.5993,  1.5378, -2.5998,  1.5198,  0.4533, -0.4960, -1.2406, -2.2782],\n",
      "       grad_fn=<SqueezeBackward1>)\n",
      "Epoch: 92, loss: 0.311\n",
      "tensor([-0.5667, -2.2575,  0.4927, -1.9183, -1.7697,  0.5484,  0.4855, -0.4134,\n",
      "        -1.8424, -2.1373,  1.5087,  1.6891, -0.4616,  0.5565,  1.9097,  1.8445,\n",
      "         1.7424,  1.2313,  1.8114, -0.5337,  0.6355,  1.9716, -1.3224,  2.0992,\n",
      "         0.6354, -0.4624, -2.2416, -1.3454, -0.4160, -2.0107, -1.5785,  0.7027,\n",
      "        -1.6200,  1.9789, -0.4540, -0.3860, -2.5811,  2.1716,  1.6680, -0.4213,\n",
      "         1.3234, -0.3823,  0.2873, -1.2499,  2.0450,  1.6782, -0.6005, -0.6486,\n",
      "        -0.4900, -0.4499,  1.4673,  1.7775,  0.5118, -0.4510, -0.3009, -0.5771,\n",
      "         0.5547,  0.4804, -2.4299, -0.3696,  0.6092,  0.4708, -0.5040, -0.2917,\n",
      "         1.9831, -0.6999, -2.2467, -0.4092,  1.8568,  0.5277, -0.6078,  0.5706,\n",
      "        -2.2111,  1.9570,  0.5800, -0.5173,  1.6405, -1.4049,  1.2204,  0.6043,\n",
      "        -0.4988,  1.7407,  0.5181, -0.5011, -1.7641,  0.4540,  1.6359, -1.1656,\n",
      "        -2.4433, -1.9528,  1.6394, -2.1649,  1.5467,  1.2391,  2.1908, -1.4558,\n",
      "        -0.5575, -0.5883,  1.9838, -2.3065,  0.4070, -1.4038, -0.6202, -0.4059],\n",
      "       grad_fn=<SqueezeBackward1>)\n",
      "Epoch: 93, loss: 0.324\n",
      "tensor([-0.6147,  1.8473, -0.4306, -0.4623, -2.1152, -2.2529,  1.6039, -1.6745,\n",
      "        -0.5550, -0.7190, -0.5772,  0.6549, -0.4576, -0.6129, -0.5910,  0.4939,\n",
      "         0.6608,  0.5189,  1.7908,  1.7375, -0.6068, -0.4775, -1.3400, -0.5925,\n",
      "        -0.6146,  0.5283,  1.7789, -0.4024, -2.2488, -0.6381,  1.8920, -0.6122,\n",
      "        -0.5640,  0.7474,  1.4592,  0.6339,  2.0988, -2.0534,  1.8560,  0.6542,\n",
      "        -2.6651,  1.9482,  1.2089,  0.7404,  1.6760,  1.8696, -2.4241,  0.5030,\n",
      "         0.6062,  0.3828,  2.0974,  2.0336,  0.5840, -1.6952, -0.6044, -0.5766,\n",
      "         1.7725,  0.4165,  0.3978,  1.3085, -0.6606, -2.4540,  0.4978,  0.6202,\n",
      "        -0.6743, -0.5972,  0.5342,  2.0849,  1.2841, -2.1284,  0.6813,  1.8488,\n",
      "         1.5881, -1.1675, -0.7719,  0.5302,  1.4261,  1.2193,  1.8518,  0.4660,\n",
      "        -0.6265,  0.3668, -1.8755,  1.4658,  0.5748, -0.5742,  1.5508, -1.9574,\n",
      "        -0.5014,  1.6837,  0.5072,  0.5163, -0.5864,  0.3648,  2.0687, -1.9800,\n",
      "         0.7557, -1.5802, -0.4464,  0.6571,  1.6345, -0.6245, -0.5908, -0.4887],\n",
      "       grad_fn=<SqueezeBackward1>)\n",
      "Epoch: 94, loss: 0.3\n",
      "tensor([ 0.5950, -0.6351, -2.5846, -1.6355,  1.5442, -0.5253, -2.4311,  0.7216,\n",
      "         0.7447,  0.7188,  1.6411, -0.6037,  0.7226,  0.4744, -0.6783,  0.6427,\n",
      "         0.6237,  0.5695,  1.7345,  2.0719, -0.5248,  0.4485, -1.2733,  0.7414,\n",
      "         0.7181, -0.4400,  1.7916, -1.9339, -1.8529,  1.6414,  1.3217, -0.5594,\n",
      "        -0.5081,  0.7112, -1.9971, -0.5067, -0.6871, -0.6391,  1.5195,  0.4498,\n",
      "        -2.2051, -0.6821,  2.0470, -2.2400,  0.6071,  1.8548,  0.6719, -2.0903,\n",
      "         0.3207,  0.6177,  1.8204, -0.6944, -2.2640, -0.7013,  1.9626,  2.2961,\n",
      "        -0.6509, -1.4959, -0.4386,  0.5468,  1.7590, -0.6075,  1.7869, -0.6621,\n",
      "        -0.6655,  1.1518,  1.7775,  2.0817, -0.7411, -0.6057, -2.5390,  0.7043,\n",
      "        -2.0246, -0.8643,  0.4407, -0.6130, -1.7690,  1.7742,  1.8588, -0.5070,\n",
      "        -0.7137, -2.3168,  1.8339,  1.4956, -0.6919,  0.3756, -2.0778,  1.4387,\n",
      "         1.8419,  1.7397,  0.6978, -0.7062, -0.5370, -0.6871, -2.2112,  1.7258,\n",
      "         1.7017,  0.5466, -0.5543, -2.2564,  2.0653,  1.2317,  1.8411,  0.7144],\n",
      "       grad_fn=<SqueezeBackward1>)\n",
      "Epoch: 95, loss: 0.277\n",
      "tensor([ 0.5164, -2.6709, -0.6906,  0.5809,  1.8879,  0.7170,  1.9071,  0.5583,\n",
      "        -0.6405, -0.6953, -0.4905,  0.6902, -1.9510,  2.0377,  1.7763, -2.3856,\n",
      "        -0.7519,  2.0469, -0.7411, -0.7430, -0.7424, -2.4807,  0.7164,  1.6919,\n",
      "        -1.9575, -2.2801, -0.7582, -1.8018,  0.5577,  0.5291,  1.7493,  1.9208,\n",
      "        -0.6285, -1.7804, -2.2436,  1.9533, -0.5747,  1.7389,  0.7084, -0.6336,\n",
      "         1.8014,  0.7624, -1.6161,  1.1158,  0.5189,  0.7077,  0.5890, -1.4662,\n",
      "         0.6692, -0.7397, -2.5046,  0.3511, -0.7039, -2.4954, -0.4350, -0.5543,\n",
      "         1.3507, -2.5593, -2.3330, -0.6835,  2.0032,  1.5861,  1.7673, -0.6173,\n",
      "        -1.5399, -0.6552, -0.3415,  2.1674,  1.0784, -0.8982,  1.9136,  0.7719,\n",
      "         0.7780,  1.8949,  1.4439, -2.5534,  0.4427,  0.6183, -0.7727,  1.6164,\n",
      "        -2.5897,  1.5107, -0.5150,  1.7723, -2.2837, -2.2219, -0.6621,  1.5691,\n",
      "        -2.0832, -0.7713,  0.7809, -0.5779,  1.9672,  0.6003,  1.8507,  0.6442,\n",
      "        -1.5813,  1.6691,  1.1497, -0.5704,  2.1246, -2.0085, -2.6229, -1.7417],\n",
      "       grad_fn=<SqueezeBackward1>)\n",
      "Epoch: 96, loss: 0.264\n",
      "tensor([ 1.7417, -0.8590, -0.8279,  0.5729,  1.6879,  1.9241,  0.8128, -1.6794,\n",
      "         0.8708, -1.8264, -0.6606, -1.9239,  0.7982,  0.8111,  1.3442,  1.8992,\n",
      "         0.9224,  1.7580,  1.2538, -0.6142,  1.5987, -2.5691,  0.6484, -1.3322,\n",
      "         1.7024, -1.7573, -0.8887,  0.8401, -0.6623,  2.0512,  1.6675,  0.6346,\n",
      "         1.7122, -0.7231, -0.6583, -2.1924,  0.8510,  0.7174, -2.2598,  1.7696,\n",
      "         1.8995,  2.1456,  0.6138, -1.5886, -1.9304, -1.8733, -1.8177, -0.5277,\n",
      "         1.5406, -0.7172, -0.8052,  0.6922,  1.7888,  0.7936,  0.6624, -0.7570,\n",
      "        -2.2264,  1.8486,  0.4572, -2.6317, -2.4113,  0.9070, -1.9714,  0.8763,\n",
      "        -2.2609,  1.9934, -2.2399,  1.6663,  1.9098,  0.5793, -0.3852, -0.8226,\n",
      "        -2.1236, -0.8133,  0.8435, -2.3599, -2.1029,  0.9190, -2.4497,  1.9299,\n",
      "        -2.4666,  0.8283, -0.7534,  0.6211, -2.5552,  1.2384,  0.6407, -0.8443,\n",
      "        -2.2964, -0.6300, -0.5357,  0.8216, -0.5672, -0.7128, -1.9324, -2.4938,\n",
      "         0.6204,  0.4019, -0.6486,  1.4934,  1.0429,  1.8623, -2.1923, -2.1098],\n",
      "       grad_fn=<SqueezeBackward1>)\n",
      "Epoch: 97, loss: 0.253\n",
      "tensor([-2.3292,  0.9988,  1.0076, -1.6825,  1.6107,  0.8080,  0.9001,  1.3341,\n",
      "         0.8175, -0.4138, -1.5491,  0.7784, -0.7939,  1.2409, -0.6950, -0.9215,\n",
      "         0.7259,  1.5254,  1.3482, -0.8701,  0.7619, -0.7125, -0.8954, -0.7396,\n",
      "        -0.9108, -0.8485,  1.1457,  1.8457, -0.6817, -1.6095, -0.6811, -0.8505,\n",
      "         1.6225,  0.6286,  1.5635, -2.1359,  1.5947, -0.5525,  0.7955, -2.2681,\n",
      "         1.8025,  0.9309,  1.8555, -0.8928,  0.7905,  0.6739, -1.3437, -1.7266,\n",
      "         1.8117,  2.1573,  0.7694, -2.4112, -0.6724, -2.5180,  1.9820,  2.0974,\n",
      "        -0.8397, -2.3569, -2.6431, -1.8354,  1.9204, -2.3221, -2.1421, -0.7699,\n",
      "        -0.6563, -2.5691,  1.0394, -2.3572,  0.8327,  0.6296,  1.8700,  1.9574,\n",
      "        -0.9291, -0.6891, -0.7020, -0.8639,  2.1979,  1.7959,  1.7741,  1.9497,\n",
      "         1.9172, -0.7691, -2.4221,  0.9618,  1.8811,  1.6951,  1.9077, -0.8817,\n",
      "        -0.7321, -0.6509, -1.7927, -0.6765,  2.0726,  1.0784, -2.0541,  0.9952,\n",
      "         1.8887, -1.9607, -2.0542,  0.7794, -2.0691, -2.4762,  0.9456,  2.0865],\n",
      "       grad_fn=<SqueezeBackward1>)\n",
      "Epoch: 98, loss: 0.255\n",
      "tensor([ 2.0657,  2.0726,  0.8711, -2.5617, -0.8515,  1.7087, -1.9126,  1.6932,\n",
      "         1.1503, -1.7937,  2.2429,  0.9589,  1.9851,  0.7173,  1.6624,  1.5956,\n",
      "        -0.6188,  1.8544,  1.9648, -0.8515, -2.6588, -2.5468,  1.8790,  0.7206,\n",
      "        -1.6154, -1.7500,  2.1816, -0.6659, -0.9504, -0.7846,  0.9173, -2.2354,\n",
      "         0.9210,  0.7240, -2.3273,  1.7071, -2.2366, -0.8847,  0.6216, -0.7212,\n",
      "        -1.0684, -2.3376, -0.7033,  1.0536, -2.3240, -0.7020, -0.8372,  1.8348,\n",
      "        -0.5212, -2.5890,  0.6966, -2.1723,  1.0415, -0.7092, -2.5214,  2.2296,\n",
      "         0.6395,  0.8739, -0.9012,  1.9371, -0.7709, -0.8444, -0.8854, -2.2861,\n",
      "        -2.1708, -1.9704, -0.9989,  0.7079, -0.9070,  0.5911, -0.6419, -0.7567,\n",
      "        -0.7110, -0.8523,  2.0037,  2.1560,  1.4814,  1.0495,  1.9757,  0.7952,\n",
      "         1.6446,  0.9472,  1.0771,  0.9531,  2.0985,  0.8145, -1.9674, -0.9644,\n",
      "         1.5098,  1.7609,  1.9551, -0.8088, -0.9528,  2.1609, -0.7274,  0.4786,\n",
      "        -2.6408,  2.0038, -1.9705,  0.5116, -0.7911, -1.7043,  0.6462, -1.2575],\n",
      "       grad_fn=<SqueezeBackward1>)\n",
      "Epoch: 99, loss: 0.264\n",
      "tensor([-2.3114,  0.9497, -0.8566,  0.9293,  0.5593,  0.8390, -0.8450, -0.7249,\n",
      "        -1.7880,  0.6900,  1.0866, -0.8681,  1.6070, -1.5900,  0.9054, -1.3345,\n",
      "        -0.9134,  1.3392, -0.7989, -0.8922, -1.7661, -1.0088,  1.6734,  2.0153,\n",
      "         1.6569,  1.4011,  1.9431,  0.5653, -0.8843, -2.0600,  0.9842, -0.8034,\n",
      "        -2.2262, -1.1363,  2.1817, -0.9391,  1.6575,  1.5141, -0.6657, -0.9690,\n",
      "        -0.9708,  1.9443,  1.5761,  0.8968,  1.8691,  2.1761, -2.7728, -0.6286,\n",
      "         0.8083,  1.8730, -0.7229,  0.6422, -2.1148,  0.8311,  0.5782,  2.0594,\n",
      "        -2.5615, -0.9046, -0.8815, -0.7982,  1.7478,  1.2638, -2.5493, -2.5108,\n",
      "        -0.4841, -1.0257,  0.7668, -0.9234,  1.6061,  1.3653,  0.8880,  1.7203,\n",
      "         0.8775,  2.0721, -0.5073, -2.1695, -0.7953,  2.1277, -1.0670,  0.8289,\n",
      "         2.1124,  0.9442, -2.1241, -0.9281, -0.8156,  1.9164,  1.8168, -1.0156,\n",
      "         0.9120,  1.5870, -2.3693,  1.6118,  0.7998,  1.9452, -1.0155, -2.5314,\n",
      "        -0.9709, -0.9604, -0.9515, -0.7490, -0.8548,  0.9323,  0.6405, -2.3849],\n",
      "       grad_fn=<SqueezeBackward1>)\n"
     ]
    }
   ],
   "source": [
    "model.train() \n",
    "\n",
    "# Training loop\n",
    "for epoch in range(100):\n",
    "    for data_inputs, data_labels in train_data_loader:\n",
    "\n",
    "\n",
    "        ## Step 2: Run the model on the input data\n",
    "        preds = model(data_inputs)\n",
    "        preds = preds.squeeze(dim=1) # Output is [Batch size, 1], but we want [Batch size]\n",
    "\n",
    "        ## Step 3: Calculate the loss\n",
    "        loss = loss_module(preds, data_labels.float())\n",
    "\n",
    "        ## Step 4: Perform backpropagation\n",
    "        # Before calculating the gradients, we need to ensure that they are all zero. \n",
    "        # The gradients would not be overwritten, but actually added to the existing ones.\n",
    "        optimizer.zero_grad()\n",
    "        # Perform backpropagation\n",
    "        loss.backward()\n",
    "\n",
    "        ## Step 5: Update the parameters\n",
    "        optimizer.step()\n",
    "    print(f\"Epoch: {epoch}, loss: {loss.item():.3}\")\n",
    "    print(preds)"
   ]
  },
  {
   "cell_type": "markdown",
   "metadata": {},
   "source": [
    "### Ewaluacja"
   ]
  },
  {
   "cell_type": "code",
   "execution_count": null,
   "metadata": {
    "ExecuteTime": {
     "end_time": "2021-10-15T07:51:38.845537Z",
     "start_time": "2021-10-15T07:51:38.840121Z"
    }
   },
   "outputs": [],
   "source": [
    "test_dataset = XORDataset(size=500)\n",
    "# drop_last -> Don't drop the last batch although it is smaller than 128\n",
    "test_data_loader = data.DataLoader(test_dataset, batch_size=128, shuffle=False, drop_last=False)"
   ]
  },
  {
   "cell_type": "code",
   "execution_count": null,
   "metadata": {
    "ExecuteTime": {
     "end_time": "2021-10-15T07:53:40.557355Z",
     "start_time": "2021-10-15T07:53:40.525176Z"
    }
   },
   "outputs": [],
   "source": [
    "model.eval() # Set model to eval mode\n",
    "true_preds, num_preds = 0., 0.\n",
    "\n",
    "with torch.no_grad(): # Deactivate gradients for the following code\n",
    "    for data_inputs, data_labels in test_data_loader:\n",
    "\n",
    "        # Determine prediction of model on dev set\n",
    "        data_inputs, data_labels = data_inputs.to(device), data_labels.to(device)\n",
    "        preds = model(data_inputs)\n",
    "        preds = preds.squeeze(dim=1)\n",
    "        preds = torch.sigmoid(preds) # Sigmoid to map predictions between 0 and 1\n",
    "        pred_labels = (preds >= 0.5).long() # Binarize predictions to 0 and 1\n",
    "\n",
    "        # Keep records of predictions for the accuracy metric (true_preds=TP+TN, num_preds=TP+TN+FP+FN)\n",
    "        true_preds += (pred_labels == data_labels).sum()\n",
    "        num_preds += data_labels.shape[0]\n",
    "\n",
    "acc = true_preds / num_preds\n",
    "print(f\"Accuracy of the model: {100.0*acc:4.2f}%\")"
   ]
  },
  {
   "cell_type": "code",
   "execution_count": null,
   "metadata": {
    "ExecuteTime": {
     "end_time": "2021-10-15T07:54:21.054767Z",
     "start_time": "2021-10-15T07:54:21.050577Z"
    }
   },
   "outputs": [],
   "source": [
    "from matplotlib.colors import to_rgba"
   ]
  },
  {
   "cell_type": "code",
   "execution_count": null,
   "metadata": {
    "ExecuteTime": {
     "end_time": "2021-10-15T07:54:23.136789Z",
     "start_time": "2021-10-15T07:54:23.089427Z"
    }
   },
   "outputs": [],
   "source": [
    "%matplotlib inline\n",
    "with torch.no_grad():\n",
    "    data = test_dataset.data.cpu().numpy()\n",
    "    label = test_dataset.label.cpu().numpy()\n",
    "    data_0 = data[label == 0]\n",
    "    data_1 = data[label == 1]\n",
    "\n",
    "    plt.figure(figsize=(4,4))\n",
    "    plt.scatter(data_0[:,0], data_0[:,1], edgecolor=\"#333\", label=\"Class 0\")\n",
    "    plt.scatter(data_1[:,0], data_1[:,1], edgecolor=\"#333\", label=\"Class 1\")\n",
    "    plt.title(\"Dataset samples\")\n",
    "    plt.ylabel(r\"$x_2$\")\n",
    "    plt.xlabel(r\"$x_1$\")\n",
    "    plt.legend()\n",
    "\n",
    "    # Let's make use of a lot of operations we have learned above\n",
    "    model.to(device)\n",
    "    c0 = torch.Tensor(to_rgba(\"C0\")).to(device)\n",
    "    c1 = torch.Tensor(to_rgba(\"C1\")).to(device)\n",
    "    x1 = torch.arange(-0.5, 1.5, step=0.01, device=device)\n",
    "    x2 = torch.arange(-0.5, 1.5, step=0.01, device=device)\n",
    "    xx1, xx2 = torch.meshgrid(x1, x2) # Meshgrid function as in numpy\n",
    "    model_inputs = torch.stack([xx1, xx2], dim=-1)\n",
    "    preds = model(model_inputs)\n",
    "    preds = torch.sigmoid(preds)\n",
    "    output_image = preds * c0[None,None] + (1 - preds) * c1[None,None] # Specifying \"None\" in a dimension creates a new one\n",
    "    output_image = output_image.cpu().numpy() # Convert to numpy array. This only works for tensors on CPU, hence first push to CPU\n",
    "    plt.imshow(output_image, origin='upper', extent=(-0.5, 1.5, -0.5, 1.5))\n",
    "    plt.grid(False)"
   ]
  },
  {
   "cell_type": "markdown",
   "metadata": {},
   "source": [
    "## Zapisywanie i wczytywanie modelu"
   ]
  },
  {
   "cell_type": "code",
   "execution_count": null,
   "metadata": {
    "ExecuteTime": {
     "end_time": "2021-10-15T07:58:49.846379Z",
     "start_time": "2021-10-15T07:58:49.834095Z"
    }
   },
   "outputs": [],
   "source": [
    "state_dict = model.state_dict()\n",
    "print(state_dict)"
   ]
  },
  {
   "cell_type": "code",
   "execution_count": null,
   "metadata": {
    "ExecuteTime": {
     "end_time": "2021-10-15T07:58:50.958873Z",
     "start_time": "2021-10-15T07:58:50.953220Z"
    }
   },
   "outputs": [],
   "source": [
    "torch.save(state_dict, \"simple_model.tar\")"
   ]
  },
  {
   "cell_type": "code",
   "execution_count": null,
   "metadata": {
    "ExecuteTime": {
     "end_time": "2021-10-15T07:59:05.568057Z",
     "start_time": "2021-10-15T07:59:05.547564Z"
    }
   },
   "outputs": [],
   "source": [
    "# Load state dict from the disk (make sure it is the same name as above)\n",
    "state_dict = torch.load(\"simple_model.tar\")\n",
    "\n",
    "# Create a new model and load the state\n",
    "new_model = SimpleClassifier(num_inputs=2, num_hidden=4, num_outputs=1).to(device)\n",
    "new_model.load_state_dict(state_dict)\n",
    "# Verify that the parameters are the same\n",
    "print(\"Original model\\n\", model.state_dict())\n",
    "print(\"\\nLoaded model\\n\", new_model.state_dict())"
   ]
  },
  {
   "cell_type": "markdown",
   "metadata": {},
   "source": [
    "## Zrób to sam. Polecane przećwiczyć przed kolejnymi ćwiczeniami.\n",
    "\n",
    "Spróbujmy przewidzieć ocenę wina na podstawie jego parametrów"
   ]
  },
  {
   "cell_type": "code",
   "execution_count": null,
   "metadata": {
    "ExecuteTime": {
     "end_time": "2021-10-11T15:54:03.496453Z",
     "start_time": "2021-10-11T15:53:59.598809Z"
    }
   },
   "outputs": [],
   "source": [
    "import pandas as pd\n",
    "df = pd.read_csv('https://archive.ics.uci.edu/ml/machine-learning-databases/wine-quality/winequality-white.csv', delimiter=\";\")"
   ]
  },
  {
   "cell_type": "markdown",
   "metadata": {},
   "source": [
    "#### ... Jakieś wstępne przetwarzanie danych?"
   ]
  },
  {
   "cell_type": "code",
   "execution_count": null,
   "metadata": {
    "ExecuteTime": {
     "end_time": "2021-10-09T07:01:02.263945Z",
     "start_time": "2021-10-09T07:01:02.252840Z"
    }
   },
   "outputs": [
    {
     "data": {
      "text/plain": [
       "(3918, 12)"
      ]
     },
     "execution_count": 6,
     "metadata": {},
     "output_type": "execute_result"
    }
   ],
   "source": [
    "train=df.sample(frac=0.8,random_state=200) #random state is a seed value\n",
    "test=df.drop(train.index)\n",
    "train.shape"
   ]
  },
  {
   "cell_type": "code",
   "execution_count": null,
   "metadata": {
    "ExecuteTime": {
     "end_time": "2021-10-09T07:02:23.882290Z",
     "start_time": "2021-10-09T07:02:23.878126Z"
    }
   },
   "outputs": [],
   "source": [
    "import torch.utils.data as data"
   ]
  },
  {
   "cell_type": "code",
   "execution_count": null,
   "metadata": {
    "ExecuteTime": {
     "end_time": "2021-10-09T07:06:07.644344Z",
     "start_time": "2021-10-09T07:06:07.634358Z"
    }
   },
   "outputs": [],
   "source": [
    "train_dataset = data.TensorDataset(torch.from_numpy(train.values[:,:-1]),torch.from_numpy(train.values[:,-1]))\n",
    "train_dataset = data.TensorDataset(torch.from_numpy(test.values[:,:-1]),torch.from_numpy(test.values[:,-1]))\n",
    "\n",
    "next(iter(train_dataset))"
   ]
  }
 ],
 "metadata": {
  "kernelspec": {
   "display_name": ".venv",
   "language": "python",
   "name": "python3"
  },
  "language_info": {
   "codemirror_mode": {
    "name": "ipython",
    "version": 3
   },
   "file_extension": ".py",
   "mimetype": "text/x-python",
   "name": "python",
   "nbconvert_exporter": "python",
   "pygments_lexer": "ipython3",
   "version": "3.13.1"
  },
  "varInspector": {
   "cols": {
    "lenName": 16,
    "lenType": 16,
    "lenVar": 40
   },
   "kernels_config": {
    "python": {
     "delete_cmd_postfix": "",
     "delete_cmd_prefix": "del ",
     "library": "var_list.py",
     "varRefreshCmd": "print(var_dic_list())"
    },
    "r": {
     "delete_cmd_postfix": ") ",
     "delete_cmd_prefix": "rm(",
     "library": "var_list.r",
     "varRefreshCmd": "cat(var_dic_list()) "
    }
   },
   "types_to_exclude": [
    "module",
    "function",
    "builtin_function_or_method",
    "instance",
    "_Feature"
   ],
   "window_display": false
  }
 },
 "nbformat": 4,
 "nbformat_minor": 4
}
